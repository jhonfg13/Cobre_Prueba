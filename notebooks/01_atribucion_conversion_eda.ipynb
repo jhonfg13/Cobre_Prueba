{
 "cells": [
  {
   "cell_type": "markdown",
   "metadata": {},
   "source": [
    "## **Librerias**"
   ]
  },
  {
   "cell_type": "code",
   "execution_count": 1,
   "metadata": {},
   "outputs": [],
   "source": [
    "import pandas as pd\n",
    "import numpy as np\n",
    "import plotly.express as px"
   ]
  },
  {
   "cell_type": "markdown",
   "metadata": {},
   "source": [
    "## **Preparación de Datos**"
   ]
  },
  {
   "cell_type": "code",
   "execution_count": 2,
   "metadata": {},
   "outputs": [],
   "source": [
    "df_closed = pd.read_csv(\"../data/raw/olist_closed_deals_dataset.csv\")\n",
    "#\n",
    "df_mkt = pd.read_csv(\"../data/raw/olist_marketing_qualified_leads_dataset.csv\")"
   ]
  },
  {
   "cell_type": "code",
   "execution_count": 3,
   "metadata": {},
   "outputs": [
    {
     "name": "stdout",
     "output_type": "stream",
     "text": [
      "<class 'pandas.core.frame.DataFrame'>\n",
      "RangeIndex: 8000 entries, 0 to 7999\n",
      "Data columns (total 4 columns):\n",
      " #   Column              Non-Null Count  Dtype \n",
      "---  ------              --------------  ----- \n",
      " 0   mql_id              8000 non-null   object\n",
      " 1   first_contact_date  8000 non-null   object\n",
      " 2   landing_page_id     8000 non-null   object\n",
      " 3   origin              7940 non-null   object\n",
      "dtypes: object(4)\n",
      "memory usage: 250.1+ KB\n"
     ]
    }
   ],
   "source": [
    "df_mkt.info()"
   ]
  },
  {
   "cell_type": "code",
   "execution_count": 4,
   "metadata": {},
   "outputs": [
    {
     "data": {
      "text/plain": [
       "8000"
      ]
     },
     "execution_count": 4,
     "metadata": {},
     "output_type": "execute_result"
    }
   ],
   "source": [
    "df_mkt['mql_id'].nunique()"
   ]
  },
  {
   "cell_type": "code",
   "execution_count": 5,
   "metadata": {},
   "outputs": [],
   "source": [
    "def get_low_completion_columns(df, seller_id_col='seller_id', threshold=80):\n",
    "    \"\"\"\n",
    "    Retorna las columnas que tienen un porcentaje de completitud menor al threshold especificado,\n",
    "    calculado en relación a la cantidad de seller_id únicos.\n",
    "    \n",
    "    Parameters:\n",
    "    -----------\n",
    "    df : pandas.DataFrame\n",
    "        DataFrame a analizar\n",
    "    seller_id_col : str\n",
    "        Nombre de la columna que contiene el seller_id\n",
    "    threshold : int\n",
    "        Porcentaje mínimo de completitud requerido (0-100)\n",
    "    \n",
    "    Returns:\n",
    "    --------\n",
    "    list\n",
    "        Lista de columnas que no cumplen con el porcentaje mínimo de completitud\n",
    "    \"\"\"\n",
    "    \n",
    "    # Cantidad de sellers únicos\n",
    "    total_sellers = df[seller_id_col].nunique()\n",
    "    \n",
    "    # Calcular porcentaje de completitud para cada columna\n",
    "    completion_rates = (df.count() / total_sellers * 100).round(2)\n",
    "    \n",
    "    # Filtrar columnas por debajo del threshold\n",
    "    low_completion_cols = completion_rates[completion_rates < threshold].index.tolist()\n",
    "    \n",
    "    return low_completion_cols"
   ]
  },
  {
   "cell_type": "code",
   "execution_count": 6,
   "metadata": {},
   "outputs": [],
   "source": [
    "df_mkt_closed = df_mkt.merge(df_closed, on='mql_id', how='left')\n",
    "#\n",
    "# Usar el análisis\n",
    "# Asumiendo que tu DataFrame se llama 'df'\n",
    "low_quality_columns = get_low_completion_columns(df_mkt_closed, threshold=60)\n",
    "#\n",
    "list_drop_columns = ['landing_page_id', 'seller_id', 'sdr_id', 'sr_id'] + low_quality_columns\n",
    "#\n",
    "df_mkt_closed = df_mkt_closed.drop(columns=list_drop_columns)\n",
    "#\n",
    "#\n",
    "df_processed = df_mkt_closed.assign(\n",
    "        first_contact_date=lambda df: pd.to_datetime(df_mkt_closed['first_contact_date'], format='%Y-%m-%d', errors='coerce'),\n",
    "        won_date= pd.to_datetime(df_mkt_closed['won_date'].str[:10], format='%Y-%m-%d', errors='coerce'),\n",
    "        target= lambda df: np.where(df_mkt_closed['won_date'].isnull(), 0, 1),\n",
    "        origin= lambda df: np.where(df_mkt_closed['origin'].isnull(), 'unknown', df_mkt_closed['origin']))\n",
    "#\n",
    "df_processed['days_to_convert'] = (df_processed['won_date'] - df_processed['first_contact_date']).dt.days"
   ]
  },
  {
   "cell_type": "code",
   "execution_count": 7,
   "metadata": {},
   "outputs": [],
   "source": [
    "origin_conversion = df_processed.query(\"origin != 'unknown'\")\\\n",
    "                              .groupby('origin', as_index=False)\\\n",
    "                              .agg(mql=('mql_id', 'count'), won=('target', 'sum'),\n",
    "                                   #days_to_convert_mean=('days_to_convert', 'mean'),\n",
    "                                   #days_to_convert_std=('days_to_convert', 'std'),\n",
    "                                   days_to_convert_q3=('days_to_convert', lambda x: x.quantile(0.75))\n",
    "                                   )\n",
    "#\n",
    "# Calcular los porcentajes\n",
    "total_mql = origin_conversion['mql'].sum()\n",
    "total_won = origin_conversion['won'].sum()\n",
    "# Añadir columnas de porcentaje\n",
    "origin_conversion['mql_percentage'] = (origin_conversion['mql'] / total_mql * 100).round(2)\n",
    "origin_conversion['won_percentage'] = (origin_conversion['won'] / total_won * 100).round(2)\n",
    "origin_conversion['weighted_conversion'] = (origin_conversion['won'] / origin_conversion['mql']) * np.log(origin_conversion['mql'])\n",
    "origin_conversion['conversion'] = (origin_conversion['won'] / origin_conversion['mql']  * 100).round(2)"
   ]
  },
  {
   "cell_type": "code",
   "execution_count": 8,
   "metadata": {},
   "outputs": [
    {
     "data": {
      "text/html": [
       "<div>\n",
       "<style scoped>\n",
       "    .dataframe tbody tr th:only-of-type {\n",
       "        vertical-align: middle;\n",
       "    }\n",
       "\n",
       "    .dataframe tbody tr th {\n",
       "        vertical-align: top;\n",
       "    }\n",
       "\n",
       "    .dataframe thead th {\n",
       "        text-align: right;\n",
       "    }\n",
       "</style>\n",
       "<table border=\"1\" class=\"dataframe\">\n",
       "  <thead>\n",
       "    <tr style=\"text-align: right;\">\n",
       "      <th></th>\n",
       "      <th>origin</th>\n",
       "      <th>mql</th>\n",
       "      <th>won</th>\n",
       "      <th>days_to_convert_q3</th>\n",
       "      <th>mql_percentage</th>\n",
       "      <th>won_percentage</th>\n",
       "      <th>weighted_conversion</th>\n",
       "      <th>conversion</th>\n",
       "    </tr>\n",
       "  </thead>\n",
       "  <tbody>\n",
       "    <tr>\n",
       "      <th>3</th>\n",
       "      <td>organic_search</td>\n",
       "      <td>2296</td>\n",
       "      <td>271</td>\n",
       "      <td>55.50</td>\n",
       "      <td>33.56</td>\n",
       "      <td>41.76</td>\n",
       "      <td>0.91</td>\n",
       "      <td>11.80</td>\n",
       "    </tr>\n",
       "    <tr>\n",
       "      <th>6</th>\n",
       "      <td>paid_search</td>\n",
       "      <td>1586</td>\n",
       "      <td>195</td>\n",
       "      <td>80.00</td>\n",
       "      <td>23.18</td>\n",
       "      <td>30.05</td>\n",
       "      <td>0.91</td>\n",
       "      <td>12.30</td>\n",
       "    </tr>\n",
       "    <tr>\n",
       "      <th>0</th>\n",
       "      <td>direct_traffic</td>\n",
       "      <td>499</td>\n",
       "      <td>56</td>\n",
       "      <td>32.25</td>\n",
       "      <td>7.29</td>\n",
       "      <td>8.63</td>\n",
       "      <td>0.70</td>\n",
       "      <td>11.22</td>\n",
       "    </tr>\n",
       "    <tr>\n",
       "      <th>7</th>\n",
       "      <td>referral</td>\n",
       "      <td>284</td>\n",
       "      <td>24</td>\n",
       "      <td>35.25</td>\n",
       "      <td>4.15</td>\n",
       "      <td>3.70</td>\n",
       "      <td>0.48</td>\n",
       "      <td>8.45</td>\n",
       "    </tr>\n",
       "    <tr>\n",
       "      <th>8</th>\n",
       "      <td>social</td>\n",
       "      <td>1350</td>\n",
       "      <td>75</td>\n",
       "      <td>84.00</td>\n",
       "      <td>19.73</td>\n",
       "      <td>11.56</td>\n",
       "      <td>0.40</td>\n",
       "      <td>5.56</td>\n",
       "    </tr>\n",
       "    <tr>\n",
       "      <th>1</th>\n",
       "      <td>display</td>\n",
       "      <td>118</td>\n",
       "      <td>6</td>\n",
       "      <td>14.50</td>\n",
       "      <td>1.72</td>\n",
       "      <td>0.92</td>\n",
       "      <td>0.24</td>\n",
       "      <td>5.08</td>\n",
       "    </tr>\n",
       "    <tr>\n",
       "      <th>5</th>\n",
       "      <td>other_publicities</td>\n",
       "      <td>65</td>\n",
       "      <td>3</td>\n",
       "      <td>41.50</td>\n",
       "      <td>0.95</td>\n",
       "      <td>0.46</td>\n",
       "      <td>0.19</td>\n",
       "      <td>4.62</td>\n",
       "    </tr>\n",
       "    <tr>\n",
       "      <th>2</th>\n",
       "      <td>email</td>\n",
       "      <td>493</td>\n",
       "      <td>15</td>\n",
       "      <td>62.00</td>\n",
       "      <td>7.21</td>\n",
       "      <td>2.31</td>\n",
       "      <td>0.19</td>\n",
       "      <td>3.04</td>\n",
       "    </tr>\n",
       "    <tr>\n",
       "      <th>4</th>\n",
       "      <td>other</td>\n",
       "      <td>150</td>\n",
       "      <td>4</td>\n",
       "      <td>20.25</td>\n",
       "      <td>2.19</td>\n",
       "      <td>0.62</td>\n",
       "      <td>0.13</td>\n",
       "      <td>2.67</td>\n",
       "    </tr>\n",
       "  </tbody>\n",
       "</table>\n",
       "</div>"
      ],
      "text/plain": [
       "              origin   mql  won  days_to_convert_q3  mql_percentage  \\\n",
       "3     organic_search  2296  271               55.50           33.56   \n",
       "6        paid_search  1586  195               80.00           23.18   \n",
       "0     direct_traffic   499   56               32.25            7.29   \n",
       "7           referral   284   24               35.25            4.15   \n",
       "8             social  1350   75               84.00           19.73   \n",
       "1            display   118    6               14.50            1.72   \n",
       "5  other_publicities    65    3               41.50            0.95   \n",
       "2              email   493   15               62.00            7.21   \n",
       "4              other   150    4               20.25            2.19   \n",
       "\n",
       "   won_percentage  weighted_conversion  conversion  \n",
       "3           41.76                 0.91       11.80  \n",
       "6           30.05                 0.91       12.30  \n",
       "0            8.63                 0.70       11.22  \n",
       "7            3.70                 0.48        8.45  \n",
       "8           11.56                 0.40        5.56  \n",
       "1            0.92                 0.24        5.08  \n",
       "5            0.46                 0.19        4.62  \n",
       "2            2.31                 0.19        3.04  \n",
       "4            0.62                 0.13        2.67  "
      ]
     },
     "execution_count": 8,
     "metadata": {},
     "output_type": "execute_result"
    }
   ],
   "source": [
    "origin_conversion.sort_values(by='weighted_conversion', ascending=False).round(2)"
   ]
  },
  {
   "cell_type": "code",
   "execution_count": 9,
   "metadata": {},
   "outputs": [
    {
     "data": {
      "application/vnd.plotly.v1+json": {
       "config": {
        "plotlyServerURL": "https://plot.ly"
       },
       "data": [
        {
         "alignmentgroup": "True",
         "hovertemplate": "origin=%{x}<br>days_to_convert=%{y}<extra></extra>",
         "legendgroup": "social",
         "marker": {
          "color": "#636efa"
         },
         "name": "social",
         "notched": false,
         "offsetgroup": "social",
         "orientation": "v",
         "showlegend": true,
         "type": "box",
         "x": [
          "social",
          "social",
          "social",
          "social",
          "social",
          "social",
          "social",
          "social",
          "social",
          "social",
          "social",
          "social",
          "social",
          "social",
          "social",
          "social",
          "social",
          "social",
          "social",
          "social",
          "social",
          "social",
          "social",
          "social",
          "social",
          "social",
          "social",
          "social",
          "social",
          "social",
          "social",
          "social",
          "social",
          "social",
          "social",
          "social",
          "social",
          "social",
          "social",
          "social",
          "social",
          "social",
          "social",
          "social",
          "social",
          "social",
          "social",
          "social",
          "social",
          "social",
          "social",
          "social",
          "social",
          "social",
          "social",
          "social",
          "social",
          "social",
          "social",
          "social",
          "social",
          "social",
          "social",
          "social",
          "social",
          "social",
          "social",
          "social",
          "social",
          "social",
          "social",
          "social",
          "social",
          "social",
          "social",
          "social",
          "social",
          "social",
          "social",
          "social",
          "social",
          "social",
          "social",
          "social",
          "social",
          "social",
          "social",
          "social",
          "social",
          "social",
          "social",
          "social",
          "social",
          "social",
          "social",
          "social",
          "social",
          "social",
          "social",
          "social",
          "social",
          "social",
          "social",
          "social",
          "social",
          "social",
          "social",
          "social",
          "social",
          "social",
          "social",
          "social",
          "social",
          "social",
          "social",
          "social",
          "social",
          "social",
          "social",
          "social",
          "social",
          "social",
          "social",
          "social",
          "social",
          "social",
          "social",
          "social",
          "social",
          "social",
          "social",
          "social",
          "social",
          "social",
          "social",
          "social",
          "social",
          "social",
          "social",
          "social",
          "social",
          "social",
          "social",
          "social",
          "social",
          "social",
          "social",
          "social",
          "social",
          "social",
          "social",
          "social",
          "social",
          "social",
          "social",
          "social",
          "social",
          "social",
          "social",
          "social",
          "social",
          "social",
          "social",
          "social",
          "social",
          "social",
          "social",
          "social",
          "social",
          "social",
          "social",
          "social",
          "social",
          "social",
          "social",
          "social",
          "social",
          "social",
          "social",
          "social",
          "social",
          "social",
          "social",
          "social",
          "social",
          "social",
          "social",
          "social",
          "social",
          "social",
          "social",
          "social",
          "social",
          "social",
          "social",
          "social",
          "social",
          "social",
          "social",
          "social",
          "social",
          "social",
          "social",
          "social",
          "social",
          "social",
          "social",
          "social",
          "social",
          "social",
          "social",
          "social",
          "social",
          "social",
          "social",
          "social",
          "social",
          "social",
          "social",
          "social",
          "social",
          "social",
          "social",
          "social",
          "social",
          "social",
          "social",
          "social",
          "social",
          "social",
          "social",
          "social",
          "social",
          "social",
          "social",
          "social",
          "social",
          "social",
          "social",
          "social",
          "social",
          "social",
          "social",
          "social",
          "social",
          "social",
          "social",
          "social",
          "social",
          "social",
          "social",
          "social",
          "social",
          "social",
          "social",
          "social",
          "social",
          "social",
          "social",
          "social",
          "social",
          "social",
          "social",
          "social",
          "social",
          "social",
          "social",
          "social",
          "social",
          "social",
          "social",
          "social",
          "social",
          "social",
          "social",
          "social",
          "social",
          "social",
          "social",
          "social",
          "social",
          "social",
          "social",
          "social",
          "social",
          "social",
          "social",
          "social",
          "social",
          "social",
          "social",
          "social",
          "social",
          "social",
          "social",
          "social",
          "social",
          "social",
          "social",
          "social",
          "social",
          "social",
          "social",
          "social",
          "social",
          "social",
          "social",
          "social",
          "social",
          "social",
          "social",
          "social",
          "social",
          "social",
          "social",
          "social",
          "social",
          "social",
          "social",
          "social",
          "social",
          "social",
          "social",
          "social",
          "social",
          "social",
          "social",
          "social",
          "social",
          "social",
          "social",
          "social",
          "social",
          "social",
          "social",
          "social",
          "social",
          "social",
          "social",
          "social",
          "social",
          "social",
          "social",
          "social",
          "social",
          "social",
          "social",
          "social",
          "social",
          "social",
          "social",
          "social",
          "social",
          "social",
          "social",
          "social",
          "social",
          "social",
          "social",
          "social",
          "social",
          "social",
          "social",
          "social",
          "social",
          "social",
          "social",
          "social",
          "social",
          "social",
          "social",
          "social",
          "social",
          "social",
          "social",
          "social",
          "social",
          "social",
          "social",
          "social",
          "social",
          "social",
          "social",
          "social",
          "social",
          "social",
          "social",
          "social",
          "social",
          "social",
          "social",
          "social",
          "social",
          "social",
          "social",
          "social",
          "social",
          "social",
          "social",
          "social",
          "social",
          "social",
          "social",
          "social",
          "social",
          "social",
          "social",
          "social",
          "social",
          "social",
          "social",
          "social",
          "social",
          "social",
          "social",
          "social",
          "social",
          "social",
          "social",
          "social",
          "social",
          "social",
          "social",
          "social",
          "social",
          "social",
          "social",
          "social",
          "social",
          "social",
          "social",
          "social",
          "social",
          "social",
          "social",
          "social",
          "social",
          "social",
          "social",
          "social",
          "social",
          "social",
          "social",
          "social",
          "social",
          "social",
          "social",
          "social",
          "social",
          "social",
          "social",
          "social",
          "social",
          "social",
          "social",
          "social",
          "social",
          "social",
          "social",
          "social",
          "social",
          "social",
          "social",
          "social",
          "social",
          "social",
          "social",
          "social",
          "social",
          "social",
          "social",
          "social",
          "social",
          "social",
          "social",
          "social",
          "social",
          "social",
          "social",
          "social",
          "social",
          "social",
          "social",
          "social",
          "social",
          "social",
          "social",
          "social",
          "social",
          "social",
          "social",
          "social",
          "social",
          "social",
          "social",
          "social",
          "social",
          "social",
          "social",
          "social",
          "social",
          "social",
          "social",
          "social",
          "social",
          "social",
          "social",
          "social",
          "social",
          "social",
          "social",
          "social",
          "social",
          "social",
          "social",
          "social",
          "social",
          "social",
          "social",
          "social",
          "social",
          "social",
          "social",
          "social",
          "social",
          "social",
          "social",
          "social",
          "social",
          "social",
          "social",
          "social",
          "social",
          "social",
          "social",
          "social",
          "social",
          "social",
          "social",
          "social",
          "social",
          "social",
          "social",
          "social",
          "social",
          "social",
          "social",
          "social",
          "social",
          "social",
          "social",
          "social",
          "social",
          "social",
          "social",
          "social",
          "social",
          "social",
          "social",
          "social",
          "social",
          "social",
          "social",
          "social",
          "social",
          "social",
          "social",
          "social",
          "social",
          "social",
          "social",
          "social",
          "social",
          "social",
          "social",
          "social",
          "social",
          "social",
          "social",
          "social",
          "social",
          "social",
          "social",
          "social",
          "social",
          "social",
          "social",
          "social",
          "social",
          "social",
          "social",
          "social",
          "social",
          "social",
          "social",
          "social",
          "social",
          "social",
          "social",
          "social",
          "social",
          "social",
          "social",
          "social",
          "social",
          "social",
          "social",
          "social",
          "social",
          "social",
          "social",
          "social",
          "social",
          "social",
          "social",
          "social",
          "social",
          "social",
          "social",
          "social",
          "social",
          "social",
          "social",
          "social",
          "social",
          "social",
          "social",
          "social",
          "social",
          "social",
          "social",
          "social",
          "social",
          "social",
          "social",
          "social",
          "social",
          "social",
          "social",
          "social",
          "social",
          "social",
          "social",
          "social",
          "social",
          "social",
          "social",
          "social",
          "social",
          "social",
          "social",
          "social",
          "social",
          "social",
          "social",
          "social",
          "social",
          "social",
          "social",
          "social",
          "social",
          "social",
          "social",
          "social",
          "social",
          "social",
          "social",
          "social",
          "social",
          "social",
          "social",
          "social",
          "social",
          "social",
          "social",
          "social",
          "social",
          "social",
          "social",
          "social",
          "social",
          "social",
          "social",
          "social",
          "social",
          "social",
          "social",
          "social",
          "social",
          "social",
          "social",
          "social",
          "social",
          "social",
          "social",
          "social",
          "social",
          "social",
          "social",
          "social",
          "social",
          "social",
          "social",
          "social",
          "social",
          "social",
          "social",
          "social",
          "social",
          "social",
          "social",
          "social",
          "social",
          "social",
          "social",
          "social",
          "social",
          "social",
          "social",
          "social",
          "social",
          "social",
          "social",
          "social",
          "social",
          "social",
          "social",
          "social",
          "social",
          "social",
          "social",
          "social",
          "social",
          "social",
          "social",
          "social",
          "social",
          "social",
          "social",
          "social",
          "social",
          "social",
          "social",
          "social",
          "social",
          "social",
          "social",
          "social",
          "social",
          "social",
          "social",
          "social",
          "social",
          "social",
          "social",
          "social",
          "social",
          "social",
          "social",
          "social",
          "social",
          "social",
          "social",
          "social",
          "social",
          "social",
          "social",
          "social",
          "social",
          "social",
          "social",
          "social",
          "social",
          "social",
          "social",
          "social",
          "social",
          "social",
          "social",
          "social",
          "social",
          "social",
          "social",
          "social",
          "social",
          "social",
          "social",
          "social",
          "social",
          "social",
          "social",
          "social",
          "social",
          "social",
          "social",
          "social",
          "social",
          "social",
          "social",
          "social",
          "social",
          "social",
          "social",
          "social",
          "social",
          "social",
          "social",
          "social",
          "social",
          "social",
          "social",
          "social",
          "social",
          "social",
          "social",
          "social",
          "social",
          "social",
          "social",
          "social",
          "social",
          "social",
          "social",
          "social",
          "social",
          "social",
          "social",
          "social",
          "social",
          "social",
          "social",
          "social",
          "social",
          "social",
          "social",
          "social",
          "social",
          "social",
          "social",
          "social",
          "social",
          "social",
          "social",
          "social",
          "social",
          "social",
          "social",
          "social",
          "social",
          "social",
          "social",
          "social",
          "social",
          "social",
          "social",
          "social",
          "social",
          "social",
          "social",
          "social",
          "social",
          "social",
          "social",
          "social",
          "social",
          "social",
          "social",
          "social",
          "social",
          "social",
          "social",
          "social",
          "social",
          "social",
          "social",
          "social",
          "social",
          "social",
          "social",
          "social",
          "social",
          "social",
          "social",
          "social",
          "social",
          "social",
          "social",
          "social",
          "social",
          "social",
          "social",
          "social",
          "social",
          "social",
          "social",
          "social",
          "social",
          "social",
          "social",
          "social",
          "social",
          "social",
          "social",
          "social",
          "social",
          "social",
          "social",
          "social",
          "social",
          "social",
          "social",
          "social",
          "social",
          "social",
          "social",
          "social",
          "social",
          "social",
          "social",
          "social",
          "social",
          "social",
          "social",
          "social",
          "social",
          "social",
          "social",
          "social",
          "social",
          "social",
          "social",
          "social",
          "social",
          "social",
          "social",
          "social",
          "social",
          "social",
          "social",
          "social",
          "social",
          "social",
          "social",
          "social",
          "social",
          "social",
          "social",
          "social",
          "social",
          "social",
          "social",
          "social",
          "social",
          "social",
          "social",
          "social",
          "social",
          "social",
          "social",
          "social",
          "social",
          "social",
          "social",
          "social",
          "social",
          "social",
          "social",
          "social",
          "social",
          "social",
          "social",
          "social",
          "social",
          "social",
          "social",
          "social",
          "social",
          "social",
          "social",
          "social",
          "social",
          "social",
          "social",
          "social",
          "social",
          "social",
          "social",
          "social",
          "social",
          "social",
          "social",
          "social",
          "social",
          "social",
          "social",
          "social",
          "social",
          "social",
          "social",
          "social",
          "social",
          "social",
          "social",
          "social",
          "social",
          "social",
          "social",
          "social",
          "social",
          "social",
          "social",
          "social",
          "social",
          "social",
          "social",
          "social",
          "social",
          "social",
          "social",
          "social",
          "social",
          "social",
          "social",
          "social",
          "social",
          "social",
          "social",
          "social",
          "social",
          "social",
          "social",
          "social",
          "social",
          "social",
          "social",
          "social",
          "social",
          "social",
          "social",
          "social",
          "social",
          "social",
          "social",
          "social",
          "social",
          "social",
          "social",
          "social",
          "social",
          "social",
          "social",
          "social",
          "social",
          "social",
          "social",
          "social",
          "social",
          "social",
          "social",
          "social",
          "social",
          "social",
          "social",
          "social",
          "social",
          "social",
          "social",
          "social",
          "social",
          "social",
          "social",
          "social",
          "social",
          "social",
          "social",
          "social",
          "social",
          "social",
          "social",
          "social",
          "social",
          "social",
          "social",
          "social",
          "social",
          "social",
          "social",
          "social",
          "social",
          "social",
          "social",
          "social",
          "social",
          "social",
          "social",
          "social",
          "social",
          "social",
          "social",
          "social",
          "social",
          "social",
          "social",
          "social",
          "social",
          "social",
          "social",
          "social",
          "social",
          "social",
          "social",
          "social",
          "social",
          "social",
          "social",
          "social",
          "social",
          "social",
          "social",
          "social",
          "social",
          "social",
          "social",
          "social",
          "social",
          "social",
          "social",
          "social",
          "social",
          "social",
          "social",
          "social",
          "social",
          "social",
          "social",
          "social",
          "social",
          "social",
          "social",
          "social",
          "social",
          "social",
          "social",
          "social",
          "social",
          "social",
          "social",
          "social",
          "social",
          "social",
          "social",
          "social",
          "social",
          "social",
          "social",
          "social",
          "social",
          "social",
          "social",
          "social",
          "social",
          "social",
          "social",
          "social",
          "social",
          "social",
          "social",
          "social",
          "social",
          "social",
          "social",
          "social",
          "social",
          "social",
          "social",
          "social",
          "social",
          "social",
          "social",
          "social",
          "social",
          "social",
          "social",
          "social",
          "social",
          "social",
          "social",
          "social",
          "social",
          "social",
          "social",
          "social",
          "social",
          "social",
          "social",
          "social",
          "social",
          "social",
          "social",
          "social",
          "social",
          "social",
          "social",
          "social",
          "social",
          "social",
          "social",
          "social",
          "social",
          "social",
          "social",
          "social",
          "social",
          "social",
          "social",
          "social",
          "social",
          "social",
          "social",
          "social",
          "social",
          "social",
          "social",
          "social",
          "social",
          "social",
          "social",
          "social",
          "social",
          "social",
          "social",
          "social",
          "social",
          "social",
          "social",
          "social",
          "social",
          "social",
          "social",
          "social",
          "social",
          "social",
          "social",
          "social",
          "social",
          "social",
          "social",
          "social",
          "social",
          "social",
          "social",
          "social",
          "social",
          "social",
          "social",
          "social",
          "social",
          "social",
          "social",
          "social",
          "social",
          "social",
          "social",
          "social",
          "social",
          "social",
          "social",
          "social",
          "social",
          "social",
          "social",
          "social",
          "social",
          "social",
          "social",
          "social",
          "social",
          "social",
          "social",
          "social",
          "social",
          "social",
          "social",
          "social",
          "social",
          "social",
          "social",
          "social",
          "social",
          "social",
          "social",
          "social",
          "social",
          "social",
          "social",
          "social",
          "social",
          "social",
          "social",
          "social",
          "social",
          "social",
          "social",
          "social",
          "social",
          "social",
          "social",
          "social",
          "social",
          "social",
          "social",
          "social",
          "social",
          "social",
          "social",
          "social",
          "social",
          "social",
          "social",
          "social",
          "social",
          "social",
          "social",
          "social",
          "social",
          "social",
          "social",
          "social",
          "social",
          "social",
          "social",
          "social",
          "social",
          "social",
          "social",
          "social",
          "social",
          "social",
          "social",
          "social",
          "social",
          "social",
          "social",
          "social",
          "social",
          "social",
          "social",
          "social",
          "social",
          "social"
         ],
         "x0": " ",
         "xaxis": "x",
         "y": {
          "bdata": "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",
          "dtype": "f8"
         },
         "y0": " ",
         "yaxis": "y"
        },
        {
         "alignmentgroup": "True",
         "hovertemplate": "origin=%{x}<br>days_to_convert=%{y}<extra></extra>",
         "legendgroup": "paid_search",
         "marker": {
          "color": "#EF553B"
         },
         "name": "paid_search",
         "notched": false,
         "offsetgroup": "paid_search",
         "orientation": "v",
         "showlegend": true,
         "type": "box",
         "x": [
          "paid_search",
          "paid_search",
          "paid_search",
          "paid_search",
          "paid_search",
          "paid_search",
          "paid_search",
          "paid_search",
          "paid_search",
          "paid_search",
          "paid_search",
          "paid_search",
          "paid_search",
          "paid_search",
          "paid_search",
          "paid_search",
          "paid_search",
          "paid_search",
          "paid_search",
          "paid_search",
          "paid_search",
          "paid_search",
          "paid_search",
          "paid_search",
          "paid_search",
          "paid_search",
          "paid_search",
          "paid_search",
          "paid_search",
          "paid_search",
          "paid_search",
          "paid_search",
          "paid_search",
          "paid_search",
          "paid_search",
          "paid_search",
          "paid_search",
          "paid_search",
          "paid_search",
          "paid_search",
          "paid_search",
          "paid_search",
          "paid_search",
          "paid_search",
          "paid_search",
          "paid_search",
          "paid_search",
          "paid_search",
          "paid_search",
          "paid_search",
          "paid_search",
          "paid_search",
          "paid_search",
          "paid_search",
          "paid_search",
          "paid_search",
          "paid_search",
          "paid_search",
          "paid_search",
          "paid_search",
          "paid_search",
          "paid_search",
          "paid_search",
          "paid_search",
          "paid_search",
          "paid_search",
          "paid_search",
          "paid_search",
          "paid_search",
          "paid_search",
          "paid_search",
          "paid_search",
          "paid_search",
          "paid_search",
          "paid_search",
          "paid_search",
          "paid_search",
          "paid_search",
          "paid_search",
          "paid_search",
          "paid_search",
          "paid_search",
          "paid_search",
          "paid_search",
          "paid_search",
          "paid_search",
          "paid_search",
          "paid_search",
          "paid_search",
          "paid_search",
          "paid_search",
          "paid_search",
          "paid_search",
          "paid_search",
          "paid_search",
          "paid_search",
          "paid_search",
          "paid_search",
          "paid_search",
          "paid_search",
          "paid_search",
          "paid_search",
          "paid_search",
          "paid_search",
          "paid_search",
          "paid_search",
          "paid_search",
          "paid_search",
          "paid_search",
          "paid_search",
          "paid_search",
          "paid_search",
          "paid_search",
          "paid_search",
          "paid_search",
          "paid_search",
          "paid_search",
          "paid_search",
          "paid_search",
          "paid_search",
          "paid_search",
          "paid_search",
          "paid_search",
          "paid_search",
          "paid_search",
          "paid_search",
          "paid_search",
          "paid_search",
          "paid_search",
          "paid_search",
          "paid_search",
          "paid_search",
          "paid_search",
          "paid_search",
          "paid_search",
          "paid_search",
          "paid_search",
          "paid_search",
          "paid_search",
          "paid_search",
          "paid_search",
          "paid_search",
          "paid_search",
          "paid_search",
          "paid_search",
          "paid_search",
          "paid_search",
          "paid_search",
          "paid_search",
          "paid_search",
          "paid_search",
          "paid_search",
          "paid_search",
          "paid_search",
          "paid_search",
          "paid_search",
          "paid_search",
          "paid_search",
          "paid_search",
          "paid_search",
          "paid_search",
          "paid_search",
          "paid_search",
          "paid_search",
          "paid_search",
          "paid_search",
          "paid_search",
          "paid_search",
          "paid_search",
          "paid_search",
          "paid_search",
          "paid_search",
          "paid_search",
          "paid_search",
          "paid_search",
          "paid_search",
          "paid_search",
          "paid_search",
          "paid_search",
          "paid_search",
          "paid_search",
          "paid_search",
          "paid_search",
          "paid_search",
          "paid_search",
          "paid_search",
          "paid_search",
          "paid_search",
          "paid_search",
          "paid_search",
          "paid_search",
          "paid_search",
          "paid_search",
          "paid_search",
          "paid_search",
          "paid_search",
          "paid_search",
          "paid_search",
          "paid_search",
          "paid_search",
          "paid_search",
          "paid_search",
          "paid_search",
          "paid_search",
          "paid_search",
          "paid_search",
          "paid_search",
          "paid_search",
          "paid_search",
          "paid_search",
          "paid_search",
          "paid_search",
          "paid_search",
          "paid_search",
          "paid_search",
          "paid_search",
          "paid_search",
          "paid_search",
          "paid_search",
          "paid_search",
          "paid_search",
          "paid_search",
          "paid_search",
          "paid_search",
          "paid_search",
          "paid_search",
          "paid_search",
          "paid_search",
          "paid_search",
          "paid_search",
          "paid_search",
          "paid_search",
          "paid_search",
          "paid_search",
          "paid_search",
          "paid_search",
          "paid_search",
          "paid_search",
          "paid_search",
          "paid_search",
          "paid_search",
          "paid_search",
          "paid_search",
          "paid_search",
          "paid_search",
          "paid_search",
          "paid_search",
          "paid_search",
          "paid_search",
          "paid_search",
          "paid_search",
          "paid_search",
          "paid_search",
          "paid_search",
          "paid_search",
          "paid_search",
          "paid_search",
          "paid_search",
          "paid_search",
          "paid_search",
          "paid_search",
          "paid_search",
          "paid_search",
          "paid_search",
          "paid_search",
          "paid_search",
          "paid_search",
          "paid_search",
          "paid_search",
          "paid_search",
          "paid_search",
          "paid_search",
          "paid_search",
          "paid_search",
          "paid_search",
          "paid_search",
          "paid_search",
          "paid_search",
          "paid_search",
          "paid_search",
          "paid_search",
          "paid_search",
          "paid_search",
          "paid_search",
          "paid_search",
          "paid_search",
          "paid_search",
          "paid_search",
          "paid_search",
          "paid_search",
          "paid_search",
          "paid_search",
          "paid_search",
          "paid_search",
          "paid_search",
          "paid_search",
          "paid_search",
          "paid_search",
          "paid_search",
          "paid_search",
          "paid_search",
          "paid_search",
          "paid_search",
          "paid_search",
          "paid_search",
          "paid_search",
          "paid_search",
          "paid_search",
          "paid_search",
          "paid_search",
          "paid_search",
          "paid_search",
          "paid_search",
          "paid_search",
          "paid_search",
          "paid_search",
          "paid_search",
          "paid_search",
          "paid_search",
          "paid_search",
          "paid_search",
          "paid_search",
          "paid_search",
          "paid_search",
          "paid_search",
          "paid_search",
          "paid_search",
          "paid_search",
          "paid_search",
          "paid_search",
          "paid_search",
          "paid_search",
          "paid_search",
          "paid_search",
          "paid_search",
          "paid_search",
          "paid_search",
          "paid_search",
          "paid_search",
          "paid_search",
          "paid_search",
          "paid_search",
          "paid_search",
          "paid_search",
          "paid_search",
          "paid_search",
          "paid_search",
          "paid_search",
          "paid_search",
          "paid_search",
          "paid_search",
          "paid_search",
          "paid_search",
          "paid_search",
          "paid_search",
          "paid_search",
          "paid_search",
          "paid_search",
          "paid_search",
          "paid_search",
          "paid_search",
          "paid_search",
          "paid_search",
          "paid_search",
          "paid_search",
          "paid_search",
          "paid_search",
          "paid_search",
          "paid_search",
          "paid_search",
          "paid_search",
          "paid_search",
          "paid_search",
          "paid_search",
          "paid_search",
          "paid_search",
          "paid_search",
          "paid_search",
          "paid_search",
          "paid_search",
          "paid_search",
          "paid_search",
          "paid_search",
          "paid_search",
          "paid_search",
          "paid_search",
          "paid_search",
          "paid_search",
          "paid_search",
          "paid_search",
          "paid_search",
          "paid_search",
          "paid_search",
          "paid_search",
          "paid_search",
          "paid_search",
          "paid_search",
          "paid_search",
          "paid_search",
          "paid_search",
          "paid_search",
          "paid_search",
          "paid_search",
          "paid_search",
          "paid_search",
          "paid_search",
          "paid_search",
          "paid_search",
          "paid_search",
          "paid_search",
          "paid_search",
          "paid_search",
          "paid_search",
          "paid_search",
          "paid_search",
          "paid_search",
          "paid_search",
          "paid_search",
          "paid_search",
          "paid_search",
          "paid_search",
          "paid_search",
          "paid_search",
          "paid_search",
          "paid_search",
          "paid_search",
          "paid_search",
          "paid_search",
          "paid_search",
          "paid_search",
          "paid_search",
          "paid_search",
          "paid_search",
          "paid_search",
          "paid_search",
          "paid_search",
          "paid_search",
          "paid_search",
          "paid_search",
          "paid_search",
          "paid_search",
          "paid_search",
          "paid_search",
          "paid_search",
          "paid_search",
          "paid_search",
          "paid_search",
          "paid_search",
          "paid_search",
          "paid_search",
          "paid_search",
          "paid_search",
          "paid_search",
          "paid_search",
          "paid_search",
          "paid_search",
          "paid_search",
          "paid_search",
          "paid_search",
          "paid_search",
          "paid_search",
          "paid_search",
          "paid_search",
          "paid_search",
          "paid_search",
          "paid_search",
          "paid_search",
          "paid_search",
          "paid_search",
          "paid_search",
          "paid_search",
          "paid_search",
          "paid_search",
          "paid_search",
          "paid_search",
          "paid_search",
          "paid_search",
          "paid_search",
          "paid_search",
          "paid_search",
          "paid_search",
          "paid_search",
          "paid_search",
          "paid_search",
          "paid_search",
          "paid_search",
          "paid_search",
          "paid_search",
          "paid_search",
          "paid_search",
          "paid_search",
          "paid_search",
          "paid_search",
          "paid_search",
          "paid_search",
          "paid_search",
          "paid_search",
          "paid_search",
          "paid_search",
          "paid_search",
          "paid_search",
          "paid_search",
          "paid_search",
          "paid_search",
          "paid_search",
          "paid_search",
          "paid_search",
          "paid_search",
          "paid_search",
          "paid_search",
          "paid_search",
          "paid_search",
          "paid_search",
          "paid_search",
          "paid_search",
          "paid_search",
          "paid_search",
          "paid_search",
          "paid_search",
          "paid_search",
          "paid_search",
          "paid_search",
          "paid_search",
          "paid_search",
          "paid_search",
          "paid_search",
          "paid_search",
          "paid_search",
          "paid_search",
          "paid_search",
          "paid_search",
          "paid_search",
          "paid_search",
          "paid_search",
          "paid_search",
          "paid_search",
          "paid_search",
          "paid_search",
          "paid_search",
          "paid_search",
          "paid_search",
          "paid_search",
          "paid_search",
          "paid_search",
          "paid_search",
          "paid_search",
          "paid_search",
          "paid_search",
          "paid_search",
          "paid_search",
          "paid_search",
          "paid_search",
          "paid_search",
          "paid_search",
          "paid_search",
          "paid_search",
          "paid_search",
          "paid_search",
          "paid_search",
          "paid_search",
          "paid_search",
          "paid_search",
          "paid_search",
          "paid_search",
          "paid_search",
          "paid_search",
          "paid_search",
          "paid_search",
          "paid_search",
          "paid_search",
          "paid_search",
          "paid_search",
          "paid_search",
          "paid_search",
          "paid_search",
          "paid_search",
          "paid_search",
          "paid_search",
          "paid_search",
          "paid_search",
          "paid_search",
          "paid_search",
          "paid_search",
          "paid_search",
          "paid_search",
          "paid_search",
          "paid_search",
          "paid_search",
          "paid_search",
          "paid_search",
          "paid_search",
          "paid_search",
          "paid_search",
          "paid_search",
          "paid_search",
          "paid_search",
          "paid_search",
          "paid_search",
          "paid_search",
          "paid_search",
          "paid_search",
          "paid_search",
          "paid_search",
          "paid_search",
          "paid_search",
          "paid_search",
          "paid_search",
          "paid_search",
          "paid_search",
          "paid_search",
          "paid_search",
          "paid_search",
          "paid_search",
          "paid_search",
          "paid_search",
          "paid_search",
          "paid_search",
          "paid_search",
          "paid_search",
          "paid_search",
          "paid_search",
          "paid_search",
          "paid_search",
          "paid_search",
          "paid_search",
          "paid_search",
          "paid_search",
          "paid_search",
          "paid_search",
          "paid_search",
          "paid_search",
          "paid_search",
          "paid_search",
          "paid_search",
          "paid_search",
          "paid_search",
          "paid_search",
          "paid_search",
          "paid_search",
          "paid_search",
          "paid_search",
          "paid_search",
          "paid_search",
          "paid_search",
          "paid_search",
          "paid_search",
          "paid_search",
          "paid_search",
          "paid_search",
          "paid_search",
          "paid_search",
          "paid_search",
          "paid_search",
          "paid_search",
          "paid_search",
          "paid_search",
          "paid_search",
          "paid_search",
          "paid_search",
          "paid_search",
          "paid_search",
          "paid_search",
          "paid_search",
          "paid_search",
          "paid_search",
          "paid_search",
          "paid_search",
          "paid_search",
          "paid_search",
          "paid_search",
          "paid_search",
          "paid_search",
          "paid_search",
          "paid_search",
          "paid_search",
          "paid_search",
          "paid_search",
          "paid_search",
          "paid_search",
          "paid_search",
          "paid_search",
          "paid_search",
          "paid_search",
          "paid_search",
          "paid_search",
          "paid_search",
          "paid_search",
          "paid_search",
          "paid_search",
          "paid_search",
          "paid_search",
          "paid_search",
          "paid_search",
          "paid_search",
          "paid_search",
          "paid_search",
          "paid_search",
          "paid_search",
          "paid_search",
          "paid_search",
          "paid_search",
          "paid_search",
          "paid_search",
          "paid_search",
          "paid_search",
          "paid_search",
          "paid_search",
          "paid_search",
          "paid_search",
          "paid_search",
          "paid_search",
          "paid_search",
          "paid_search",
          "paid_search",
          "paid_search",
          "paid_search",
          "paid_search",
          "paid_search",
          "paid_search",
          "paid_search",
          "paid_search",
          "paid_search",
          "paid_search",
          "paid_search",
          "paid_search",
          "paid_search",
          "paid_search",
          "paid_search",
          "paid_search",
          "paid_search",
          "paid_search",
          "paid_search",
          "paid_search",
          "paid_search",
          "paid_search",
          "paid_search",
          "paid_search",
          "paid_search",
          "paid_search",
          "paid_search",
          "paid_search",
          "paid_search",
          "paid_search",
          "paid_search",
          "paid_search",
          "paid_search",
          "paid_search",
          "paid_search",
          "paid_search",
          "paid_search",
          "paid_search",
          "paid_search",
          "paid_search",
          "paid_search",
          "paid_search",
          "paid_search",
          "paid_search",
          "paid_search",
          "paid_search",
          "paid_search",
          "paid_search",
          "paid_search",
          "paid_search",
          "paid_search",
          "paid_search",
          "paid_search",
          "paid_search",
          "paid_search",
          "paid_search",
          "paid_search",
          "paid_search",
          "paid_search",
          "paid_search",
          "paid_search",
          "paid_search",
          "paid_search",
          "paid_search",
          "paid_search",
          "paid_search",
          "paid_search",
          "paid_search",
          "paid_search",
          "paid_search",
          "paid_search",
          "paid_search",
          "paid_search",
          "paid_search",
          "paid_search",
          "paid_search",
          "paid_search",
          "paid_search",
          "paid_search",
          "paid_search",
          "paid_search",
          "paid_search",
          "paid_search",
          "paid_search",
          "paid_search",
          "paid_search",
          "paid_search",
          "paid_search",
          "paid_search",
          "paid_search",
          "paid_search",
          "paid_search",
          "paid_search",
          "paid_search",
          "paid_search",
          "paid_search",
          "paid_search",
          "paid_search",
          "paid_search",
          "paid_search",
          "paid_search",
          "paid_search",
          "paid_search",
          "paid_search",
          "paid_search",
          "paid_search",
          "paid_search",
          "paid_search",
          "paid_search",
          "paid_search",
          "paid_search",
          "paid_search",
          "paid_search",
          "paid_search",
          "paid_search",
          "paid_search",
          "paid_search",
          "paid_search",
          "paid_search",
          "paid_search",
          "paid_search",
          "paid_search",
          "paid_search",
          "paid_search",
          "paid_search",
          "paid_search",
          "paid_search",
          "paid_search",
          "paid_search",
          "paid_search",
          "paid_search",
          "paid_search",
          "paid_search",
          "paid_search",
          "paid_search",
          "paid_search",
          "paid_search",
          "paid_search",
          "paid_search",
          "paid_search",
          "paid_search",
          "paid_search",
          "paid_search",
          "paid_search",
          "paid_search",
          "paid_search",
          "paid_search",
          "paid_search",
          "paid_search",
          "paid_search",
          "paid_search",
          "paid_search",
          "paid_search",
          "paid_search",
          "paid_search",
          "paid_search",
          "paid_search",
          "paid_search",
          "paid_search",
          "paid_search",
          "paid_search",
          "paid_search",
          "paid_search",
          "paid_search",
          "paid_search",
          "paid_search",
          "paid_search",
          "paid_search",
          "paid_search",
          "paid_search",
          "paid_search",
          "paid_search",
          "paid_search",
          "paid_search",
          "paid_search",
          "paid_search",
          "paid_search",
          "paid_search",
          "paid_search",
          "paid_search",
          "paid_search",
          "paid_search",
          "paid_search",
          "paid_search",
          "paid_search",
          "paid_search",
          "paid_search",
          "paid_search",
          "paid_search",
          "paid_search",
          "paid_search",
          "paid_search",
          "paid_search",
          "paid_search",
          "paid_search",
          "paid_search",
          "paid_search",
          "paid_search",
          "paid_search",
          "paid_search",
          "paid_search",
          "paid_search",
          "paid_search",
          "paid_search",
          "paid_search",
          "paid_search",
          "paid_search",
          "paid_search",
          "paid_search",
          "paid_search",
          "paid_search",
          "paid_search",
          "paid_search",
          "paid_search",
          "paid_search",
          "paid_search",
          "paid_search",
          "paid_search",
          "paid_search",
          "paid_search",
          "paid_search",
          "paid_search",
          "paid_search",
          "paid_search",
          "paid_search",
          "paid_search",
          "paid_search",
          "paid_search",
          "paid_search",
          "paid_search",
          "paid_search",
          "paid_search",
          "paid_search",
          "paid_search",
          "paid_search",
          "paid_search",
          "paid_search",
          "paid_search",
          "paid_search",
          "paid_search",
          "paid_search",
          "paid_search",
          "paid_search",
          "paid_search",
          "paid_search",
          "paid_search",
          "paid_search",
          "paid_search",
          "paid_search",
          "paid_search",
          "paid_search",
          "paid_search",
          "paid_search",
          "paid_search",
          "paid_search",
          "paid_search",
          "paid_search",
          "paid_search",
          "paid_search",
          "paid_search",
          "paid_search",
          "paid_search",
          "paid_search",
          "paid_search",
          "paid_search",
          "paid_search",
          "paid_search",
          "paid_search",
          "paid_search",
          "paid_search",
          "paid_search",
          "paid_search",
          "paid_search",
          "paid_search",
          "paid_search",
          "paid_search",
          "paid_search",
          "paid_search",
          "paid_search",
          "paid_search",
          "paid_search",
          "paid_search",
          "paid_search",
          "paid_search",
          "paid_search",
          "paid_search",
          "paid_search",
          "paid_search",
          "paid_search",
          "paid_search",
          "paid_search",
          "paid_search",
          "paid_search",
          "paid_search",
          "paid_search",
          "paid_search",
          "paid_search",
          "paid_search",
          "paid_search",
          "paid_search",
          "paid_search",
          "paid_search",
          "paid_search",
          "paid_search",
          "paid_search",
          "paid_search",
          "paid_search",
          "paid_search",
          "paid_search",
          "paid_search",
          "paid_search",
          "paid_search",
          "paid_search",
          "paid_search",
          "paid_search",
          "paid_search",
          "paid_search",
          "paid_search",
          "paid_search",
          "paid_search",
          "paid_search",
          "paid_search",
          "paid_search",
          "paid_search",
          "paid_search",
          "paid_search",
          "paid_search",
          "paid_search",
          "paid_search",
          "paid_search",
          "paid_search",
          "paid_search",
          "paid_search",
          "paid_search",
          "paid_search",
          "paid_search",
          "paid_search",
          "paid_search",
          "paid_search",
          "paid_search",
          "paid_search",
          "paid_search",
          "paid_search",
          "paid_search",
          "paid_search",
          "paid_search",
          "paid_search",
          "paid_search",
          "paid_search",
          "paid_search",
          "paid_search",
          "paid_search",
          "paid_search",
          "paid_search",
          "paid_search",
          "paid_search",
          "paid_search",
          "paid_search",
          "paid_search",
          "paid_search",
          "paid_search",
          "paid_search",
          "paid_search",
          "paid_search",
          "paid_search",
          "paid_search",
          "paid_search",
          "paid_search",
          "paid_search",
          "paid_search",
          "paid_search",
          "paid_search",
          "paid_search",
          "paid_search",
          "paid_search",
          "paid_search",
          "paid_search",
          "paid_search",
          "paid_search",
          "paid_search",
          "paid_search",
          "paid_search",
          "paid_search",
          "paid_search",
          "paid_search",
          "paid_search",
          "paid_search",
          "paid_search",
          "paid_search",
          "paid_search",
          "paid_search",
          "paid_search",
          "paid_search",
          "paid_search",
          "paid_search",
          "paid_search",
          "paid_search",
          "paid_search",
          "paid_search",
          "paid_search",
          "paid_search",
          "paid_search",
          "paid_search",
          "paid_search",
          "paid_search",
          "paid_search",
          "paid_search",
          "paid_search",
          "paid_search",
          "paid_search",
          "paid_search",
          "paid_search",
          "paid_search",
          "paid_search",
          "paid_search",
          "paid_search",
          "paid_search",
          "paid_search",
          "paid_search",
          "paid_search",
          "paid_search",
          "paid_search",
          "paid_search",
          "paid_search",
          "paid_search",
          "paid_search",
          "paid_search",
          "paid_search",
          "paid_search",
          "paid_search",
          "paid_search",
          "paid_search",
          "paid_search",
          "paid_search",
          "paid_search",
          "paid_search",
          "paid_search",
          "paid_search",
          "paid_search",
          "paid_search",
          "paid_search",
          "paid_search",
          "paid_search",
          "paid_search",
          "paid_search",
          "paid_search",
          "paid_search",
          "paid_search",
          "paid_search",
          "paid_search",
          "paid_search",
          "paid_search",
          "paid_search",
          "paid_search",
          "paid_search",
          "paid_search",
          "paid_search",
          "paid_search",
          "paid_search",
          "paid_search",
          "paid_search",
          "paid_search",
          "paid_search",
          "paid_search",
          "paid_search",
          "paid_search",
          "paid_search",
          "paid_search",
          "paid_search",
          "paid_search",
          "paid_search",
          "paid_search",
          "paid_search",
          "paid_search",
          "paid_search",
          "paid_search",
          "paid_search",
          "paid_search",
          "paid_search",
          "paid_search",
          "paid_search",
          "paid_search",
          "paid_search",
          "paid_search",
          "paid_search",
          "paid_search",
          "paid_search",
          "paid_search",
          "paid_search",
          "paid_search",
          "paid_search",
          "paid_search",
          "paid_search",
          "paid_search",
          "paid_search",
          "paid_search",
          "paid_search",
          "paid_search",
          "paid_search",
          "paid_search",
          "paid_search",
          "paid_search",
          "paid_search",
          "paid_search",
          "paid_search",
          "paid_search",
          "paid_search",
          "paid_search",
          "paid_search",
          "paid_search",
          "paid_search",
          "paid_search",
          "paid_search",
          "paid_search",
          "paid_search",
          "paid_search",
          "paid_search",
          "paid_search",
          "paid_search",
          "paid_search",
          "paid_search",
          "paid_search",
          "paid_search",
          "paid_search",
          "paid_search",
          "paid_search",
          "paid_search",
          "paid_search",
          "paid_search",
          "paid_search",
          "paid_search",
          "paid_search",
          "paid_search",
          "paid_search",
          "paid_search",
          "paid_search",
          "paid_search",
          "paid_search",
          "paid_search",
          "paid_search",
          "paid_search",
          "paid_search",
          "paid_search",
          "paid_search",
          "paid_search",
          "paid_search",
          "paid_search",
          "paid_search",
          "paid_search",
          "paid_search",
          "paid_search",
          "paid_search",
          "paid_search",
          "paid_search",
          "paid_search",
          "paid_search",
          "paid_search",
          "paid_search",
          "paid_search",
          "paid_search",
          "paid_search",
          "paid_search",
          "paid_search",
          "paid_search",
          "paid_search",
          "paid_search",
          "paid_search",
          "paid_search",
          "paid_search",
          "paid_search",
          "paid_search",
          "paid_search",
          "paid_search",
          "paid_search",
          "paid_search",
          "paid_search",
          "paid_search",
          "paid_search",
          "paid_search",
          "paid_search",
          "paid_search",
          "paid_search",
          "paid_search",
          "paid_search",
          "paid_search",
          "paid_search",
          "paid_search",
          "paid_search",
          "paid_search",
          "paid_search",
          "paid_search",
          "paid_search",
          "paid_search",
          "paid_search",
          "paid_search",
          "paid_search",
          "paid_search",
          "paid_search",
          "paid_search",
          "paid_search",
          "paid_search",
          "paid_search",
          "paid_search",
          "paid_search",
          "paid_search",
          "paid_search",
          "paid_search",
          "paid_search",
          "paid_search",
          "paid_search",
          "paid_search",
          "paid_search",
          "paid_search",
          "paid_search",
          "paid_search",
          "paid_search",
          "paid_search",
          "paid_search",
          "paid_search",
          "paid_search",
          "paid_search",
          "paid_search",
          "paid_search",
          "paid_search",
          "paid_search",
          "paid_search",
          "paid_search",
          "paid_search",
          "paid_search",
          "paid_search",
          "paid_search",
          "paid_search",
          "paid_search",
          "paid_search",
          "paid_search",
          "paid_search",
          "paid_search",
          "paid_search",
          "paid_search",
          "paid_search",
          "paid_search",
          "paid_search",
          "paid_search",
          "paid_search",
          "paid_search",
          "paid_search",
          "paid_search",
          "paid_search",
          "paid_search",
          "paid_search",
          "paid_search",
          "paid_search",
          "paid_search",
          "paid_search",
          "paid_search",
          "paid_search",
          "paid_search",
          "paid_search",
          "paid_search",
          "paid_search",
          "paid_search",
          "paid_search",
          "paid_search",
          "paid_search",
          "paid_search",
          "paid_search",
          "paid_search",
          "paid_search",
          "paid_search",
          "paid_search",
          "paid_search",
          "paid_search",
          "paid_search",
          "paid_search",
          "paid_search",
          "paid_search",
          "paid_search",
          "paid_search",
          "paid_search",
          "paid_search",
          "paid_search",
          "paid_search",
          "paid_search",
          "paid_search",
          "paid_search",
          "paid_search",
          "paid_search",
          "paid_search",
          "paid_search",
          "paid_search",
          "paid_search",
          "paid_search",
          "paid_search",
          "paid_search",
          "paid_search",
          "paid_search",
          "paid_search",
          "paid_search",
          "paid_search",
          "paid_search",
          "paid_search",
          "paid_search",
          "paid_search",
          "paid_search",
          "paid_search",
          "paid_search",
          "paid_search",
          "paid_search",
          "paid_search",
          "paid_search",
          "paid_search",
          "paid_search",
          "paid_search",
          "paid_search",
          "paid_search",
          "paid_search",
          "paid_search",
          "paid_search",
          "paid_search",
          "paid_search",
          "paid_search",
          "paid_search",
          "paid_search",
          "paid_search",
          "paid_search",
          "paid_search",
          "paid_search",
          "paid_search",
          "paid_search",
          "paid_search",
          "paid_search",
          "paid_search",
          "paid_search",
          "paid_search",
          "paid_search",
          "paid_search",
          "paid_search",
          "paid_search",
          "paid_search",
          "paid_search",
          "paid_search",
          "paid_search",
          "paid_search",
          "paid_search",
          "paid_search",
          "paid_search",
          "paid_search",
          "paid_search",
          "paid_search",
          "paid_search",
          "paid_search",
          "paid_search",
          "paid_search",
          "paid_search",
          "paid_search",
          "paid_search",
          "paid_search",
          "paid_search",
          "paid_search",
          "paid_search",
          "paid_search",
          "paid_search",
          "paid_search",
          "paid_search",
          "paid_search",
          "paid_search",
          "paid_search",
          "paid_search",
          "paid_search",
          "paid_search",
          "paid_search",
          "paid_search",
          "paid_search",
          "paid_search",
          "paid_search",
          "paid_search",
          "paid_search",
          "paid_search",
          "paid_search",
          "paid_search",
          "paid_search",
          "paid_search",
          "paid_search",
          "paid_search",
          "paid_search",
          "paid_search",
          "paid_search",
          "paid_search",
          "paid_search",
          "paid_search",
          "paid_search",
          "paid_search",
          "paid_search",
          "paid_search",
          "paid_search",
          "paid_search",
          "paid_search",
          "paid_search",
          "paid_search",
          "paid_search",
          "paid_search",
          "paid_search",
          "paid_search",
          "paid_search",
          "paid_search",
          "paid_search",
          "paid_search",
          "paid_search",
          "paid_search",
          "paid_search",
          "paid_search",
          "paid_search",
          "paid_search",
          "paid_search",
          "paid_search",
          "paid_search",
          "paid_search",
          "paid_search",
          "paid_search",
          "paid_search",
          "paid_search",
          "paid_search",
          "paid_search",
          "paid_search",
          "paid_search",
          "paid_search",
          "paid_search",
          "paid_search",
          "paid_search",
          "paid_search",
          "paid_search",
          "paid_search",
          "paid_search",
          "paid_search",
          "paid_search",
          "paid_search",
          "paid_search",
          "paid_search",
          "paid_search",
          "paid_search",
          "paid_search",
          "paid_search",
          "paid_search",
          "paid_search",
          "paid_search",
          "paid_search",
          "paid_search",
          "paid_search",
          "paid_search",
          "paid_search",
          "paid_search",
          "paid_search",
          "paid_search",
          "paid_search",
          "paid_search",
          "paid_search",
          "paid_search",
          "paid_search",
          "paid_search",
          "paid_search",
          "paid_search",
          "paid_search",
          "paid_search",
          "paid_search",
          "paid_search",
          "paid_search",
          "paid_search",
          "paid_search",
          "paid_search",
          "paid_search",
          "paid_search",
          "paid_search",
          "paid_search"
         ],
         "x0": " ",
         "xaxis": "x",
         "y": {
          "bdata": "AAAAAAAA+H8AAAAAAAD4fwAAAAAAAPh/AAAAAAAA+H8AAAAAAAD4fwAAAAAAAPh/AAAAAAAACEAAAAAAAAD4fwAAAAAAAPh/AAAAAAAA+H8AAAAAAAD4fwAAAAAAAPh/AAAAAAAA+H8AAAAAAAD4fwAAAAAAAPh/AAAAAAAA+H8AAAAAAAD4fwAAAAAAAPh/AAAAAAAA+H8AAAAAAIBnQAAAAAAAAPh/AAAAAAAA+H8AAAAAAAD4fwAAAAAAAPh/AAAAAAAAAEAAAAAAAAD4fwAAAAAAAPh/AAAAAAAA+H8AAAAAAAD4fwAAAAAAAPh/AAAAAAAA+H8AAAAAAAD4fwAAAAAAAPh/AAAAAAAA+H8AAAAAAAD4fwAAAAAAAPh/AAAAAAAAFEAAAAAAAAD4fwAAAAAAAPh/AAAAAAAA+H8AAAAAAAD4fwAAAAAAAPh/AAAAAAAA+H8AAAAAAAD4fwAAAAAAAPh/AAAAAAAA+H8AAAAAAAD4fwAAAAAAAPh/AAAAAAAA+H8AAAAAAAD4fwAAAAAAACZAAAAAAAAA+H8AAAAAAAD4fwAAAAAAAPh/AAAAAAAA+H8AAAAAAADwPwAAAAAAAPh/AAAAAAAA+H8AAAAAAAD4fwAAAAAAAPh/AAAAAAAA+H8AAAAAAAD4fwAAAAAAAPh/AAAAAAAA+H8AAAAAAAD4fwAAAAAAAPh/AAAAAAAA+H8AAAAAAIBvQAAAAAAAAPh/AAAAAAAA+H8AAAAAAAAUQAAAAAAAAPh/AAAAAAAA+H8AAAAAAAD4fwAAAAAAAPh/AAAAAAAA+H8AAAAAAAD4fwAAAAAAAPh/AAAAAAAA+H8AAAAAAAD4fwAAAAAAAPh/AAAAAAAA+H8AAAAAAAD4fwAAAAAAAPh/AAAAAAAA+H8AAAAAAAD4fwAAAAAAAPh/AAAAAAAA+H8AAAAAAAD4fwAAAAAAAPh/AAAAAAAA+H8AAAAAAAD4fwAAAAAAAPh/AAAAAAAA+H8AAAAAAAD4fwAAAAAAAPh/AAAAAAAA+H8AAAAAAAD4fwAAAAAAAPh/AAAAAAAA+H8AAAAAAAD4fwAAAAAAAPh/AAAAAAAA+H8AAAAAAAD4fwAAAAAAAPh/AAAAAAAA+H8AAAAAAAD4fwAAAAAAAPh/AAAAAAAgYkAAAAAAAAD4fwAAAAAAAPh/AAAAAAAA+H8AAAAAAAD4fwAAAAAAAPh/AAAAAAAA+H8AAAAAAAD4fwAAAAAAAPh/AAAAAAAAMEAAAAAAAMBoQAAAAAAAAPh/AAAAAAAA+H8AAAAAAAD4fwAAAAAAAPh/AAAAAAAA+H8AAAAAAAD4fwAAAAAAABRAAAAAAAAALkAAAAAAAAD4fwAAAAAAAPh/AAAAAAAA+H8AAAAAAAD4fwAAAAAAAPh/AAAAAAAA+H8AAAAAAAD4fwAAAAAAAPh/AAAAAAAA+H8AAAAAAAD4fwAAAAAAAPh/AAAAAAAA+H8AAAAAAAD4fwAAAAAAAPh/AAAAAAAA+H8AAAAAAAD4fwAAAAAAAEBAAAAAAAAA+H8AAAAAAAD4fwAAAAAAAPh/AAAAAAAA+H8AAAAAAAD4fwAAAAAAwGZAAAAAAAAA+H8AAAAAAAD4fwAAAAAAAPh/AAAAAAAALEAAAAAAAAD4fwAAAAAAAPh/AAAAAAAA+H8AAAAAAAD4fwAAAAAAAPh/AAAAAAAA+H8AAAAAAAD4fwAAAAAAAPh/AAAAAAAA+H8AAAAAAAAIQAAAAAAAAPh/AAAAAAAA+H8AAAAAAAD4fwAAAAAAAPh/AAAAAAAA+H8AAAAAAAD4fwAAAAAAAPh/AAAAAAAA+H8AAAAAAAD4fwAAAAAAQFhAAAAAAAAA+H8AAAAAAAD4fwAAAAAAAPh/AAAAAAAA+H8AAAAAAAD4fwAAAAAAAPh/AAAAAAAAEEAAAAAAAAD4fwAAAAAAADFAAAAAAAAA+H8AAAAAAAD4fwAAAAAAAPh/AAAAAAAA+H8AAAAAAAD4fwAAAAAAAPh/AAAAAAAA+H8AAAAAAAAAAAAAAAAAAPh/AAAAAAAA+H8AAAAAAAD4fwAAAAAAAPh/AAAAAAAA+H8AAAAAAAD4fwAAAAAAAPh/AAAAAAAA+H8AAAAAAAD4fwAAAAAAAPh/AAAAAAAA+H8AAAAAAAD4fwAAAAAAAPh/AAAAAAAAO0AAAAAAAAD4fwAAAAAAAPh/AAAAAAAA+H8AAAAAAAD4fwAAAAAAAPh/AAAAAAAA+H8AAAAAAMBbQAAAAAAAAPh/AAAAAAAA+H8AAAAAAABGQAAAAAAAAPh/AAAAAAAA+H8AAAAAAAD4fwAAAAAAAPh/AAAAAAAA+H8AAAAAAAD4fwAAAAAAAPh/AAAAAAAAGEAAAAAAAAD4fwAAAAAAAPh/AAAAAAAA+H8AAAAAAAD4fwAAAAAAAPh/AAAAAAAA+H8AAAAAAAD4fwAAAAAAABxAAAAAAAAA+H8AAAAAAAD4fwAAAAAAAPh/AAAAAAAA+H8AAAAAAAD4fwAAAAAA4GJAAAAAAAAA+H8AAAAAAAD4fwAAAAAAAPh/AAAAAAAA+H8AAAAAAAD4fwAAAAAAAPh/AAAAAAAA+H8AAAAAAAAIQAAAAAAAAPh/AAAAAAAA+H8AAAAAAAD4fwAAAAAAAGJAAAAAAAAA+H8AAAAAAAD4fwAAAAAAAPh/AAAAAAAALEAAAAAAAAD4fwAAAAAAAPh/AAAAAAAA+H8AAAAAAAD4fwAAAAAAAC5AAAAAAAAA+H8AAAAAAAD4fwAAAAAAAPh/AAAAAAAA+H8AAAAAAAD4fwAAAAAAAPh/AAAAAAAA+H8AAAAAAAD4fwAAAAAAAPh/AAAAAAAA+H8AAAAAAAAAQAAAAAAAAPh/AAAAAAAA+H8AAAAAAAD4fwAAAAAAAPh/AAAAAAAAIEAAAAAAAAD4fwAAAAAAAAAAAAAAAAAA+H8AAAAAAAAUQAAAAAAAAPh/AAAAAAAA+H8AAAAAAAD4fwAAAAAAwF9AAAAAAAAA+H8AAAAAAAD4fwAAAAAAAPh/AAAAAAAA+H8AAAAAAAD4fwAAAAAAAPh/AAAAAAAA+H8AAAAAAAAAQAAAAAAAAPh/AAAAAAAA+H8AAAAAAAD4fwAAAAAAAPh/AAAAAAAA+H8AAAAAAAD4fwAAAAAAAPh/AAAAAAAA+H8AAAAAAAD4fwAAAAAAABBAAAAAAAAA+H8AAAAAAAD4fwAAAAAAAPh/AAAAAAAA8D8AAAAAAAD4fwAAAAAAAPh/AAAAAAAA+H8AAAAAAAD4fwAAAAAAAPh/AAAAAAAA+H8AAAAAAAD4fwAAAAAAADdAAAAAAAAA+H8AAAAAAAAQQAAAAAAAAPh/AAAAAAAA+H8AAAAAAAD4fwAAAAAAAPh/AAAAAAAA+H8AAAAAAAD4fwAAAAAAAPh/AAAAAAAA+H8AAAAAAAD4fwAAAAAAAPh/AAAAAAAA+H8AAAAAAAD4fwAAAAAAAPh/AAAAAAAA+H8AAAAAAAD4fwAAAAAAAPh/AAAAAAAA+H8AAAAAAAD4fwAAAAAAAPh/AAAAAAAA+H8AAAAAAAD4fwAAAAAAAPh/AAAAAAAA+H8AAAAAAAD4fwAAAAAAAPh/AAAAAAAA+H8AAAAAAAD4fwAAAAAAAPh/AAAAAAAA+H8AAAAAAAD4fwAAAAAAAPh/AAAAAAAA+H8AAAAAAAD4fwAAAAAAAPh/AAAAAAAA+H8AAAAAAAD4fwAAAAAAAPh/AAAAAAAA+H8AAAAAAAD4fwAAAAAAAPh/AAAAAAAA+H8AAAAAAAD4fwAAAAAAAPh/AAAAAAAA+H8AAAAAAAD4fwAAAAAAAPh/AAAAAAAA+H8AAAAAAAD4fwAAAAAAAPh/AAAAAAAA+H8AAAAAAAAQQAAAAAAAAPh/AAAAAAAA+H8AAAAAAAD4fwAAAAAAAPh/AAAAAAAA+H8AAAAAAAA8QAAAAAAAAPh/AAAAAAAA+H8AAAAAAAD4fwAAAAAAAPh/AAAAAAAA+H8AAAAAAAD4fwAAAAAAAPh/AAAAAAAA+H8AAAAAAAD4fwAAAAAAAPh/AAAAAAAA+H8AAAAAAAD4fwAAAAAAAPh/AAAAAAAA+H8AAAAAAAD4fwAAAAAAAPh/AAAAAAAA+H8AAAAAAAD4fwAAAAAAAPh/AAAAAACAZkAAAAAAAAD4fwAAAAAAAPh/AAAAAAAA+H8AAAAAAAD4fwAAAAAAAPh/AAAAAAAA+H8AAAAAAAD4fwAAAAAAQFhAAAAAAAAA+H8AAAAAAAD4fwAAAAAAAPh/AAAAAAAA+H8AAAAAAAD4fwAAAAAAAPh/AAAAAAAA+H8AAAAAAAD4fwAAAAAAAPh/AAAAAAAA+H8AAAAAAAD4fwAAAAAAAPh/AAAAAAAA+H8AAAAAAAD4fwAAAAAAAPh/AAAAAAAA+H8AAAAAAEBZQAAAAAAAAPh/AAAAAAAA+H8AAAAAAAD4fwAAAAAAgHRAAAAAAAAA+H8AAAAAAABWQAAAAAAAAPh/AAAAAAAA+H8AAAAAAAD4fwAAAAAAAPh/AAAAAAAA+H8AAAAAAAD4fwAAAAAAAPh/AAAAAAAA+H8AAAAAAAD4fwAAAAAAAPh/AAAAAAAA+H8AAAAAAAD4fwAAAAAAADhAAAAAAAAA+H8AAAAAAAD4fwAAAAAAAPh/AAAAAAAAGEAAAAAAAAD4fwAAAAAAAPh/AAAAAAAA+H8AAAAAAAD4fwAAAAAAAPh/AAAAAAAA+H8AAAAAAAAoQAAAAAAAAPh/AAAAAAAA+H8AAAAAAJB0QAAAAAAAAPh/AAAAAABAYEAAAAAAAAD4fwAAAAAAAPh/AAAAAAAAJkAAAAAAAAAAQAAAAAAAAPh/AAAAAAAA+H8AAAAAAAD4fwAAAAAAAPh/AAAAAAAA+H8AAAAAAAD4fwAAAAAAAPh/AAAAAAAA+H8AAAAAAAD4fwAAAAAAABhAAAAAAAAA+H8AAAAAACBuQAAAAAAAAPh/AAAAAAAAMUAAAAAAAAD4fwAAAAAAAPh/AAAAAAAA+H8AAAAAAAD4fwAAAAAAAPh/AAAAAAAA+H8AAAAAAAD4fwAAAAAAAPh/AAAAAAAA+H8AAAAAAAD4fwAAAAAAAPh/AAAAAAAA+H8AAAAAAAD4fwAAAAAAAPA/AAAAAAAA+H8AAAAAAABEQAAAAAAAACRAAAAAAAAA+H8AAAAAAAD4fwAAAAAAAPh/AAAAAAAA+H8AAAAAAAD4fwAAAAAAADdAAAAAAAAAGEAAAAAAAAD4fwAAAAAAAPh/AAAAAAAAHEAAAAAAAAD4fwAAAAAAAPh/AAAAAAAA+H8AAAAAAAD4fwAAAAAAAPh/AAAAAAAA+H8AAAAAAAD4fwAAAAAAAPA/AAAAAAAA+H8AAAAAAAD4fwAAAAAAAPh/AAAAAAAA+H8AAAAAAAD4fwAAAAAAAPh/AAAAAAAA+H8AAAAAAAD4fwAAAAAAAPh/AAAAAAAA+H8AAAAAAAD4fwAAAAAAAPh/AAAAAAAA+H8AAAAAAAD4fwAAAAAAAPh/AAAAAAAA+H8AAAAAAAD4fwAAAAAAAPh/AAAAAAAA+H8AAAAAAAD4fwAAAAAAAPh/AAAAAAAA+H8AAAAAAAD4fwAAAAAAAPh/AAAAAAAA+H8AAAAAAAAxQAAAAAAAAAhAAAAAAAAAIkAAAAAAAAD4fwAAAAAAAPh/AAAAAAAA+H8AAAAAAAD4fwAAAAAAAPh/AAAAAAAA+H8AAAAAAAD4fwAAAAAAAPh/AAAAAAAA+H8AAAAAAAD4fwAAAAAAAPh/AAAAAAAA+H8AAAAAAAD4fwAAAAAAAPh/AAAAAAAA+H8AAAAAAAD4fwAAAAAAAPh/AAAAAAAAPEAAAAAAAAD4fwAAAAAAAPh/AAAAAAAA+H8AAAAAAAD4fwAAAAAAAPh/AAAAAAAA+H8AAAAAAAD4fwAAAAAAAPh/AAAAAAAAUkAAAAAAAMBlQAAAAAAAAPh/AAAAAAAA+H8AAAAAAAD4fwAAAAAAAPh/AAAAAAAA+H8AAAAAAAAAAAAAAAAAADFAAAAAAAAA+H8AAAAAAAD4fwAAAAAAAPh/AAAAAAAA+H8AAAAAAAD4fwAAAAAAAPh/AAAAAAAAMEAAAAAAAAD4fwAAAAAAAPh/AAAAAAAA+H8AAAAAAAD4fwAAAAAAAPh/AAAAAAAALkAAAAAAAAD4fwAAAAAAAPh/AAAAAAAA+H8AAAAAAAD4fwAAAAAAAPh/AAAAAAAA+H8AAAAAAAD4fwAAAAAAAPh/AAAAAAAA+H8AAAAAAAD4fwAAAAAAAPh/AAAAAAAA+H8AAAAAAAD4fwAAAAAAAPh/AAAAAAAA+H8AAAAAAAD4fwAAAAAAAPh/AAAAAAAA+H8AAAAAAAD4fwAAAAAAAPh/AAAAAAAA+H8AAAAAAAD4fwAAAAAAAPh/AAAAAAAA+H8AAAAAAAD4fwAAAAAAAPA/AAAAAAAA+H8AAAAAAAD4fwAAAAAAAPh/AAAAAAAA+H8AAAAAAAAkQAAAAAAAAPh/AAAAAAAA+H8AAAAAAAD4fwAAAAAAAPh/AAAAAAAA+H8AAAAAAAD4fwAAAAAAABBAAAAAAAAA+H8AAAAAAAD4fwAAAAAAQGhAAAAAAAAA+H8AAAAAAAD4fwAAAAAAAPh/AAAAAAAA+H8AAAAAAAD4fwAAAAAAAPh/AAAAAAAA+H8AAAAAAAD4fwAAAAAAAPh/AAAAAAAA+H8AAAAAAAD4fwAAAAAAAPh/AAAAAAAA+H8AAAAAAAD4fwAAAAAAACJAAAAAAAAA+H8AAAAAAAD4fwAAAAAAADBAAAAAAAAA+H8AAAAAAAD4fwAAAAAAAPh/AAAAAAAA+H8AAAAAAAD4fwAAAAAAAPh/AAAAAAAA+H8AAAAAAAD4fwAAAAAAAPh/AAAAAAAA+H8AAAAAAAD4fwAAAAAAAPh/AAAAAAAA+H8AAAAAAAD4fwAAAAAAAPh/AAAAAAAA+H8AAAAAAAD4fwAAAAAAAPh/AAAAAAAA+H8AAAAAAAD4fwAAAAAAAPh/AAAAAAAA+H8AAAAAAAD4fwAAAAAAACJAAAAAAAAA+H8AAAAAAAD4fwAAAAAAAPh/AAAAAAAA+H8AAAAAAAD4fwAAAAAAgEhAAAAAAAAA+H8AAAAAAAD4fwAAAAAAAPh/AAAAAAAA+H8AAAAAAAD4fwAAAAAAAPh/AAAAAAAA+H8AAAAAAAAcQAAAAAAAAPh/AAAAAAAA+H8AAAAAAAD4fwAAAAAAAPh/AAAAAAAA+H8AAAAAAAD4fwAAAAAAAPh/AAAAAAAA+H8AAAAAAAAcQAAAAAAAAPh/AAAAAAAA+H8AAAAAAAD4fwAAAAAAAPh/AAAAAAAA+H8AAAAAAAD4fwAAAAAAAPh/AAAAAAAA+H8AAAAAAAD4fwAAAAAAAPh/AAAAAAAA+H8AAAAAAAD4fwAAAAAAAPh/AAAAAAAA+H8AAAAAAAD4fwAAAAAAACRAAAAAAAAA+H8AAAAAAAD4fwAAAAAAAPh/AAAAAAAA+H8AAAAAAAD4fwAAAAAAAPh/AAAAAAAA+H8AAAAAAAD4fwAAAAAAAPh/AAAAAAAA+H8AAAAAAAD4fwAAAAAAAPh/AAAAAAAA+H8AAAAAAAD4fwAAAAAAADJAAAAAAAAAMUAAAAAAAAD4fwAAAAAAAPh/AAAAAAAA+H8AAAAAAAD4fwAAAAAAAPh/AAAAAAAA+H8AAAAAAAD4fwAAAAAAAPh/AAAAAAAA+H8AAAAAAAD4fwAAAAAAAPh/AAAAAAAA+H8AAAAAAAD4fwAAAAAAAPh/AAAAAAAA+H8AAAAAAAD4fwAAAAAAAPh/AAAAAAAA+H8AAAAAAAD4fwAAAAAAAPh/AAAAAACAQEAAAAAAAAD4fwAAAAAAACpAAAAAAAAA+H8AAAAAAAD4fwAAAAAAAPh/AAAAAAAA+H8AAAAAAAD4fwAAAAAAAPh/AAAAAAAA+H8AAAAAAAD4fwAAAAAAAPh/AAAAAAAAHEAAAAAAAAD4fwAAAAAAAPh/AAAAAAAA+H8AAAAAAAD4fwAAAAAAAPh/AAAAAAAAN0AAAAAAAAD4fwAAAAAAAPh/AAAAAAAA+H8AAAAAAAD4fwAAAAAAAPh/AAAAAAAA+H8AAAAAAAD4fwAAAAAAAPh/AAAAAAAA+H8AAAAAAAD4fwAAAAAAAPh/AAAAAAAA+H8AAAAAAAD4fwAAAAAAAPh/AAAAAAAAaEAAAAAAAAD4fwAAAAAAAPh/AAAAAAAAEEAAAAAAAAD4fwAAAAAAAPh/AAAAAAAA+H8AAAAAAAD4fwAAAAAAAPh/AAAAAAAA+H8AAAAAAAD4fwAAAAAAAPh/AAAAAAAA+H8AAAAAAAD4fwAAAAAAAPh/AAAAAAAA+H8AAAAAAAD4fwAAAAAAAPh/AAAAAAAA+H8AAAAAAAD4fwAAAAAAAPh/AAAAAAAA+H8AAAAAAAD4fwAAAAAAAPh/AAAAAAAAZ0AAAAAAAAD4fwAAAAAAAPh/AAAAAAAA+H8AAAAAAAD4fwAAAAAAAPh/AAAAAAAA+H8AAAAAAAD4fwAAAAAAAPh/AAAAAAAA+H8AAAAAAMBSQAAAAAAAAPh/AAAAAAAA+H8AAAAAAEBqQAAAAAAAAPh/AAAAAAAA+H8AAAAAAAD4fwAAAAAAAPh/AAAAAAAA+H8AAAAAAAD4fwAAAAAAAPh/AAAAAAAA+H8AAAAAAAD4fwAAAAAAAPh/AAAAAAAA+H8AAAAAAAD4fwAAAAAAAPh/AAAAAAAA+H8AAAAAAAD4fwAAAAAAAC5AAAAAAAAA+H8AAAAAAAD4fwAAAAAAAPh/AAAAAAAA+H8AAAAAAAD4fwAAAAAAAPh/AAAAAAAANkAAAAAAAAD4fwAAAAAAAPh/AAAAAAAA+H8AAAAAAAD4fwAAAAAAAPh/AAAAAAAA+H8AAAAAAAD4fwAAAAAAAPh/AAAAAAAA+H8AAAAAAAD4fwAAAAAAAPh/AAAAAAAA+H8AAAAAAAD4fwAAAAAAAPh/AAAAAAAA+H8AAAAAAAD4fwAAAAAAAPh/AAAAAAAA+H8AAAAAAAD4fwAAAAAAAPh/AAAAAAAA+H8AAAAAAAD4fwAAAAAAAPh/AAAAAAAA+H8AAAAAAAD4fwAAAAAAAPh/AAAAAAAA+H8AAAAAAIBJQAAAAAAAAPh/AAAAAAAA+H8AAAAAAAD4fwAAAAAAAPh/AAAAAAAA+H8AAAAAAAD4fwAAAAAAAPh/AAAAAAAA+H8AAAAAAAD4fwAAAAAAAPh/AAAAAAAA+H8AAAAAAAD4fwAAAAAA4GtAAAAAAAAACEAAAAAAAAD4fwAAAAAAgEtAAAAAAAAA+H8AAAAAAAD4fwAAAAAAAABAAAAAAAAA+H8AAAAAAAD4fwAAAAAAAPh/AAAAAAAA+H8AAAAAAAD4fwAAAAAAAPh/AAAAAAAA+H8AAAAAAAD4fwAAAAAAAPh/AAAAAAAA+H8AAAAAAAAsQAAAAAAAAPh/AAAAAAAAMUAAAAAAAAD4fwAAAAAAAPh/AAAAAAAAIEAAAAAAAAD4fwAAAAAAAPh/AAAAAAAA+H8AAAAAAAD4fwAAAAAAAPh/AAAAAAAA+H8AAAAAAAD4fwAAAAAAQFRAAAAAAAAA+H8AAAAAAAD4fwAAAAAAAPh/AAAAAAAA+H8AAAAAAADwPwAAAAAAAPh/AAAAAAAA+H8AAAAAAAD4fwAAAAAAwFpAAAAAAABQd0AAAAAAAAD4fwAAAAAAAPh/AAAAAAAA+H8AAAAAAAD4fwAAAAAAAPh/AAAAAAAA+H8AAAAAAAD4fwAAAAAAACxAAAAAAAAA+H8AAAAAAAD4fwAAAAAAAPh/AAAAAAAA+H8AAAAAAAD4fwAAAAAAAPh/AAAAAAAA+H8AAAAAAAD4fwAAAAAAAPh/AAAAAAAA+H8AAAAAAAD4fwAAAAAAAPh/AAAAAAAA+H8AAAAAAAD4fwAAAAAAAPh/AAAAAAAA+H8AAAAAAAD4fwAAAAAAAPh/AAAAAAAA+H8AAAAAAAD4fwAAAAAAAPh/AAAAAAAA+H8AAAAAAAD4fwAAAAAAAPh/AAAAAAAA+H8AAAAAAAD4fwAAAAAAAPh/AAAAAAAA+H8AAAAAAAD4fwAAAAAAADRAAAAAAAAA+H8AAAAAAAD4fwAAAAAAAPh/AAAAAAAA+H8AAAAAAAD4fwAAAAAAAPh/AAAAAAAA+H8AAAAAAAD4fwAAAAAAAPh/AAAAAAAATUAAAAAAAAD4fwAAAAAAAPh/AAAAAAAAGEAAAAAAAAD4fwAAAAAAAPh/AAAAAAAA+H8AAAAAAAD4fwAAAAAAAPh/AAAAAAAA+H8AAAAAAAD4fwAAAAAAAPh/AAAAAAAA+H8AAAAAAAD4fwAAAAAAAPh/AAAAAAAA+H8AAAAAAAD4fwAAAAAAAPh/AAAAAAAAVEAAAAAAAAD4fwAAAAAAACZAAAAAAAAA+H8AAAAAAAD4fwAAAAAAsHBAAAAAAAAA+H8AAAAAAADwPwAAAAAAwFNAAAAAAAAA+H8AAAAAAAD4fwAAAAAAAPh/AAAAAAAA+H8AAAAAAAD4fwAAAAAAAPh/AAAAAAAA+H8AAAAAAFB1QAAAAAAAAPh/AAAAAAAA+H8AAAAAAAD4fwAAAAAAAPh/AAAAAAAA+H8AAAAAAAD4fwAAAAAAgGNAAAAAAAAA+H8AAAAAAAD4fwAAAAAAAPh/AAAAAAAA+H8AAAAAAAD4fwAAAAAAAPh/AAAAAAAA+H8AAAAAAAD4fwAAAAAAAPh/AAAAAAAA+H8AAAAAAAD4fwAAAAAAYGpAAAAAAAAA+H8AAAAAAAD4fwAAAAAAAPh/AAAAAAAA+H8AAAAAAAD4fwAAAAAAAPh/AAAAAAAA+H8AAAAAAAD4fwAAAAAAAPh/AAAAAAAA+H8AAAAAAAD4fwAAAAAAAE9AAAAAAAAA+H8AAAAAAAD4fwAAAAAAAPh/AAAAAAAAGEAAAAAAAAD4fwAAAAAAAPh/AAAAAAAA+H8AAAAAAAD4fwAAAAAAAPh/AAAAAADAWUAAAAAAAAD4fwAAAAAAAPh/AAAAAAAA+H8AAAAAAAD4fwAAAAAAAPh/AAAAAAAA+H8AAAAAAAD4fwAAAAAAAPh/AAAAAAAA+H8AAAAAAAD4fwAAAAAAAPh/AAAAAAAA+H8AAAAAAAD4fwAAAAAAAPh/AAAAAAAAAAAAAAAAAAD4fwAAAAAAABRAAAAAAAAA+H8AAAAAAAD4fwAAAAAAAEhAAAAAAABAYEAAAAAAAAD4fwAAAAAAAPh/AAAAAAAA+H8AAAAAAAD4fwAAAAAAAPh/AAAAAAAA+H8AAAAAAAD4fwAAAAAAAPh/AAAAAAAAAAAAAAAAAAD4fwAAAAAAAPh/AAAAAAAAWUAAAAAAAAD4fwAAAAAAAPh/AAAAAAAA+H8AAAAAAAD4fwAAAAAAAPh/AAAAAAAA+H8AAAAAAAD4fwAAAAAAAPh/AAAAAAAALEAAAAAAAAD4fwAAAAAAAPh/AAAAAAAA+H8AAAAAAAD4fwAAAAAAgFpAAAAAAAAA+H8AAAAAAAAAAAAAAAAAAPh/AAAAAAAA+H8AAAAAAAD4fwAAAAAAAPh/AAAAAAAA+H8AAAAAAIBGQAAAAAAAAPh/AAAAAAAA+H8AAAAAAAD4fwAAAAAAwFVAAAAAAAAA+H8AAAAAAAD4fwAAAAAAAPh/AAAAAAAA+H8AAAAAAAD4fwAAAAAAAPh/AAAAAAAA+H8AAAAAAAAmQAAAAAAAAPA/AAAAAAAA+H8AAAAAAAD4fwAAAAAAAPh/AAAAAAAA+H8AAAAAAAD4fwAAAAAAAPh/AAAAAAAA+H8AAAAAAAD4fwAAAAAAAPh/AAAAAAAA+H8AAAAAAAD4fwAAAAAAAPh/AAAAAAAA+H8AAAAAAAD4fwAAAAAAAPh/AAAAAAAA+H8AAAAAAAD4fwAAAAAAAPh/AAAAAAAA+H8AAAAAAAAcQAAAAAAAAPh/AAAAAAAAIEAAAAAAAAD4fwAAAAAAAPh/AAAAAAAA+H8AAAAAAAD4fwAAAAAAAPh/AAAAAAAA+H8AAAAAAAD4fwAAAAAAAPh/AAAAAAAA+H8AAAAAAAD4fwAAAAAAAPh/AAAAAAAA+H8AAAAAAAD4fwAAAAAAACZAAAAAAAAA+H8AAAAAAAD4fwAAAAAAAPh/AAAAAAAA+H8AAAAAAAD4fwAAAAAAAPh/AAAAAAAA+H8AAAAAAAD4fwAAAAAAAPh/AAAAAAAA+H8AAAAAAAAIQAAAAAAAAPh/AAAAAAAAM0AAAAAAAAD4fwAAAAAAAPh/AAAAAAAA+H8AAAAAAAD4fwAAAAAAAPh/AAAAAAAA+H8AAAAAAAAxQAAAAAAAAPh/AAAAAAAA+H8AAAAAAAD4fwAAAAAAAPh/AAAAAAAAVEAAAAAAAAAIQAAAAAAAAPh/AAAAAAAA+H8AAAAAAAD4fwAAAAAAAPh/AAAAAAAA+H8AAAAAAAD4fwAAAAAAAPh/AAAAAAAAHEAAAAAAAAD4fwAAAAAAAPh/AAAAAAAA+H8AAAAAAAD4fwAAAAAAAPh/AAAAAAAA+H8AAAAAAAD4fwAAAAAAAPh/AAAAAAAA+H8AAAAAAAD4fwAAAAAAAPh/AAAAAAAA+H8AAAAAAAD4fwAAAAAAAPh/AAAAAAAA+H8AAAAAAAD4fwAAAAAAAPh/AAAAAAAAIEAAAAAAAAD4fwAAAAAAAPh/AAAAAAAA+H8AAAAAAAD4fwAAAAAAAPh/AAAAAAAA+H8AAAAAAAD4fwAAAAAAAPh/AAAAAAAA+H8AAAAAAAD4fwAAAAAAAPh/AAAAAAAA+H8AAAAAAAD4fwAAAAAAAPh/AAAAAAAA+H8AAAAAAAD4fwAAAAAAAPh/AAAAAAAA+H8AAAAAAAD4fwAAAAAAAPh/AAAAAAAA+H8AAAAAAAD4fwAAAAAAAPh/AAAAAAAA+H8AAAAAAAD4fwAAAAAAAPh/AAAAAAAA+H8AAAAAAAD4fwAAAAAAABhAAAAAAAAA+H8AAAAAAAD4fwAAAAAAAPh/AAAAAAAA+H8AAAAAAAD4fwAAAAAAAPh/AAAAAAAA+H8AAAAAAAD4fwAAAAAAAPh/AAAAAAAA+H8AAAAAAAD4fwAAAAAAAPh/AAAAAAAA+H8AAAAAAAD4fwAAAAAAAPh/AAAAAAAA+H8AAAAAAAD4fwAAAAAAAPh/AAAAAAAA+H8AAAAAAAD4fwAAAAAAAPh/AAAAAAAA+H8AAAAAAAD4fwAAAAAAAPh/AAAAAAAANEAAAAAAAAD4fwAAAAAAAPh/AAAAAAAA+H8AAAAAAAD4fwAAAAAA4GVAAAAAAAAA+H8AAAAAAAD4fwAAAAAAAPh/AAAAAAAA+H8AAAAAAAD4fwAAAAAAAPh/AAAAAAAA+H8AAAAAAAD4fwAAAAAAACxAAAAAAAAA+H8AAAAAAAD4fwAAAAAAAPh/AAAAAAAAEEAAAAAAAAD4fwAAAAAAAPh/AAAAAAAA+H8AAAAAAAD4fwAAAAAAIGFAAAAAAAAA+H8AAAAAAADwPwAAAAAAAPh/AAAAAAAA+H8AAAAAAAD4fwAAAAAAAPh/AAAAAAAA+H8AAAAAAAD4fwAAAAAAADpAAAAAAAAA+H8AAAAAAAD4fwAAAAAAAPh/AAAAAAAA+H8AAAAAAAD4fwAAAAAAAPh/AAAAAABAZkAAAAAAAAD4fwAAAAAAgERAAAAAAAAAJEAAAAAAAAD4fwAAAAAAAPh/AAAAAAAA+H8AAAAAAAD4fwAAAAAAAPh/AAAAAAAA+H8AAAAAAAD4fwAAAAAAAPh/AAAAAAAA+H8AAAAAAAD4fwAAAAAAAPh/AAAAAAAA+H8AAAAAAAD4fwAAAAAAAPh/AAAAAAAA+H8AAAAAAAD4fwAAAAAAAPh/AAAAAAAA+H8AAAAAAAD4fwAAAAAAAPh/AAAAAAAA+H8AAAAAAAD4fwAAAAAAAPh/AAAAAAAA+H8AAAAAAAD4fwAAAAAAAPh/AAAAAAAAMEAAAAAAAAA0QAAAAAAAAPh/AAAAAAAA+H8AAAAAAAD4fwAAAAAAAPh/AAAAAAAA+H8AAAAAAAD4fwAAAAAAAPh/AAAAAAAA+H8AAAAAAAD4fwAAAAAAAPh/AAAAAAAA+H8AAAAAAAAQQAAAAAAAAPh/AAAAAAAA+H8AAAAAAAD4fwAAAAAAAPh/AAAAAAAA+H8AAAAAAAD4fwAAAAAAAPh/AAAAAAAA+H8AAAAAAAD4fwAAAAAAAPh/AAAAAAAA+H8AAAAAAAD4fwAAAAAAAPh/AAAAAAAAAAAAAAAAAAD4fwAAAAAAAPh/AAAAAAAA+H8AAAAAAAD4fwAAAAAAAPh/AAAAAAAA+H8AAAAAAAD4fwAAAAAAAPh/AAAAAAAAAEAAAAAAAAD4fwAAAAAAAPh/AAAAAAAA+H8AAAAAAAD4fwAAAAAAAPh/AAAAAAAA+H8AAAAAAAD4fwAAAAAAAPh/AAAAAAAA+H8AAAAAAAD4fwAAAAAAAPh/AAAAAAAA+H8AAAAAAABNQAAAAAAAAPh/AAAAAAAA+H8AAAAAAAD4fwAAAAAAAPh/AAAAAAAA+H8AAAAAAAD4fwAAAAAAAPh/AAAAAAAA+H8AAAAAAAD4fwAAAAAAACJAAAAAAAAA+H8AAAAAAAD4fwAAAAAAAPh/AAAAAAAA+H8AAAAAAAD4fwAAAAAAAPh/AAAAAAAAHEAAAAAAAAD4fwAAAAAAgEFAAAAAAAAA+H8AAAAAAAD4fwAAAAAAAPh/AAAAAAAAPUAAAAAAAAD4fwAAAAAAAPh/AAAAAAAA+H8AAAAAAAD4fwAAAAAAAPh/AAAAAAAA+H8AAAAAAAD4fwAAAAAAACJAAAAAAAAA+H8AAAAAAAD4fwAAAAAAAPh/AAAAAAAA+H8AAAAAACBzQAAAAAAAAPh/AAAAAAAA+H8AAAAAAGBkQAAAAAAAAABAAAAAAAAA+H8AAAAAAAD4fwAAAAAAAPh/AAAAAAAA+H8AAAAAAAD4fwAAAAAAAPh/AAAAAAAA+H8AAAAAAAD4fwAAAAAAAPh/AAAAAAAA+H8AAAAAAAD4fwAAAAAAAPh/AAAAAAAA+H8AAAAAAAD4fwAAAAAAAPh/AAAAAAAA+H8AAAAAAAD4fwAAAAAAAPh/AAAAAABQdUAAAAAAAAD4fwAAAAAAAPh/AAAAAAAA+H8AAAAAAAD4fwAAAAAAAPh/AAAAAAAA+H8AAAAAAAD4fwAAAAAAoG1AAAAAAAAA+H8AAAAAAAD4fwAAAAAAAPh/AAAAAAAA+H8AAAAAAAD4fwAAAAAAAPh/AAAAAAAA+H8AAAAAAAD4fwAAAAAAAPh/AAAAAAAA+H8AAAAAAAD4fwAAAAAAAPh/AAAAAABgZkAAAAAAAAD4fwAAAAAAAPh/AAAAAAAA+H8AAAAAAAD4fwAAAAAAAPh/AAAAAAAA+H8AAAAAAAD4fwAAAAAAAPh/AAAAAAAA+H8AAAAAAAD4fwAAAAAAAPh/AAAAAAAA+H8AAAAAAAD4fwAAAAAAAPh/AAAAAAAA+H8AAAAAAAD4fwAAAAAAAPh/AAAAAAAA+H8AAAAAAAAoQAAAAAAAAPh/AAAAAAAA+H8AAAAAAAAqQAAAAAAAAPh/AAAAAAAA+H8AAAAAAAAzQAAAAAAAAPh/AAAAAAAA+H8AAAAAAAD4fwAAAAAAAPh/AAAAAAAA+H8AAAAAAAD4fwAAAAAAAPh/AAAAAAAA+H8AAAAAAAD4fwAAAAAAAElAAAAAAAAA+H8AAAAAAAD4fwAAAAAAAPh/AAAAAAAA+H8AAAAAAAD4fwAAAAAAAPh/AAAAAAAA+H8AAAAAAIBZQAAAAAAAAAhAAAAAAABAZEAAAAAAAAAgQAAAAAAAAPh/AAAAAACAREAAAAAAAAD4fwAAAAAAAPh/AAAAAAAA+H8AAAAAAAD4fwAAAAAAAPh/AAAAAAAA+H8AAAAAAAD4fwAAAAAAAPh/AAAAAAAA+H8AAAAAAAD4fwAAAAAAAPh/AAAAAAAA+H8AAAAAAAD4fwAAAAAAAPh/AAAAAAAA+H8AAAAAAAD4fwAAAAAAAPh/AAAAAAAA+H8AAAAAAAD4fwAAAAAAAPh/AAAAAAAA+H8AAAAAAAD4fwAAAAAAAPh/AAAAAABAU0AAAAAAAAD4fwAAAAAAAPh/AAAAAABAcEAAAAAAAAD4fwAAAAAAAPh/AAAAAACAW0AAAAAAAAD4fwAAAAAAAPh/AAAAAAAA+H8AAAAAAADwPwAAAAAAAPh/AAAAAAAA+H8AAAAAAAD4fwAAAAAAAPh/AAAAAAAA+H8AAAAAAAD4fwAAAAAAAPh/AAAAAAAA+H8AAAAAAAAQQAAAAAAAAPh/AAAAAAAA+H8AAAAAAAD4fwAAAAAAAPh/AAAAAAAA+H8AAAAAAAD4fwAAAAAAAPh/AAAAAAAA+H8AAAAAAAD4fwAAAAAAAPh/AAAAAAAA+H8AAAAAAAAAQAAAAAAAAPh/AAAAAAAA+H8AAAAAAAD4fwAAAAAAAPh/AAAAAAAA+H8AAAAAAAD4fwAAAAAAAPh/AAAAAAAA+H8AAAAAAAD4fwAAAAAAAPh/AAAAAAAA+H8AAAAAAAD4fwAAAAAAAPh/AAAAAAAA+H8AAAAAAAD4fwAAAAAAAPh/AAAAAAAA+H8AAAAAAAD4fwAAAAAAAPh/AAAAAAAA+H8AAAAAAAD4fwAAAAAAABBAAAAAAAAA+H8AAAAAAAD4fwAAAAAAAAhAAAAAAAAA+H8AAAAAAAD4fwAAAAAAAPh/AAAAAAAA+H8AAAAAAAD4fwAAAAAAAPh/AAAAAAAA+H8AAAAAAAD4fwAAAAAAAPh/AAAAAAAA+H8AAAAAAAD4fwAAAAAAAChAAAAAAAAA+H8AAAAAAAD4fw==",
          "dtype": "f8"
         },
         "y0": " ",
         "yaxis": "y"
        },
        {
         "alignmentgroup": "True",
         "hovertemplate": "origin=%{x}<br>days_to_convert=%{y}<extra></extra>",
         "legendgroup": "organic_search",
         "marker": {
          "color": "#00cc96"
         },
         "name": "organic_search",
         "notched": false,
         "offsetgroup": "organic_search",
         "orientation": "v",
         "showlegend": true,
         "type": "box",
         "x": [
          "organic_search",
          "organic_search",
          "organic_search",
          "organic_search",
          "organic_search",
          "organic_search",
          "organic_search",
          "organic_search",
          "organic_search",
          "organic_search",
          "organic_search",
          "organic_search",
          "organic_search",
          "organic_search",
          "organic_search",
          "organic_search",
          "organic_search",
          "organic_search",
          "organic_search",
          "organic_search",
          "organic_search",
          "organic_search",
          "organic_search",
          "organic_search",
          "organic_search",
          "organic_search",
          "organic_search",
          "organic_search",
          "organic_search",
          "organic_search",
          "organic_search",
          "organic_search",
          "organic_search",
          "organic_search",
          "organic_search",
          "organic_search",
          "organic_search",
          "organic_search",
          "organic_search",
          "organic_search",
          "organic_search",
          "organic_search",
          "organic_search",
          "organic_search",
          "organic_search",
          "organic_search",
          "organic_search",
          "organic_search",
          "organic_search",
          "organic_search",
          "organic_search",
          "organic_search",
          "organic_search",
          "organic_search",
          "organic_search",
          "organic_search",
          "organic_search",
          "organic_search",
          "organic_search",
          "organic_search",
          "organic_search",
          "organic_search",
          "organic_search",
          "organic_search",
          "organic_search",
          "organic_search",
          "organic_search",
          "organic_search",
          "organic_search",
          "organic_search",
          "organic_search",
          "organic_search",
          "organic_search",
          "organic_search",
          "organic_search",
          "organic_search",
          "organic_search",
          "organic_search",
          "organic_search",
          "organic_search",
          "organic_search",
          "organic_search",
          "organic_search",
          "organic_search",
          "organic_search",
          "organic_search",
          "organic_search",
          "organic_search",
          "organic_search",
          "organic_search",
          "organic_search",
          "organic_search",
          "organic_search",
          "organic_search",
          "organic_search",
          "organic_search",
          "organic_search",
          "organic_search",
          "organic_search",
          "organic_search",
          "organic_search",
          "organic_search",
          "organic_search",
          "organic_search",
          "organic_search",
          "organic_search",
          "organic_search",
          "organic_search",
          "organic_search",
          "organic_search",
          "organic_search",
          "organic_search",
          "organic_search",
          "organic_search",
          "organic_search",
          "organic_search",
          "organic_search",
          "organic_search",
          "organic_search",
          "organic_search",
          "organic_search",
          "organic_search",
          "organic_search",
          "organic_search",
          "organic_search",
          "organic_search",
          "organic_search",
          "organic_search",
          "organic_search",
          "organic_search",
          "organic_search",
          "organic_search",
          "organic_search",
          "organic_search",
          "organic_search",
          "organic_search",
          "organic_search",
          "organic_search",
          "organic_search",
          "organic_search",
          "organic_search",
          "organic_search",
          "organic_search",
          "organic_search",
          "organic_search",
          "organic_search",
          "organic_search",
          "organic_search",
          "organic_search",
          "organic_search",
          "organic_search",
          "organic_search",
          "organic_search",
          "organic_search",
          "organic_search",
          "organic_search",
          "organic_search",
          "organic_search",
          "organic_search",
          "organic_search",
          "organic_search",
          "organic_search",
          "organic_search",
          "organic_search",
          "organic_search",
          "organic_search",
          "organic_search",
          "organic_search",
          "organic_search",
          "organic_search",
          "organic_search",
          "organic_search",
          "organic_search",
          "organic_search",
          "organic_search",
          "organic_search",
          "organic_search",
          "organic_search",
          "organic_search",
          "organic_search",
          "organic_search",
          "organic_search",
          "organic_search",
          "organic_search",
          "organic_search",
          "organic_search",
          "organic_search",
          "organic_search",
          "organic_search",
          "organic_search",
          "organic_search",
          "organic_search",
          "organic_search",
          "organic_search",
          "organic_search",
          "organic_search",
          "organic_search",
          "organic_search",
          "organic_search",
          "organic_search",
          "organic_search",
          "organic_search",
          "organic_search",
          "organic_search",
          "organic_search",
          "organic_search",
          "organic_search",
          "organic_search",
          "organic_search",
          "organic_search",
          "organic_search",
          "organic_search",
          "organic_search",
          "organic_search",
          "organic_search",
          "organic_search",
          "organic_search",
          "organic_search",
          "organic_search",
          "organic_search",
          "organic_search",
          "organic_search",
          "organic_search",
          "organic_search",
          "organic_search",
          "organic_search",
          "organic_search",
          "organic_search",
          "organic_search",
          "organic_search",
          "organic_search",
          "organic_search",
          "organic_search",
          "organic_search",
          "organic_search",
          "organic_search",
          "organic_search",
          "organic_search",
          "organic_search",
          "organic_search",
          "organic_search",
          "organic_search",
          "organic_search",
          "organic_search",
          "organic_search",
          "organic_search",
          "organic_search",
          "organic_search",
          "organic_search",
          "organic_search",
          "organic_search",
          "organic_search",
          "organic_search",
          "organic_search",
          "organic_search",
          "organic_search",
          "organic_search",
          "organic_search",
          "organic_search",
          "organic_search",
          "organic_search",
          "organic_search",
          "organic_search",
          "organic_search",
          "organic_search",
          "organic_search",
          "organic_search",
          "organic_search",
          "organic_search",
          "organic_search",
          "organic_search",
          "organic_search",
          "organic_search",
          "organic_search",
          "organic_search",
          "organic_search",
          "organic_search",
          "organic_search",
          "organic_search",
          "organic_search",
          "organic_search",
          "organic_search",
          "organic_search",
          "organic_search",
          "organic_search",
          "organic_search",
          "organic_search",
          "organic_search",
          "organic_search",
          "organic_search",
          "organic_search",
          "organic_search",
          "organic_search",
          "organic_search",
          "organic_search",
          "organic_search",
          "organic_search",
          "organic_search",
          "organic_search",
          "organic_search",
          "organic_search",
          "organic_search",
          "organic_search",
          "organic_search",
          "organic_search",
          "organic_search",
          "organic_search",
          "organic_search",
          "organic_search",
          "organic_search",
          "organic_search",
          "organic_search",
          "organic_search",
          "organic_search",
          "organic_search",
          "organic_search",
          "organic_search",
          "organic_search",
          "organic_search",
          "organic_search",
          "organic_search",
          "organic_search",
          "organic_search",
          "organic_search",
          "organic_search",
          "organic_search",
          "organic_search",
          "organic_search",
          "organic_search",
          "organic_search",
          "organic_search",
          "organic_search",
          "organic_search",
          "organic_search",
          "organic_search",
          "organic_search",
          "organic_search",
          "organic_search",
          "organic_search",
          "organic_search",
          "organic_search",
          "organic_search",
          "organic_search",
          "organic_search",
          "organic_search",
          "organic_search",
          "organic_search",
          "organic_search",
          "organic_search",
          "organic_search",
          "organic_search",
          "organic_search",
          "organic_search",
          "organic_search",
          "organic_search",
          "organic_search",
          "organic_search",
          "organic_search",
          "organic_search",
          "organic_search",
          "organic_search",
          "organic_search",
          "organic_search",
          "organic_search",
          "organic_search",
          "organic_search",
          "organic_search",
          "organic_search",
          "organic_search",
          "organic_search",
          "organic_search",
          "organic_search",
          "organic_search",
          "organic_search",
          "organic_search",
          "organic_search",
          "organic_search",
          "organic_search",
          "organic_search",
          "organic_search",
          "organic_search",
          "organic_search",
          "organic_search",
          "organic_search",
          "organic_search",
          "organic_search",
          "organic_search",
          "organic_search",
          "organic_search",
          "organic_search",
          "organic_search",
          "organic_search",
          "organic_search",
          "organic_search",
          "organic_search",
          "organic_search",
          "organic_search",
          "organic_search",
          "organic_search",
          "organic_search",
          "organic_search",
          "organic_search",
          "organic_search",
          "organic_search",
          "organic_search",
          "organic_search",
          "organic_search",
          "organic_search",
          "organic_search",
          "organic_search",
          "organic_search",
          "organic_search",
          "organic_search",
          "organic_search",
          "organic_search",
          "organic_search",
          "organic_search",
          "organic_search",
          "organic_search",
          "organic_search",
          "organic_search",
          "organic_search",
          "organic_search",
          "organic_search",
          "organic_search",
          "organic_search",
          "organic_search",
          "organic_search",
          "organic_search",
          "organic_search",
          "organic_search",
          "organic_search",
          "organic_search",
          "organic_search",
          "organic_search",
          "organic_search",
          "organic_search",
          "organic_search",
          "organic_search",
          "organic_search",
          "organic_search",
          "organic_search",
          "organic_search",
          "organic_search",
          "organic_search",
          "organic_search",
          "organic_search",
          "organic_search",
          "organic_search",
          "organic_search",
          "organic_search",
          "organic_search",
          "organic_search",
          "organic_search",
          "organic_search",
          "organic_search",
          "organic_search",
          "organic_search",
          "organic_search",
          "organic_search",
          "organic_search",
          "organic_search",
          "organic_search",
          "organic_search",
          "organic_search",
          "organic_search",
          "organic_search",
          "organic_search",
          "organic_search",
          "organic_search",
          "organic_search",
          "organic_search",
          "organic_search",
          "organic_search",
          "organic_search",
          "organic_search",
          "organic_search",
          "organic_search",
          "organic_search",
          "organic_search",
          "organic_search",
          "organic_search",
          "organic_search",
          "organic_search",
          "organic_search",
          "organic_search",
          "organic_search",
          "organic_search",
          "organic_search",
          "organic_search",
          "organic_search",
          "organic_search",
          "organic_search",
          "organic_search",
          "organic_search",
          "organic_search",
          "organic_search",
          "organic_search",
          "organic_search",
          "organic_search",
          "organic_search",
          "organic_search",
          "organic_search",
          "organic_search",
          "organic_search",
          "organic_search",
          "organic_search",
          "organic_search",
          "organic_search",
          "organic_search",
          "organic_search",
          "organic_search",
          "organic_search",
          "organic_search",
          "organic_search",
          "organic_search",
          "organic_search",
          "organic_search",
          "organic_search",
          "organic_search",
          "organic_search",
          "organic_search",
          "organic_search",
          "organic_search",
          "organic_search",
          "organic_search",
          "organic_search",
          "organic_search",
          "organic_search",
          "organic_search",
          "organic_search",
          "organic_search",
          "organic_search",
          "organic_search",
          "organic_search",
          "organic_search",
          "organic_search",
          "organic_search",
          "organic_search",
          "organic_search",
          "organic_search",
          "organic_search",
          "organic_search",
          "organic_search",
          "organic_search",
          "organic_search",
          "organic_search",
          "organic_search",
          "organic_search",
          "organic_search",
          "organic_search",
          "organic_search",
          "organic_search",
          "organic_search",
          "organic_search",
          "organic_search",
          "organic_search",
          "organic_search",
          "organic_search",
          "organic_search",
          "organic_search",
          "organic_search",
          "organic_search",
          "organic_search",
          "organic_search",
          "organic_search",
          "organic_search",
          "organic_search",
          "organic_search",
          "organic_search",
          "organic_search",
          "organic_search",
          "organic_search",
          "organic_search",
          "organic_search",
          "organic_search",
          "organic_search",
          "organic_search",
          "organic_search",
          "organic_search",
          "organic_search",
          "organic_search",
          "organic_search",
          "organic_search",
          "organic_search",
          "organic_search",
          "organic_search",
          "organic_search",
          "organic_search",
          "organic_search",
          "organic_search",
          "organic_search",
          "organic_search",
          "organic_search",
          "organic_search",
          "organic_search",
          "organic_search",
          "organic_search",
          "organic_search",
          "organic_search",
          "organic_search",
          "organic_search",
          "organic_search",
          "organic_search",
          "organic_search",
          "organic_search",
          "organic_search",
          "organic_search",
          "organic_search",
          "organic_search",
          "organic_search",
          "organic_search",
          "organic_search",
          "organic_search",
          "organic_search",
          "organic_search",
          "organic_search",
          "organic_search",
          "organic_search",
          "organic_search",
          "organic_search",
          "organic_search",
          "organic_search",
          "organic_search",
          "organic_search",
          "organic_search",
          "organic_search",
          "organic_search",
          "organic_search",
          "organic_search",
          "organic_search",
          "organic_search",
          "organic_search",
          "organic_search",
          "organic_search",
          "organic_search",
          "organic_search",
          "organic_search",
          "organic_search",
          "organic_search",
          "organic_search",
          "organic_search",
          "organic_search",
          "organic_search",
          "organic_search",
          "organic_search",
          "organic_search",
          "organic_search",
          "organic_search",
          "organic_search",
          "organic_search",
          "organic_search",
          "organic_search",
          "organic_search",
          "organic_search",
          "organic_search",
          "organic_search",
          "organic_search",
          "organic_search",
          "organic_search",
          "organic_search",
          "organic_search",
          "organic_search",
          "organic_search",
          "organic_search",
          "organic_search",
          "organic_search",
          "organic_search",
          "organic_search",
          "organic_search",
          "organic_search",
          "organic_search",
          "organic_search",
          "organic_search",
          "organic_search",
          "organic_search",
          "organic_search",
          "organic_search",
          "organic_search",
          "organic_search",
          "organic_search",
          "organic_search",
          "organic_search",
          "organic_search",
          "organic_search",
          "organic_search",
          "organic_search",
          "organic_search",
          "organic_search",
          "organic_search",
          "organic_search",
          "organic_search",
          "organic_search",
          "organic_search",
          "organic_search",
          "organic_search",
          "organic_search",
          "organic_search",
          "organic_search",
          "organic_search",
          "organic_search",
          "organic_search",
          "organic_search",
          "organic_search",
          "organic_search",
          "organic_search",
          "organic_search",
          "organic_search",
          "organic_search",
          "organic_search",
          "organic_search",
          "organic_search",
          "organic_search",
          "organic_search",
          "organic_search",
          "organic_search",
          "organic_search",
          "organic_search",
          "organic_search",
          "organic_search",
          "organic_search",
          "organic_search",
          "organic_search",
          "organic_search",
          "organic_search",
          "organic_search",
          "organic_search",
          "organic_search",
          "organic_search",
          "organic_search",
          "organic_search",
          "organic_search",
          "organic_search",
          "organic_search",
          "organic_search",
          "organic_search",
          "organic_search",
          "organic_search",
          "organic_search",
          "organic_search",
          "organic_search",
          "organic_search",
          "organic_search",
          "organic_search",
          "organic_search",
          "organic_search",
          "organic_search",
          "organic_search",
          "organic_search",
          "organic_search",
          "organic_search",
          "organic_search",
          "organic_search",
          "organic_search",
          "organic_search",
          "organic_search",
          "organic_search",
          "organic_search",
          "organic_search",
          "organic_search",
          "organic_search",
          "organic_search",
          "organic_search",
          "organic_search",
          "organic_search",
          "organic_search",
          "organic_search",
          "organic_search",
          "organic_search",
          "organic_search",
          "organic_search",
          "organic_search",
          "organic_search",
          "organic_search",
          "organic_search",
          "organic_search",
          "organic_search",
          "organic_search",
          "organic_search",
          "organic_search",
          "organic_search",
          "organic_search",
          "organic_search",
          "organic_search",
          "organic_search",
          "organic_search",
          "organic_search",
          "organic_search",
          "organic_search",
          "organic_search",
          "organic_search",
          "organic_search",
          "organic_search",
          "organic_search",
          "organic_search",
          "organic_search",
          "organic_search",
          "organic_search",
          "organic_search",
          "organic_search",
          "organic_search",
          "organic_search",
          "organic_search",
          "organic_search",
          "organic_search",
          "organic_search",
          "organic_search",
          "organic_search",
          "organic_search",
          "organic_search",
          "organic_search",
          "organic_search",
          "organic_search",
          "organic_search",
          "organic_search",
          "organic_search",
          "organic_search",
          "organic_search",
          "organic_search",
          "organic_search",
          "organic_search",
          "organic_search",
          "organic_search",
          "organic_search",
          "organic_search",
          "organic_search",
          "organic_search",
          "organic_search",
          "organic_search",
          "organic_search",
          "organic_search",
          "organic_search",
          "organic_search",
          "organic_search",
          "organic_search",
          "organic_search",
          "organic_search",
          "organic_search",
          "organic_search",
          "organic_search",
          "organic_search",
          "organic_search",
          "organic_search",
          "organic_search",
          "organic_search",
          "organic_search",
          "organic_search",
          "organic_search",
          "organic_search",
          "organic_search",
          "organic_search",
          "organic_search",
          "organic_search",
          "organic_search",
          "organic_search",
          "organic_search",
          "organic_search",
          "organic_search",
          "organic_search",
          "organic_search",
          "organic_search",
          "organic_search",
          "organic_search",
          "organic_search",
          "organic_search",
          "organic_search",
          "organic_search",
          "organic_search",
          "organic_search",
          "organic_search",
          "organic_search",
          "organic_search",
          "organic_search",
          "organic_search",
          "organic_search",
          "organic_search",
          "organic_search",
          "organic_search",
          "organic_search",
          "organic_search",
          "organic_search",
          "organic_search",
          "organic_search",
          "organic_search",
          "organic_search",
          "organic_search",
          "organic_search",
          "organic_search",
          "organic_search",
          "organic_search",
          "organic_search",
          "organic_search",
          "organic_search",
          "organic_search",
          "organic_search",
          "organic_search",
          "organic_search",
          "organic_search",
          "organic_search",
          "organic_search",
          "organic_search",
          "organic_search",
          "organic_search",
          "organic_search",
          "organic_search",
          "organic_search",
          "organic_search",
          "organic_search",
          "organic_search",
          "organic_search",
          "organic_search",
          "organic_search",
          "organic_search",
          "organic_search",
          "organic_search",
          "organic_search",
          "organic_search",
          "organic_search",
          "organic_search",
          "organic_search",
          "organic_search",
          "organic_search",
          "organic_search",
          "organic_search",
          "organic_search",
          "organic_search",
          "organic_search",
          "organic_search",
          "organic_search",
          "organic_search",
          "organic_search",
          "organic_search",
          "organic_search",
          "organic_search",
          "organic_search",
          "organic_search",
          "organic_search",
          "organic_search",
          "organic_search",
          "organic_search",
          "organic_search",
          "organic_search",
          "organic_search",
          "organic_search",
          "organic_search",
          "organic_search",
          "organic_search",
          "organic_search",
          "organic_search",
          "organic_search",
          "organic_search",
          "organic_search",
          "organic_search",
          "organic_search",
          "organic_search",
          "organic_search",
          "organic_search",
          "organic_search",
          "organic_search",
          "organic_search",
          "organic_search",
          "organic_search",
          "organic_search",
          "organic_search",
          "organic_search",
          "organic_search",
          "organic_search",
          "organic_search",
          "organic_search",
          "organic_search",
          "organic_search",
          "organic_search",
          "organic_search",
          "organic_search",
          "organic_search",
          "organic_search",
          "organic_search",
          "organic_search",
          "organic_search",
          "organic_search",
          "organic_search",
          "organic_search",
          "organic_search",
          "organic_search",
          "organic_search",
          "organic_search",
          "organic_search",
          "organic_search",
          "organic_search",
          "organic_search",
          "organic_search",
          "organic_search",
          "organic_search",
          "organic_search",
          "organic_search",
          "organic_search",
          "organic_search",
          "organic_search",
          "organic_search",
          "organic_search",
          "organic_search",
          "organic_search",
          "organic_search",
          "organic_search",
          "organic_search",
          "organic_search",
          "organic_search",
          "organic_search",
          "organic_search",
          "organic_search",
          "organic_search",
          "organic_search",
          "organic_search",
          "organic_search",
          "organic_search",
          "organic_search",
          "organic_search",
          "organic_search",
          "organic_search",
          "organic_search",
          "organic_search",
          "organic_search",
          "organic_search",
          "organic_search",
          "organic_search",
          "organic_search",
          "organic_search",
          "organic_search",
          "organic_search",
          "organic_search",
          "organic_search",
          "organic_search",
          "organic_search",
          "organic_search",
          "organic_search",
          "organic_search",
          "organic_search",
          "organic_search",
          "organic_search",
          "organic_search",
          "organic_search",
          "organic_search",
          "organic_search",
          "organic_search",
          "organic_search",
          "organic_search",
          "organic_search",
          "organic_search",
          "organic_search",
          "organic_search",
          "organic_search",
          "organic_search",
          "organic_search",
          "organic_search",
          "organic_search",
          "organic_search",
          "organic_search",
          "organic_search",
          "organic_search",
          "organic_search",
          "organic_search",
          "organic_search",
          "organic_search",
          "organic_search",
          "organic_search",
          "organic_search",
          "organic_search",
          "organic_search",
          "organic_search",
          "organic_search",
          "organic_search",
          "organic_search",
          "organic_search",
          "organic_search",
          "organic_search",
          "organic_search",
          "organic_search",
          "organic_search",
          "organic_search",
          "organic_search",
          "organic_search",
          "organic_search",
          "organic_search",
          "organic_search",
          "organic_search",
          "organic_search",
          "organic_search",
          "organic_search",
          "organic_search",
          "organic_search",
          "organic_search",
          "organic_search",
          "organic_search",
          "organic_search",
          "organic_search",
          "organic_search",
          "organic_search",
          "organic_search",
          "organic_search",
          "organic_search",
          "organic_search",
          "organic_search",
          "organic_search",
          "organic_search",
          "organic_search",
          "organic_search",
          "organic_search",
          "organic_search",
          "organic_search",
          "organic_search",
          "organic_search",
          "organic_search",
          "organic_search",
          "organic_search",
          "organic_search",
          "organic_search",
          "organic_search",
          "organic_search",
          "organic_search",
          "organic_search",
          "organic_search",
          "organic_search",
          "organic_search",
          "organic_search",
          "organic_search",
          "organic_search",
          "organic_search",
          "organic_search",
          "organic_search",
          "organic_search",
          "organic_search",
          "organic_search",
          "organic_search",
          "organic_search",
          "organic_search",
          "organic_search",
          "organic_search",
          "organic_search",
          "organic_search",
          "organic_search",
          "organic_search",
          "organic_search",
          "organic_search",
          "organic_search",
          "organic_search",
          "organic_search",
          "organic_search",
          "organic_search",
          "organic_search",
          "organic_search",
          "organic_search",
          "organic_search",
          "organic_search",
          "organic_search",
          "organic_search",
          "organic_search",
          "organic_search",
          "organic_search",
          "organic_search",
          "organic_search",
          "organic_search",
          "organic_search",
          "organic_search",
          "organic_search",
          "organic_search",
          "organic_search",
          "organic_search",
          "organic_search",
          "organic_search",
          "organic_search",
          "organic_search",
          "organic_search",
          "organic_search",
          "organic_search",
          "organic_search",
          "organic_search",
          "organic_search",
          "organic_search",
          "organic_search",
          "organic_search",
          "organic_search",
          "organic_search",
          "organic_search",
          "organic_search",
          "organic_search",
          "organic_search",
          "organic_search",
          "organic_search",
          "organic_search",
          "organic_search",
          "organic_search",
          "organic_search",
          "organic_search",
          "organic_search",
          "organic_search",
          "organic_search",
          "organic_search",
          "organic_search",
          "organic_search",
          "organic_search",
          "organic_search",
          "organic_search",
          "organic_search",
          "organic_search",
          "organic_search",
          "organic_search",
          "organic_search",
          "organic_search",
          "organic_search",
          "organic_search",
          "organic_search",
          "organic_search",
          "organic_search",
          "organic_search",
          "organic_search",
          "organic_search",
          "organic_search",
          "organic_search",
          "organic_search",
          "organic_search",
          "organic_search",
          "organic_search",
          "organic_search",
          "organic_search",
          "organic_search",
          "organic_search",
          "organic_search",
          "organic_search",
          "organic_search",
          "organic_search",
          "organic_search",
          "organic_search",
          "organic_search",
          "organic_search",
          "organic_search",
          "organic_search",
          "organic_search",
          "organic_search",
          "organic_search",
          "organic_search",
          "organic_search",
          "organic_search",
          "organic_search",
          "organic_search",
          "organic_search",
          "organic_search",
          "organic_search",
          "organic_search",
          "organic_search",
          "organic_search",
          "organic_search",
          "organic_search",
          "organic_search",
          "organic_search",
          "organic_search",
          "organic_search",
          "organic_search",
          "organic_search",
          "organic_search",
          "organic_search",
          "organic_search",
          "organic_search",
          "organic_search",
          "organic_search",
          "organic_search",
          "organic_search",
          "organic_search",
          "organic_search",
          "organic_search",
          "organic_search",
          "organic_search",
          "organic_search",
          "organic_search",
          "organic_search",
          "organic_search",
          "organic_search",
          "organic_search",
          "organic_search",
          "organic_search",
          "organic_search",
          "organic_search",
          "organic_search",
          "organic_search",
          "organic_search",
          "organic_search",
          "organic_search",
          "organic_search",
          "organic_search",
          "organic_search",
          "organic_search",
          "organic_search",
          "organic_search",
          "organic_search",
          "organic_search",
          "organic_search",
          "organic_search",
          "organic_search",
          "organic_search",
          "organic_search",
          "organic_search",
          "organic_search",
          "organic_search",
          "organic_search",
          "organic_search",
          "organic_search",
          "organic_search",
          "organic_search",
          "organic_search",
          "organic_search",
          "organic_search",
          "organic_search",
          "organic_search",
          "organic_search",
          "organic_search",
          "organic_search",
          "organic_search",
          "organic_search",
          "organic_search",
          "organic_search",
          "organic_search",
          "organic_search",
          "organic_search",
          "organic_search",
          "organic_search",
          "organic_search",
          "organic_search",
          "organic_search",
          "organic_search",
          "organic_search",
          "organic_search",
          "organic_search",
          "organic_search",
          "organic_search",
          "organic_search",
          "organic_search",
          "organic_search",
          "organic_search",
          "organic_search",
          "organic_search",
          "organic_search",
          "organic_search",
          "organic_search",
          "organic_search",
          "organic_search",
          "organic_search",
          "organic_search",
          "organic_search",
          "organic_search",
          "organic_search",
          "organic_search",
          "organic_search",
          "organic_search",
          "organic_search",
          "organic_search",
          "organic_search",
          "organic_search",
          "organic_search",
          "organic_search",
          "organic_search",
          "organic_search",
          "organic_search",
          "organic_search",
          "organic_search",
          "organic_search",
          "organic_search",
          "organic_search",
          "organic_search",
          "organic_search",
          "organic_search",
          "organic_search",
          "organic_search",
          "organic_search",
          "organic_search",
          "organic_search",
          "organic_search",
          "organic_search",
          "organic_search",
          "organic_search",
          "organic_search",
          "organic_search",
          "organic_search",
          "organic_search",
          "organic_search",
          "organic_search",
          "organic_search",
          "organic_search",
          "organic_search",
          "organic_search",
          "organic_search",
          "organic_search",
          "organic_search",
          "organic_search",
          "organic_search",
          "organic_search",
          "organic_search",
          "organic_search",
          "organic_search",
          "organic_search",
          "organic_search",
          "organic_search",
          "organic_search",
          "organic_search",
          "organic_search",
          "organic_search",
          "organic_search",
          "organic_search",
          "organic_search",
          "organic_search",
          "organic_search",
          "organic_search",
          "organic_search",
          "organic_search",
          "organic_search",
          "organic_search",
          "organic_search",
          "organic_search",
          "organic_search",
          "organic_search",
          "organic_search",
          "organic_search",
          "organic_search",
          "organic_search",
          "organic_search",
          "organic_search",
          "organic_search",
          "organic_search",
          "organic_search",
          "organic_search",
          "organic_search",
          "organic_search",
          "organic_search",
          "organic_search",
          "organic_search",
          "organic_search",
          "organic_search",
          "organic_search",
          "organic_search",
          "organic_search",
          "organic_search",
          "organic_search",
          "organic_search",
          "organic_search",
          "organic_search",
          "organic_search",
          "organic_search",
          "organic_search",
          "organic_search",
          "organic_search",
          "organic_search",
          "organic_search",
          "organic_search",
          "organic_search",
          "organic_search",
          "organic_search",
          "organic_search",
          "organic_search",
          "organic_search",
          "organic_search",
          "organic_search",
          "organic_search",
          "organic_search",
          "organic_search",
          "organic_search",
          "organic_search",
          "organic_search",
          "organic_search",
          "organic_search",
          "organic_search",
          "organic_search",
          "organic_search",
          "organic_search",
          "organic_search",
          "organic_search",
          "organic_search",
          "organic_search",
          "organic_search",
          "organic_search",
          "organic_search",
          "organic_search",
          "organic_search",
          "organic_search",
          "organic_search",
          "organic_search",
          "organic_search",
          "organic_search",
          "organic_search",
          "organic_search",
          "organic_search",
          "organic_search",
          "organic_search",
          "organic_search",
          "organic_search",
          "organic_search",
          "organic_search",
          "organic_search",
          "organic_search",
          "organic_search",
          "organic_search",
          "organic_search",
          "organic_search",
          "organic_search",
          "organic_search",
          "organic_search",
          "organic_search",
          "organic_search",
          "organic_search",
          "organic_search",
          "organic_search",
          "organic_search",
          "organic_search",
          "organic_search",
          "organic_search",
          "organic_search",
          "organic_search",
          "organic_search",
          "organic_search",
          "organic_search",
          "organic_search",
          "organic_search",
          "organic_search",
          "organic_search",
          "organic_search",
          "organic_search",
          "organic_search",
          "organic_search",
          "organic_search",
          "organic_search",
          "organic_search",
          "organic_search",
          "organic_search",
          "organic_search",
          "organic_search",
          "organic_search",
          "organic_search",
          "organic_search",
          "organic_search",
          "organic_search",
          "organic_search",
          "organic_search",
          "organic_search",
          "organic_search",
          "organic_search",
          "organic_search",
          "organic_search",
          "organic_search",
          "organic_search",
          "organic_search",
          "organic_search",
          "organic_search",
          "organic_search",
          "organic_search",
          "organic_search",
          "organic_search",
          "organic_search",
          "organic_search",
          "organic_search",
          "organic_search",
          "organic_search",
          "organic_search",
          "organic_search",
          "organic_search",
          "organic_search",
          "organic_search",
          "organic_search",
          "organic_search",
          "organic_search",
          "organic_search",
          "organic_search",
          "organic_search",
          "organic_search",
          "organic_search",
          "organic_search",
          "organic_search",
          "organic_search",
          "organic_search",
          "organic_search",
          "organic_search",
          "organic_search",
          "organic_search",
          "organic_search",
          "organic_search",
          "organic_search",
          "organic_search",
          "organic_search",
          "organic_search",
          "organic_search",
          "organic_search",
          "organic_search",
          "organic_search",
          "organic_search",
          "organic_search",
          "organic_search",
          "organic_search",
          "organic_search",
          "organic_search",
          "organic_search",
          "organic_search",
          "organic_search",
          "organic_search",
          "organic_search",
          "organic_search",
          "organic_search",
          "organic_search",
          "organic_search",
          "organic_search",
          "organic_search",
          "organic_search",
          "organic_search",
          "organic_search",
          "organic_search",
          "organic_search",
          "organic_search",
          "organic_search",
          "organic_search",
          "organic_search",
          "organic_search",
          "organic_search",
          "organic_search",
          "organic_search",
          "organic_search",
          "organic_search",
          "organic_search",
          "organic_search",
          "organic_search",
          "organic_search",
          "organic_search",
          "organic_search",
          "organic_search",
          "organic_search",
          "organic_search",
          "organic_search",
          "organic_search",
          "organic_search",
          "organic_search",
          "organic_search",
          "organic_search",
          "organic_search",
          "organic_search",
          "organic_search",
          "organic_search",
          "organic_search",
          "organic_search",
          "organic_search",
          "organic_search",
          "organic_search",
          "organic_search",
          "organic_search",
          "organic_search",
          "organic_search",
          "organic_search",
          "organic_search",
          "organic_search",
          "organic_search",
          "organic_search",
          "organic_search",
          "organic_search",
          "organic_search",
          "organic_search",
          "organic_search",
          "organic_search",
          "organic_search",
          "organic_search",
          "organic_search",
          "organic_search",
          "organic_search",
          "organic_search",
          "organic_search",
          "organic_search",
          "organic_search",
          "organic_search",
          "organic_search",
          "organic_search",
          "organic_search",
          "organic_search",
          "organic_search",
          "organic_search",
          "organic_search",
          "organic_search",
          "organic_search",
          "organic_search",
          "organic_search",
          "organic_search",
          "organic_search",
          "organic_search",
          "organic_search",
          "organic_search",
          "organic_search",
          "organic_search",
          "organic_search",
          "organic_search",
          "organic_search",
          "organic_search",
          "organic_search",
          "organic_search",
          "organic_search",
          "organic_search",
          "organic_search",
          "organic_search",
          "organic_search",
          "organic_search",
          "organic_search",
          "organic_search",
          "organic_search",
          "organic_search",
          "organic_search",
          "organic_search",
          "organic_search",
          "organic_search",
          "organic_search",
          "organic_search",
          "organic_search",
          "organic_search",
          "organic_search",
          "organic_search",
          "organic_search",
          "organic_search",
          "organic_search",
          "organic_search",
          "organic_search",
          "organic_search",
          "organic_search",
          "organic_search",
          "organic_search",
          "organic_search",
          "organic_search",
          "organic_search",
          "organic_search",
          "organic_search",
          "organic_search",
          "organic_search",
          "organic_search",
          "organic_search",
          "organic_search",
          "organic_search",
          "organic_search",
          "organic_search",
          "organic_search",
          "organic_search",
          "organic_search",
          "organic_search",
          "organic_search",
          "organic_search",
          "organic_search",
          "organic_search",
          "organic_search",
          "organic_search",
          "organic_search",
          "organic_search",
          "organic_search",
          "organic_search",
          "organic_search",
          "organic_search",
          "organic_search",
          "organic_search",
          "organic_search",
          "organic_search",
          "organic_search",
          "organic_search",
          "organic_search",
          "organic_search",
          "organic_search",
          "organic_search",
          "organic_search",
          "organic_search",
          "organic_search",
          "organic_search",
          "organic_search",
          "organic_search",
          "organic_search",
          "organic_search",
          "organic_search",
          "organic_search",
          "organic_search",
          "organic_search",
          "organic_search",
          "organic_search",
          "organic_search",
          "organic_search",
          "organic_search",
          "organic_search",
          "organic_search",
          "organic_search",
          "organic_search",
          "organic_search",
          "organic_search",
          "organic_search",
          "organic_search",
          "organic_search",
          "organic_search",
          "organic_search",
          "organic_search",
          "organic_search",
          "organic_search",
          "organic_search",
          "organic_search",
          "organic_search",
          "organic_search",
          "organic_search",
          "organic_search",
          "organic_search",
          "organic_search",
          "organic_search",
          "organic_search",
          "organic_search",
          "organic_search",
          "organic_search",
          "organic_search",
          "organic_search",
          "organic_search",
          "organic_search",
          "organic_search",
          "organic_search",
          "organic_search",
          "organic_search",
          "organic_search",
          "organic_search",
          "organic_search",
          "organic_search",
          "organic_search",
          "organic_search",
          "organic_search",
          "organic_search",
          "organic_search",
          "organic_search",
          "organic_search",
          "organic_search",
          "organic_search",
          "organic_search",
          "organic_search",
          "organic_search",
          "organic_search",
          "organic_search",
          "organic_search",
          "organic_search",
          "organic_search",
          "organic_search",
          "organic_search",
          "organic_search",
          "organic_search",
          "organic_search",
          "organic_search",
          "organic_search",
          "organic_search",
          "organic_search",
          "organic_search",
          "organic_search",
          "organic_search",
          "organic_search",
          "organic_search",
          "organic_search",
          "organic_search",
          "organic_search",
          "organic_search",
          "organic_search",
          "organic_search",
          "organic_search",
          "organic_search",
          "organic_search",
          "organic_search",
          "organic_search",
          "organic_search",
          "organic_search",
          "organic_search",
          "organic_search",
          "organic_search",
          "organic_search",
          "organic_search",
          "organic_search",
          "organic_search",
          "organic_search",
          "organic_search",
          "organic_search",
          "organic_search",
          "organic_search",
          "organic_search",
          "organic_search",
          "organic_search",
          "organic_search",
          "organic_search",
          "organic_search",
          "organic_search",
          "organic_search",
          "organic_search",
          "organic_search",
          "organic_search",
          "organic_search",
          "organic_search",
          "organic_search",
          "organic_search",
          "organic_search",
          "organic_search",
          "organic_search",
          "organic_search",
          "organic_search",
          "organic_search",
          "organic_search",
          "organic_search",
          "organic_search",
          "organic_search",
          "organic_search",
          "organic_search",
          "organic_search",
          "organic_search",
          "organic_search",
          "organic_search",
          "organic_search",
          "organic_search",
          "organic_search",
          "organic_search",
          "organic_search",
          "organic_search",
          "organic_search",
          "organic_search",
          "organic_search",
          "organic_search",
          "organic_search",
          "organic_search",
          "organic_search",
          "organic_search",
          "organic_search",
          "organic_search",
          "organic_search",
          "organic_search",
          "organic_search",
          "organic_search",
          "organic_search",
          "organic_search",
          "organic_search",
          "organic_search",
          "organic_search",
          "organic_search",
          "organic_search",
          "organic_search",
          "organic_search",
          "organic_search",
          "organic_search",
          "organic_search",
          "organic_search",
          "organic_search",
          "organic_search",
          "organic_search",
          "organic_search",
          "organic_search",
          "organic_search",
          "organic_search",
          "organic_search",
          "organic_search",
          "organic_search",
          "organic_search",
          "organic_search",
          "organic_search",
          "organic_search",
          "organic_search",
          "organic_search",
          "organic_search",
          "organic_search",
          "organic_search",
          "organic_search",
          "organic_search",
          "organic_search",
          "organic_search",
          "organic_search",
          "organic_search",
          "organic_search",
          "organic_search",
          "organic_search",
          "organic_search",
          "organic_search",
          "organic_search",
          "organic_search",
          "organic_search",
          "organic_search",
          "organic_search",
          "organic_search",
          "organic_search",
          "organic_search",
          "organic_search",
          "organic_search",
          "organic_search",
          "organic_search",
          "organic_search",
          "organic_search",
          "organic_search",
          "organic_search",
          "organic_search",
          "organic_search",
          "organic_search",
          "organic_search",
          "organic_search",
          "organic_search",
          "organic_search",
          "organic_search",
          "organic_search",
          "organic_search",
          "organic_search",
          "organic_search",
          "organic_search",
          "organic_search",
          "organic_search",
          "organic_search",
          "organic_search",
          "organic_search",
          "organic_search",
          "organic_search",
          "organic_search",
          "organic_search",
          "organic_search",
          "organic_search",
          "organic_search",
          "organic_search",
          "organic_search",
          "organic_search",
          "organic_search",
          "organic_search",
          "organic_search",
          "organic_search",
          "organic_search",
          "organic_search",
          "organic_search",
          "organic_search",
          "organic_search",
          "organic_search",
          "organic_search",
          "organic_search",
          "organic_search",
          "organic_search",
          "organic_search",
          "organic_search",
          "organic_search",
          "organic_search",
          "organic_search",
          "organic_search",
          "organic_search",
          "organic_search",
          "organic_search",
          "organic_search",
          "organic_search",
          "organic_search",
          "organic_search",
          "organic_search",
          "organic_search",
          "organic_search",
          "organic_search",
          "organic_search",
          "organic_search",
          "organic_search",
          "organic_search",
          "organic_search",
          "organic_search",
          "organic_search",
          "organic_search",
          "organic_search",
          "organic_search",
          "organic_search",
          "organic_search",
          "organic_search",
          "organic_search",
          "organic_search",
          "organic_search",
          "organic_search",
          "organic_search",
          "organic_search",
          "organic_search",
          "organic_search",
          "organic_search",
          "organic_search",
          "organic_search",
          "organic_search",
          "organic_search",
          "organic_search",
          "organic_search",
          "organic_search",
          "organic_search",
          "organic_search",
          "organic_search",
          "organic_search",
          "organic_search",
          "organic_search",
          "organic_search",
          "organic_search",
          "organic_search",
          "organic_search",
          "organic_search",
          "organic_search",
          "organic_search",
          "organic_search",
          "organic_search",
          "organic_search",
          "organic_search",
          "organic_search",
          "organic_search",
          "organic_search",
          "organic_search",
          "organic_search",
          "organic_search",
          "organic_search",
          "organic_search",
          "organic_search",
          "organic_search",
          "organic_search",
          "organic_search",
          "organic_search",
          "organic_search",
          "organic_search",
          "organic_search",
          "organic_search",
          "organic_search",
          "organic_search",
          "organic_search",
          "organic_search",
          "organic_search",
          "organic_search",
          "organic_search",
          "organic_search",
          "organic_search",
          "organic_search",
          "organic_search",
          "organic_search",
          "organic_search",
          "organic_search",
          "organic_search",
          "organic_search",
          "organic_search",
          "organic_search",
          "organic_search",
          "organic_search",
          "organic_search",
          "organic_search",
          "organic_search",
          "organic_search",
          "organic_search",
          "organic_search",
          "organic_search",
          "organic_search",
          "organic_search",
          "organic_search",
          "organic_search",
          "organic_search",
          "organic_search",
          "organic_search",
          "organic_search",
          "organic_search",
          "organic_search",
          "organic_search",
          "organic_search",
          "organic_search",
          "organic_search",
          "organic_search",
          "organic_search",
          "organic_search",
          "organic_search",
          "organic_search",
          "organic_search",
          "organic_search",
          "organic_search",
          "organic_search",
          "organic_search",
          "organic_search",
          "organic_search",
          "organic_search",
          "organic_search",
          "organic_search",
          "organic_search",
          "organic_search",
          "organic_search",
          "organic_search",
          "organic_search",
          "organic_search",
          "organic_search",
          "organic_search",
          "organic_search",
          "organic_search",
          "organic_search",
          "organic_search",
          "organic_search",
          "organic_search",
          "organic_search",
          "organic_search",
          "organic_search",
          "organic_search",
          "organic_search",
          "organic_search",
          "organic_search",
          "organic_search",
          "organic_search",
          "organic_search",
          "organic_search",
          "organic_search",
          "organic_search",
          "organic_search",
          "organic_search",
          "organic_search",
          "organic_search",
          "organic_search",
          "organic_search",
          "organic_search",
          "organic_search",
          "organic_search",
          "organic_search",
          "organic_search",
          "organic_search",
          "organic_search",
          "organic_search",
          "organic_search",
          "organic_search",
          "organic_search",
          "organic_search",
          "organic_search",
          "organic_search",
          "organic_search",
          "organic_search",
          "organic_search",
          "organic_search",
          "organic_search",
          "organic_search",
          "organic_search",
          "organic_search",
          "organic_search",
          "organic_search",
          "organic_search",
          "organic_search",
          "organic_search",
          "organic_search",
          "organic_search",
          "organic_search",
          "organic_search",
          "organic_search",
          "organic_search",
          "organic_search",
          "organic_search",
          "organic_search",
          "organic_search",
          "organic_search",
          "organic_search",
          "organic_search",
          "organic_search",
          "organic_search",
          "organic_search",
          "organic_search",
          "organic_search",
          "organic_search",
          "organic_search",
          "organic_search",
          "organic_search",
          "organic_search",
          "organic_search",
          "organic_search",
          "organic_search",
          "organic_search",
          "organic_search",
          "organic_search",
          "organic_search",
          "organic_search",
          "organic_search",
          "organic_search",
          "organic_search",
          "organic_search",
          "organic_search",
          "organic_search",
          "organic_search",
          "organic_search",
          "organic_search",
          "organic_search",
          "organic_search",
          "organic_search",
          "organic_search",
          "organic_search",
          "organic_search",
          "organic_search",
          "organic_search",
          "organic_search",
          "organic_search",
          "organic_search",
          "organic_search",
          "organic_search",
          "organic_search",
          "organic_search",
          "organic_search",
          "organic_search",
          "organic_search",
          "organic_search",
          "organic_search",
          "organic_search",
          "organic_search",
          "organic_search",
          "organic_search",
          "organic_search",
          "organic_search",
          "organic_search",
          "organic_search",
          "organic_search",
          "organic_search",
          "organic_search",
          "organic_search",
          "organic_search",
          "organic_search"
         ],
         "x0": " ",
         "xaxis": "x",
         "y": {
          "bdata": "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",
          "dtype": "f8"
         },
         "y0": " ",
         "yaxis": "y"
        },
        {
         "alignmentgroup": "True",
         "hovertemplate": "origin=%{x}<br>days_to_convert=%{y}<extra></extra>",
         "legendgroup": "email",
         "marker": {
          "color": "#ab63fa"
         },
         "name": "email",
         "notched": false,
         "offsetgroup": "email",
         "orientation": "v",
         "showlegend": true,
         "type": "box",
         "x": [
          "email",
          "email",
          "email",
          "email",
          "email",
          "email",
          "email",
          "email",
          "email",
          "email",
          "email",
          "email",
          "email",
          "email",
          "email",
          "email",
          "email",
          "email",
          "email",
          "email",
          "email",
          "email",
          "email",
          "email",
          "email",
          "email",
          "email",
          "email",
          "email",
          "email",
          "email",
          "email",
          "email",
          "email",
          "email",
          "email",
          "email",
          "email",
          "email",
          "email",
          "email",
          "email",
          "email",
          "email",
          "email",
          "email",
          "email",
          "email",
          "email",
          "email",
          "email",
          "email",
          "email",
          "email",
          "email",
          "email",
          "email",
          "email",
          "email",
          "email",
          "email",
          "email",
          "email",
          "email",
          "email",
          "email",
          "email",
          "email",
          "email",
          "email",
          "email",
          "email",
          "email",
          "email",
          "email",
          "email",
          "email",
          "email",
          "email",
          "email",
          "email",
          "email",
          "email",
          "email",
          "email",
          "email",
          "email",
          "email",
          "email",
          "email",
          "email",
          "email",
          "email",
          "email",
          "email",
          "email",
          "email",
          "email",
          "email",
          "email",
          "email",
          "email",
          "email",
          "email",
          "email",
          "email",
          "email",
          "email",
          "email",
          "email",
          "email",
          "email",
          "email",
          "email",
          "email",
          "email",
          "email",
          "email",
          "email",
          "email",
          "email",
          "email",
          "email",
          "email",
          "email",
          "email",
          "email",
          "email",
          "email",
          "email",
          "email",
          "email",
          "email",
          "email",
          "email",
          "email",
          "email",
          "email",
          "email",
          "email",
          "email",
          "email",
          "email",
          "email",
          "email",
          "email",
          "email",
          "email",
          "email",
          "email",
          "email",
          "email",
          "email",
          "email",
          "email",
          "email",
          "email",
          "email",
          "email",
          "email",
          "email",
          "email",
          "email",
          "email",
          "email",
          "email",
          "email",
          "email",
          "email",
          "email",
          "email",
          "email",
          "email",
          "email",
          "email",
          "email",
          "email",
          "email",
          "email",
          "email",
          "email",
          "email",
          "email",
          "email",
          "email",
          "email",
          "email",
          "email",
          "email",
          "email",
          "email",
          "email",
          "email",
          "email",
          "email",
          "email",
          "email",
          "email",
          "email",
          "email",
          "email",
          "email",
          "email",
          "email",
          "email",
          "email",
          "email",
          "email",
          "email",
          "email",
          "email",
          "email",
          "email",
          "email",
          "email",
          "email",
          "email",
          "email",
          "email",
          "email",
          "email",
          "email",
          "email",
          "email",
          "email",
          "email",
          "email",
          "email",
          "email",
          "email",
          "email",
          "email",
          "email",
          "email",
          "email",
          "email",
          "email",
          "email",
          "email",
          "email",
          "email",
          "email",
          "email",
          "email",
          "email",
          "email",
          "email",
          "email",
          "email",
          "email",
          "email",
          "email",
          "email",
          "email",
          "email",
          "email",
          "email",
          "email",
          "email",
          "email",
          "email",
          "email",
          "email",
          "email",
          "email",
          "email",
          "email",
          "email",
          "email",
          "email",
          "email",
          "email",
          "email",
          "email",
          "email",
          "email",
          "email",
          "email",
          "email",
          "email",
          "email",
          "email",
          "email",
          "email",
          "email",
          "email",
          "email",
          "email",
          "email",
          "email",
          "email",
          "email",
          "email",
          "email",
          "email",
          "email",
          "email",
          "email",
          "email",
          "email",
          "email",
          "email",
          "email",
          "email",
          "email",
          "email",
          "email",
          "email",
          "email",
          "email",
          "email",
          "email",
          "email",
          "email",
          "email",
          "email",
          "email",
          "email",
          "email",
          "email",
          "email",
          "email",
          "email",
          "email",
          "email",
          "email",
          "email",
          "email",
          "email",
          "email",
          "email",
          "email",
          "email",
          "email",
          "email",
          "email",
          "email",
          "email",
          "email",
          "email",
          "email",
          "email",
          "email",
          "email",
          "email",
          "email",
          "email",
          "email",
          "email",
          "email",
          "email",
          "email",
          "email",
          "email",
          "email",
          "email",
          "email",
          "email",
          "email",
          "email",
          "email",
          "email",
          "email",
          "email",
          "email",
          "email",
          "email",
          "email",
          "email",
          "email",
          "email",
          "email",
          "email",
          "email",
          "email",
          "email",
          "email",
          "email",
          "email",
          "email",
          "email",
          "email",
          "email",
          "email",
          "email",
          "email",
          "email",
          "email",
          "email",
          "email",
          "email",
          "email",
          "email",
          "email",
          "email",
          "email",
          "email",
          "email",
          "email",
          "email",
          "email",
          "email",
          "email",
          "email",
          "email",
          "email",
          "email",
          "email",
          "email",
          "email",
          "email",
          "email",
          "email",
          "email",
          "email",
          "email",
          "email",
          "email",
          "email",
          "email",
          "email",
          "email",
          "email",
          "email",
          "email",
          "email",
          "email",
          "email",
          "email",
          "email",
          "email",
          "email",
          "email",
          "email",
          "email",
          "email",
          "email",
          "email",
          "email",
          "email",
          "email",
          "email",
          "email",
          "email",
          "email",
          "email",
          "email",
          "email",
          "email",
          "email",
          "email",
          "email",
          "email",
          "email",
          "email",
          "email",
          "email",
          "email",
          "email",
          "email",
          "email",
          "email",
          "email",
          "email",
          "email",
          "email",
          "email",
          "email",
          "email",
          "email",
          "email",
          "email",
          "email",
          "email",
          "email",
          "email",
          "email",
          "email",
          "email",
          "email",
          "email",
          "email",
          "email",
          "email",
          "email",
          "email",
          "email",
          "email",
          "email",
          "email",
          "email",
          "email",
          "email"
         ],
         "x0": " ",
         "xaxis": "x",
         "y": {
          "bdata": "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",
          "dtype": "f8"
         },
         "y0": " ",
         "yaxis": "y"
        },
        {
         "alignmentgroup": "True",
         "hovertemplate": "origin=%{x}<br>days_to_convert=%{y}<extra></extra>",
         "legendgroup": "referral",
         "marker": {
          "color": "#FFA15A"
         },
         "name": "referral",
         "notched": false,
         "offsetgroup": "referral",
         "orientation": "v",
         "showlegend": true,
         "type": "box",
         "x": [
          "referral",
          "referral",
          "referral",
          "referral",
          "referral",
          "referral",
          "referral",
          "referral",
          "referral",
          "referral",
          "referral",
          "referral",
          "referral",
          "referral",
          "referral",
          "referral",
          "referral",
          "referral",
          "referral",
          "referral",
          "referral",
          "referral",
          "referral",
          "referral",
          "referral",
          "referral",
          "referral",
          "referral",
          "referral",
          "referral",
          "referral",
          "referral",
          "referral",
          "referral",
          "referral",
          "referral",
          "referral",
          "referral",
          "referral",
          "referral",
          "referral",
          "referral",
          "referral",
          "referral",
          "referral",
          "referral",
          "referral",
          "referral",
          "referral",
          "referral",
          "referral",
          "referral",
          "referral",
          "referral",
          "referral",
          "referral",
          "referral",
          "referral",
          "referral",
          "referral",
          "referral",
          "referral",
          "referral",
          "referral",
          "referral",
          "referral",
          "referral",
          "referral",
          "referral",
          "referral",
          "referral",
          "referral",
          "referral",
          "referral",
          "referral",
          "referral",
          "referral",
          "referral",
          "referral",
          "referral",
          "referral",
          "referral",
          "referral",
          "referral",
          "referral",
          "referral",
          "referral",
          "referral",
          "referral",
          "referral",
          "referral",
          "referral",
          "referral",
          "referral",
          "referral",
          "referral",
          "referral",
          "referral",
          "referral",
          "referral",
          "referral",
          "referral",
          "referral",
          "referral",
          "referral",
          "referral",
          "referral",
          "referral",
          "referral",
          "referral",
          "referral",
          "referral",
          "referral",
          "referral",
          "referral",
          "referral",
          "referral",
          "referral",
          "referral",
          "referral",
          "referral",
          "referral",
          "referral",
          "referral",
          "referral",
          "referral",
          "referral",
          "referral",
          "referral",
          "referral",
          "referral",
          "referral",
          "referral",
          "referral",
          "referral",
          "referral",
          "referral",
          "referral",
          "referral",
          "referral",
          "referral",
          "referral",
          "referral",
          "referral",
          "referral",
          "referral",
          "referral",
          "referral",
          "referral",
          "referral",
          "referral",
          "referral",
          "referral",
          "referral",
          "referral",
          "referral",
          "referral",
          "referral",
          "referral",
          "referral",
          "referral",
          "referral",
          "referral",
          "referral",
          "referral",
          "referral",
          "referral",
          "referral",
          "referral",
          "referral",
          "referral",
          "referral",
          "referral",
          "referral",
          "referral",
          "referral",
          "referral",
          "referral",
          "referral",
          "referral",
          "referral",
          "referral",
          "referral",
          "referral",
          "referral",
          "referral",
          "referral",
          "referral",
          "referral",
          "referral",
          "referral",
          "referral",
          "referral",
          "referral",
          "referral",
          "referral",
          "referral",
          "referral",
          "referral",
          "referral",
          "referral",
          "referral",
          "referral",
          "referral",
          "referral",
          "referral",
          "referral",
          "referral",
          "referral",
          "referral",
          "referral",
          "referral",
          "referral",
          "referral",
          "referral",
          "referral",
          "referral",
          "referral",
          "referral",
          "referral",
          "referral",
          "referral",
          "referral",
          "referral",
          "referral",
          "referral",
          "referral",
          "referral",
          "referral",
          "referral",
          "referral",
          "referral",
          "referral",
          "referral",
          "referral",
          "referral",
          "referral",
          "referral",
          "referral",
          "referral",
          "referral",
          "referral",
          "referral",
          "referral",
          "referral",
          "referral",
          "referral",
          "referral",
          "referral",
          "referral",
          "referral",
          "referral",
          "referral",
          "referral",
          "referral",
          "referral",
          "referral",
          "referral",
          "referral",
          "referral",
          "referral",
          "referral",
          "referral",
          "referral",
          "referral",
          "referral",
          "referral",
          "referral",
          "referral",
          "referral",
          "referral",
          "referral",
          "referral",
          "referral",
          "referral",
          "referral",
          "referral",
          "referral",
          "referral",
          "referral",
          "referral",
          "referral",
          "referral",
          "referral"
         ],
         "x0": " ",
         "xaxis": "x",
         "y": {
          "bdata": "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",
          "dtype": "f8"
         },
         "y0": " ",
         "yaxis": "y"
        },
        {
         "alignmentgroup": "True",
         "hovertemplate": "origin=%{x}<br>days_to_convert=%{y}<extra></extra>",
         "legendgroup": "direct_traffic",
         "marker": {
          "color": "#19d3f3"
         },
         "name": "direct_traffic",
         "notched": false,
         "offsetgroup": "direct_traffic",
         "orientation": "v",
         "showlegend": true,
         "type": "box",
         "x": [
          "direct_traffic",
          "direct_traffic",
          "direct_traffic",
          "direct_traffic",
          "direct_traffic",
          "direct_traffic",
          "direct_traffic",
          "direct_traffic",
          "direct_traffic",
          "direct_traffic",
          "direct_traffic",
          "direct_traffic",
          "direct_traffic",
          "direct_traffic",
          "direct_traffic",
          "direct_traffic",
          "direct_traffic",
          "direct_traffic",
          "direct_traffic",
          "direct_traffic",
          "direct_traffic",
          "direct_traffic",
          "direct_traffic",
          "direct_traffic",
          "direct_traffic",
          "direct_traffic",
          "direct_traffic",
          "direct_traffic",
          "direct_traffic",
          "direct_traffic",
          "direct_traffic",
          "direct_traffic",
          "direct_traffic",
          "direct_traffic",
          "direct_traffic",
          "direct_traffic",
          "direct_traffic",
          "direct_traffic",
          "direct_traffic",
          "direct_traffic",
          "direct_traffic",
          "direct_traffic",
          "direct_traffic",
          "direct_traffic",
          "direct_traffic",
          "direct_traffic",
          "direct_traffic",
          "direct_traffic",
          "direct_traffic",
          "direct_traffic",
          "direct_traffic",
          "direct_traffic",
          "direct_traffic",
          "direct_traffic",
          "direct_traffic",
          "direct_traffic",
          "direct_traffic",
          "direct_traffic",
          "direct_traffic",
          "direct_traffic",
          "direct_traffic",
          "direct_traffic",
          "direct_traffic",
          "direct_traffic",
          "direct_traffic",
          "direct_traffic",
          "direct_traffic",
          "direct_traffic",
          "direct_traffic",
          "direct_traffic",
          "direct_traffic",
          "direct_traffic",
          "direct_traffic",
          "direct_traffic",
          "direct_traffic",
          "direct_traffic",
          "direct_traffic",
          "direct_traffic",
          "direct_traffic",
          "direct_traffic",
          "direct_traffic",
          "direct_traffic",
          "direct_traffic",
          "direct_traffic",
          "direct_traffic",
          "direct_traffic",
          "direct_traffic",
          "direct_traffic",
          "direct_traffic",
          "direct_traffic",
          "direct_traffic",
          "direct_traffic",
          "direct_traffic",
          "direct_traffic",
          "direct_traffic",
          "direct_traffic",
          "direct_traffic",
          "direct_traffic",
          "direct_traffic",
          "direct_traffic",
          "direct_traffic",
          "direct_traffic",
          "direct_traffic",
          "direct_traffic",
          "direct_traffic",
          "direct_traffic",
          "direct_traffic",
          "direct_traffic",
          "direct_traffic",
          "direct_traffic",
          "direct_traffic",
          "direct_traffic",
          "direct_traffic",
          "direct_traffic",
          "direct_traffic",
          "direct_traffic",
          "direct_traffic",
          "direct_traffic",
          "direct_traffic",
          "direct_traffic",
          "direct_traffic",
          "direct_traffic",
          "direct_traffic",
          "direct_traffic",
          "direct_traffic",
          "direct_traffic",
          "direct_traffic",
          "direct_traffic",
          "direct_traffic",
          "direct_traffic",
          "direct_traffic",
          "direct_traffic",
          "direct_traffic",
          "direct_traffic",
          "direct_traffic",
          "direct_traffic",
          "direct_traffic",
          "direct_traffic",
          "direct_traffic",
          "direct_traffic",
          "direct_traffic",
          "direct_traffic",
          "direct_traffic",
          "direct_traffic",
          "direct_traffic",
          "direct_traffic",
          "direct_traffic",
          "direct_traffic",
          "direct_traffic",
          "direct_traffic",
          "direct_traffic",
          "direct_traffic",
          "direct_traffic",
          "direct_traffic",
          "direct_traffic",
          "direct_traffic",
          "direct_traffic",
          "direct_traffic",
          "direct_traffic",
          "direct_traffic",
          "direct_traffic",
          "direct_traffic",
          "direct_traffic",
          "direct_traffic",
          "direct_traffic",
          "direct_traffic",
          "direct_traffic",
          "direct_traffic",
          "direct_traffic",
          "direct_traffic",
          "direct_traffic",
          "direct_traffic",
          "direct_traffic",
          "direct_traffic",
          "direct_traffic",
          "direct_traffic",
          "direct_traffic",
          "direct_traffic",
          "direct_traffic",
          "direct_traffic",
          "direct_traffic",
          "direct_traffic",
          "direct_traffic",
          "direct_traffic",
          "direct_traffic",
          "direct_traffic",
          "direct_traffic",
          "direct_traffic",
          "direct_traffic",
          "direct_traffic",
          "direct_traffic",
          "direct_traffic",
          "direct_traffic",
          "direct_traffic",
          "direct_traffic",
          "direct_traffic",
          "direct_traffic",
          "direct_traffic",
          "direct_traffic",
          "direct_traffic",
          "direct_traffic",
          "direct_traffic",
          "direct_traffic",
          "direct_traffic",
          "direct_traffic",
          "direct_traffic",
          "direct_traffic",
          "direct_traffic",
          "direct_traffic",
          "direct_traffic",
          "direct_traffic",
          "direct_traffic",
          "direct_traffic",
          "direct_traffic",
          "direct_traffic",
          "direct_traffic",
          "direct_traffic",
          "direct_traffic",
          "direct_traffic",
          "direct_traffic",
          "direct_traffic",
          "direct_traffic",
          "direct_traffic",
          "direct_traffic",
          "direct_traffic",
          "direct_traffic",
          "direct_traffic",
          "direct_traffic",
          "direct_traffic",
          "direct_traffic",
          "direct_traffic",
          "direct_traffic",
          "direct_traffic",
          "direct_traffic",
          "direct_traffic",
          "direct_traffic",
          "direct_traffic",
          "direct_traffic",
          "direct_traffic",
          "direct_traffic",
          "direct_traffic",
          "direct_traffic",
          "direct_traffic",
          "direct_traffic",
          "direct_traffic",
          "direct_traffic",
          "direct_traffic",
          "direct_traffic",
          "direct_traffic",
          "direct_traffic",
          "direct_traffic",
          "direct_traffic",
          "direct_traffic",
          "direct_traffic",
          "direct_traffic",
          "direct_traffic",
          "direct_traffic",
          "direct_traffic",
          "direct_traffic",
          "direct_traffic",
          "direct_traffic",
          "direct_traffic",
          "direct_traffic",
          "direct_traffic",
          "direct_traffic",
          "direct_traffic",
          "direct_traffic",
          "direct_traffic",
          "direct_traffic",
          "direct_traffic",
          "direct_traffic",
          "direct_traffic",
          "direct_traffic",
          "direct_traffic",
          "direct_traffic",
          "direct_traffic",
          "direct_traffic",
          "direct_traffic",
          "direct_traffic",
          "direct_traffic",
          "direct_traffic",
          "direct_traffic",
          "direct_traffic",
          "direct_traffic",
          "direct_traffic",
          "direct_traffic",
          "direct_traffic",
          "direct_traffic",
          "direct_traffic",
          "direct_traffic",
          "direct_traffic",
          "direct_traffic",
          "direct_traffic",
          "direct_traffic",
          "direct_traffic",
          "direct_traffic",
          "direct_traffic",
          "direct_traffic",
          "direct_traffic",
          "direct_traffic",
          "direct_traffic",
          "direct_traffic",
          "direct_traffic",
          "direct_traffic",
          "direct_traffic",
          "direct_traffic",
          "direct_traffic",
          "direct_traffic",
          "direct_traffic",
          "direct_traffic",
          "direct_traffic",
          "direct_traffic",
          "direct_traffic",
          "direct_traffic",
          "direct_traffic",
          "direct_traffic",
          "direct_traffic",
          "direct_traffic",
          "direct_traffic",
          "direct_traffic",
          "direct_traffic",
          "direct_traffic",
          "direct_traffic",
          "direct_traffic",
          "direct_traffic",
          "direct_traffic",
          "direct_traffic",
          "direct_traffic",
          "direct_traffic",
          "direct_traffic",
          "direct_traffic",
          "direct_traffic",
          "direct_traffic",
          "direct_traffic",
          "direct_traffic",
          "direct_traffic",
          "direct_traffic",
          "direct_traffic",
          "direct_traffic",
          "direct_traffic",
          "direct_traffic",
          "direct_traffic",
          "direct_traffic",
          "direct_traffic",
          "direct_traffic",
          "direct_traffic",
          "direct_traffic",
          "direct_traffic",
          "direct_traffic",
          "direct_traffic",
          "direct_traffic",
          "direct_traffic",
          "direct_traffic",
          "direct_traffic",
          "direct_traffic",
          "direct_traffic",
          "direct_traffic",
          "direct_traffic",
          "direct_traffic",
          "direct_traffic",
          "direct_traffic",
          "direct_traffic",
          "direct_traffic",
          "direct_traffic",
          "direct_traffic",
          "direct_traffic",
          "direct_traffic",
          "direct_traffic",
          "direct_traffic",
          "direct_traffic",
          "direct_traffic",
          "direct_traffic",
          "direct_traffic",
          "direct_traffic",
          "direct_traffic",
          "direct_traffic",
          "direct_traffic",
          "direct_traffic",
          "direct_traffic",
          "direct_traffic",
          "direct_traffic",
          "direct_traffic",
          "direct_traffic",
          "direct_traffic",
          "direct_traffic",
          "direct_traffic",
          "direct_traffic",
          "direct_traffic",
          "direct_traffic",
          "direct_traffic",
          "direct_traffic",
          "direct_traffic",
          "direct_traffic",
          "direct_traffic",
          "direct_traffic",
          "direct_traffic",
          "direct_traffic",
          "direct_traffic",
          "direct_traffic",
          "direct_traffic",
          "direct_traffic",
          "direct_traffic",
          "direct_traffic",
          "direct_traffic",
          "direct_traffic",
          "direct_traffic",
          "direct_traffic",
          "direct_traffic",
          "direct_traffic",
          "direct_traffic",
          "direct_traffic",
          "direct_traffic",
          "direct_traffic",
          "direct_traffic",
          "direct_traffic",
          "direct_traffic",
          "direct_traffic",
          "direct_traffic",
          "direct_traffic",
          "direct_traffic",
          "direct_traffic",
          "direct_traffic",
          "direct_traffic",
          "direct_traffic",
          "direct_traffic",
          "direct_traffic",
          "direct_traffic",
          "direct_traffic",
          "direct_traffic",
          "direct_traffic",
          "direct_traffic",
          "direct_traffic",
          "direct_traffic",
          "direct_traffic",
          "direct_traffic",
          "direct_traffic",
          "direct_traffic",
          "direct_traffic",
          "direct_traffic",
          "direct_traffic",
          "direct_traffic",
          "direct_traffic",
          "direct_traffic",
          "direct_traffic",
          "direct_traffic",
          "direct_traffic",
          "direct_traffic",
          "direct_traffic",
          "direct_traffic",
          "direct_traffic",
          "direct_traffic",
          "direct_traffic",
          "direct_traffic",
          "direct_traffic",
          "direct_traffic",
          "direct_traffic",
          "direct_traffic",
          "direct_traffic",
          "direct_traffic",
          "direct_traffic",
          "direct_traffic",
          "direct_traffic",
          "direct_traffic",
          "direct_traffic",
          "direct_traffic",
          "direct_traffic",
          "direct_traffic",
          "direct_traffic",
          "direct_traffic",
          "direct_traffic",
          "direct_traffic",
          "direct_traffic",
          "direct_traffic",
          "direct_traffic",
          "direct_traffic",
          "direct_traffic",
          "direct_traffic",
          "direct_traffic",
          "direct_traffic",
          "direct_traffic",
          "direct_traffic",
          "direct_traffic",
          "direct_traffic",
          "direct_traffic",
          "direct_traffic",
          "direct_traffic",
          "direct_traffic",
          "direct_traffic",
          "direct_traffic",
          "direct_traffic",
          "direct_traffic",
          "direct_traffic",
          "direct_traffic",
          "direct_traffic",
          "direct_traffic",
          "direct_traffic",
          "direct_traffic",
          "direct_traffic",
          "direct_traffic"
         ],
         "x0": " ",
         "xaxis": "x",
         "y": {
          "bdata": "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",
          "dtype": "f8"
         },
         "y0": " ",
         "yaxis": "y"
        },
        {
         "alignmentgroup": "True",
         "hovertemplate": "origin=%{x}<br>days_to_convert=%{y}<extra></extra>",
         "legendgroup": "display",
         "marker": {
          "color": "#FF6692"
         },
         "name": "display",
         "notched": false,
         "offsetgroup": "display",
         "orientation": "v",
         "showlegend": true,
         "type": "box",
         "x": [
          "display",
          "display",
          "display",
          "display",
          "display",
          "display",
          "display",
          "display",
          "display",
          "display",
          "display",
          "display",
          "display",
          "display",
          "display",
          "display",
          "display",
          "display",
          "display",
          "display",
          "display",
          "display",
          "display",
          "display",
          "display",
          "display",
          "display",
          "display",
          "display",
          "display",
          "display",
          "display",
          "display",
          "display",
          "display",
          "display",
          "display",
          "display",
          "display",
          "display",
          "display",
          "display",
          "display",
          "display",
          "display",
          "display",
          "display",
          "display",
          "display",
          "display",
          "display",
          "display",
          "display",
          "display",
          "display",
          "display",
          "display",
          "display",
          "display",
          "display",
          "display",
          "display",
          "display",
          "display",
          "display",
          "display",
          "display",
          "display",
          "display",
          "display",
          "display",
          "display",
          "display",
          "display",
          "display",
          "display",
          "display",
          "display",
          "display",
          "display",
          "display",
          "display",
          "display",
          "display",
          "display",
          "display",
          "display",
          "display",
          "display",
          "display",
          "display",
          "display",
          "display",
          "display",
          "display",
          "display",
          "display",
          "display",
          "display",
          "display",
          "display",
          "display",
          "display",
          "display",
          "display",
          "display",
          "display",
          "display",
          "display",
          "display",
          "display",
          "display",
          "display",
          "display",
          "display",
          "display",
          "display",
          "display"
         ],
         "x0": " ",
         "xaxis": "x",
         "y": {
          "bdata": "AAAAAAAA+H8AAAAAAAD4fwAAAAAAAPh/AAAAAAAA+H8AAAAAAAD4fwAAAAAAAPh/AAAAAAAA+H8AAAAAAAD4fwAAAAAAAPh/AAAAAAAA+H8AAAAAAAD4fwAAAAAAAPh/AAAAAAAA+H8AAAAAAAD4fwAAAAAAAPh/AAAAAAAA+H8AAAAAAAD4fwAAAAAAAPh/AAAAAAAA+H8AAAAAAAD4fwAAAAAAAPh/AAAAAAAA+H8AAAAAAAD4fwAAAAAAAPh/AAAAAAAA+H8AAAAAAAD4fwAAAAAAAPh/AAAAAAAA+H8AAAAAAAD4fwAAAAAAAPh/AAAAAAAA+H8AAAAAAAD4fwAAAAAAAPh/AAAAAAAA+H8AAAAAAAD4fwAAAAAAAPh/AAAAAAAA+H8AAAAAAAD4fwAAAAAAADlAAAAAAAAA+H8AAAAAAAAwQAAAAAAAAPh/AAAAAAAA+H8AAAAAAAD4fwAAAAAAAPh/AAAAAAAA+H8AAAAAAAD4fwAAAAAAAPh/AAAAAAAA+H8AAAAAAAD4fwAAAAAAAPh/AAAAAAAA+H8AAAAAAAD4fwAAAAAAAPh/AAAAAAAA+H8AAAAAAAD4fwAAAAAAAPh/AAAAAAAA+H8AAAAAAAD4fwAAAAAAAPh/AAAAAAAA+H8AAAAAAAD4fwAAAAAAABxAAAAAAAAA+H8AAAAAAAAkQAAAAAAAAPh/AAAAAAAA+H8AAAAAAAD4fwAAAAAAAPh/AAAAAAAA+H8AAAAAAAD4fwAAAAAAAPh/AAAAAAAA+H8AAAAAAAD4fwAAAAAAAPh/AAAAAAAAAAAAAAAAAAD4fwAAAAAAAPh/AAAAAAAA+H8AAAAAAAD4fwAAAAAAAPh/AAAAAAAA+H8AAAAAAAD4fwAAAAAAAPh/AAAAAAAA+H8AAAAAAAD4fwAAAAAAAPh/AAAAAAAA+H8AAAAAAAD4fwAAAAAAAPh/AAAAAAAA+H8AAAAAAAD4fwAAAAAAAPh/AAAAAAAA+H8AAAAAAAD4fwAAAAAAAPh/AAAAAAAA+H8AAAAAAAD4fwAAAAAAAPh/AAAAAAAA+H8AAAAAAAD4fwAAAAAAAPh/AAAAAAAA+H8AAAAAAAD4fwAAAAAAAPh/AAAAAAAA+H8AAAAAAAD4fwAAAAAAAPh/AAAAAAAA+H8AAAAAAAD4fwAAAAAAAPh/AAAAAAAA+H8AAAAAAAD4fwAAAAAAAPh/AAAAAAAA+H8AAAAAAAD4fwAAAAAAABBAAAAAAAAA+H8=",
          "dtype": "f8"
         },
         "y0": " ",
         "yaxis": "y"
        },
        {
         "alignmentgroup": "True",
         "hovertemplate": "origin=%{x}<br>days_to_convert=%{y}<extra></extra>",
         "legendgroup": "other_publicities",
         "marker": {
          "color": "#B6E880"
         },
         "name": "other_publicities",
         "notched": false,
         "offsetgroup": "other_publicities",
         "orientation": "v",
         "showlegend": true,
         "type": "box",
         "x": [
          "other_publicities",
          "other_publicities",
          "other_publicities",
          "other_publicities",
          "other_publicities",
          "other_publicities",
          "other_publicities",
          "other_publicities",
          "other_publicities",
          "other_publicities",
          "other_publicities",
          "other_publicities",
          "other_publicities",
          "other_publicities",
          "other_publicities",
          "other_publicities",
          "other_publicities",
          "other_publicities",
          "other_publicities",
          "other_publicities",
          "other_publicities",
          "other_publicities",
          "other_publicities",
          "other_publicities",
          "other_publicities",
          "other_publicities",
          "other_publicities",
          "other_publicities",
          "other_publicities",
          "other_publicities",
          "other_publicities",
          "other_publicities",
          "other_publicities",
          "other_publicities",
          "other_publicities",
          "other_publicities",
          "other_publicities",
          "other_publicities",
          "other_publicities",
          "other_publicities",
          "other_publicities",
          "other_publicities",
          "other_publicities",
          "other_publicities",
          "other_publicities",
          "other_publicities",
          "other_publicities",
          "other_publicities",
          "other_publicities",
          "other_publicities",
          "other_publicities",
          "other_publicities",
          "other_publicities",
          "other_publicities",
          "other_publicities",
          "other_publicities",
          "other_publicities",
          "other_publicities",
          "other_publicities",
          "other_publicities",
          "other_publicities",
          "other_publicities",
          "other_publicities",
          "other_publicities",
          "other_publicities"
         ],
         "x0": " ",
         "xaxis": "x",
         "y": {
          "bdata": "AAAAAAAA+H8AAAAAAAD4fwAAAAAAAPh/AAAAAAAA+H8AAAAAAAD4fwAAAAAAAPh/AAAAAAAA+H8AAAAAAAD4fwAAAAAAAPh/AAAAAAAA+H8AAAAAAAD4fwAAAAAAAPh/AAAAAAAA+H8AAAAAAABIQAAAAAAAAPh/AAAAAAAA+H8AAAAAAAD4fwAAAAAAAPh/AAAAAAAA+H8AAAAAAAD4fwAAAAAAAPh/AAAAAAAA+H8AAAAAAAD4fwAAAAAAAPh/AAAAAAAA+H8AAAAAAAD4fwAAAAAAAPh/AAAAAAAA+H8AAAAAAAD4fwAAAAAAAPh/AAAAAAAA+H8AAAAAAAD4fwAAAAAAAPh/AAAAAAAA+H8AAAAAAAD4fwAAAAAAAPh/AAAAAAAA+H8AAAAAAAD4fwAAAAAAAPh/AAAAAAAA+H8AAAAAAAD4fwAAAAAAAPh/AAAAAAAA+H8AAAAAAAD4fwAAAAAAAPh/AAAAAAAA+H8AAAAAAAD4fwAAAAAAAPh/AAAAAACAQUAAAAAAAAD4fwAAAAAAgEFAAAAAAAAA+H8AAAAAAAD4fwAAAAAAAPh/AAAAAAAA+H8AAAAAAAD4fwAAAAAAAPh/AAAAAAAA+H8AAAAAAAD4fwAAAAAAAPh/AAAAAAAA+H8AAAAAAAD4fwAAAAAAAPh/AAAAAAAA+H8AAAAAAAD4fw==",
          "dtype": "f8"
         },
         "y0": " ",
         "yaxis": "y"
        },
        {
         "alignmentgroup": "True",
         "hovertemplate": "origin=%{x}<br>days_to_convert=%{y}<extra></extra>",
         "legendgroup": "other",
         "marker": {
          "color": "#FF97FF"
         },
         "name": "other",
         "notched": false,
         "offsetgroup": "other",
         "orientation": "v",
         "showlegend": true,
         "type": "box",
         "x": [
          "other",
          "other",
          "other",
          "other",
          "other",
          "other",
          "other",
          "other",
          "other",
          "other",
          "other",
          "other",
          "other",
          "other",
          "other",
          "other",
          "other",
          "other",
          "other",
          "other",
          "other",
          "other",
          "other",
          "other",
          "other",
          "other",
          "other",
          "other",
          "other",
          "other",
          "other",
          "other",
          "other",
          "other",
          "other",
          "other",
          "other",
          "other",
          "other",
          "other",
          "other",
          "other",
          "other",
          "other",
          "other",
          "other",
          "other",
          "other",
          "other",
          "other",
          "other",
          "other",
          "other",
          "other",
          "other",
          "other",
          "other",
          "other",
          "other",
          "other",
          "other",
          "other",
          "other",
          "other",
          "other",
          "other",
          "other",
          "other",
          "other",
          "other",
          "other",
          "other",
          "other",
          "other",
          "other",
          "other",
          "other",
          "other",
          "other",
          "other",
          "other",
          "other",
          "other",
          "other",
          "other",
          "other",
          "other",
          "other",
          "other",
          "other",
          "other",
          "other",
          "other",
          "other",
          "other",
          "other",
          "other",
          "other",
          "other",
          "other",
          "other",
          "other",
          "other",
          "other",
          "other",
          "other",
          "other",
          "other",
          "other",
          "other",
          "other",
          "other",
          "other",
          "other",
          "other",
          "other",
          "other",
          "other",
          "other",
          "other",
          "other",
          "other",
          "other",
          "other",
          "other",
          "other",
          "other",
          "other",
          "other",
          "other",
          "other",
          "other",
          "other",
          "other",
          "other",
          "other",
          "other",
          "other",
          "other",
          "other",
          "other",
          "other",
          "other",
          "other",
          "other",
          "other",
          "other",
          "other",
          "other",
          "other"
         ],
         "x0": " ",
         "xaxis": "x",
         "y": {
          "bdata": "AAAAAAAA+H8AAAAAAAD4fwAAAAAAAPh/AAAAAAAA+H8AAAAAAAD4fwAAAAAAAPh/AAAAAAAA+H8AAAAAAAD4fwAAAAAAAPh/AAAAAAAA+H8AAAAAAAD4fwAAAAAAAPh/AAAAAAAA+H8AAAAAAAD4fwAAAAAAAPh/AAAAAAAA+H8AAAAAAAD4fwAAAAAAAPh/AAAAAAAA+H8AAAAAAAD4fwAAAAAAAPh/AAAAAAAA+H8AAAAAAAD4fwAAAAAAAPh/AAAAAAAA+H8AAAAAAAD4fwAAAAAAAPh/AAAAAAAA+H8AAAAAAAD4fwAAAAAAAPh/AAAAAAAA+H8AAAAAAAD4fwAAAAAAAPh/AAAAAAAA+H8AAAAAAAD4fwAAAAAAAPh/AAAAAAAA+H8AAAAAAAD4fwAAAAAAAPh/AAAAAAAA+H8AAAAAAAD4fwAAAAAAAPh/AAAAAAAA+H8AAAAAAAD4fwAAAAAAAPh/AAAAAAAA+H8AAAAAAAD4fwAAAAAAAPA/AAAAAAAA+H8AAAAAAAD4fwAAAAAAAPh/AAAAAAAA+H8AAAAAAAD4fwAAAAAAAPh/AAAAAAAA+H8AAAAAAAD4fwAAAAAAAPh/AAAAAAAA+H8AAAAAAAAUQAAAAAAAAPh/AAAAAAAA+H8AAAAAAAD4fwAAAAAAAPh/AAAAAAAA+H8AAAAAAAD4fwAAAAAAAPh/AAAAAAAA+H8AAAAAAAD4fwAAAAAAAPh/AAAAAAAA+H8AAAAAAAD4fwAAAAAAAPh/AAAAAAAA+H8AAAAAAAD4fwAAAAAAAPh/AAAAAAAA+H8AAAAAAAD4fwAAAAAAAPh/AAAAAAAA+H8AAAAAAAD4fwAAAAAAAPh/AAAAAAAA+H8AAAAAAAD4fwAAAAAAAPh/AAAAAAAA+H8AAAAAAAD4fwAAAAAAAPh/AAAAAAAA+H8AAAAAAAD4fwAAAAAAAPh/AAAAAAAA+H8AAAAAAAD4fwAAAAAAAPh/AAAAAAAA+H8AAAAAAAD4fwAAAAAAAPh/AAAAAAAA+H8AAAAAAAD4fwAAAAAAAPh/AAAAAAAA+H8AAAAAAAD4fwAAAAAAAPh/AAAAAAAA+H8AAAAAAAD4fwAAAAAAAPh/AAAAAAAA+H8AAAAAAAD4fwAAAAAAAPh/AAAAAAAA+H8AAAAAAAD4fwAAAAAAAPh/AAAAAAAA+H8AAAAAAAD4fwAAAAAAAPh/AAAAAAAA+H8AAAAAAAD4fwAAAAAAAPh/AAAAAAAA+H8AAAAAAAD4fwAAAAAAAPh/AAAAAAAA+H8AAAAAAAD4fwAAAAAAAPh/AAAAAAAA+H8AAAAAAAD4fwAAAAAAAPh/AAAAAAAA+H8AAAAAAAD4fwAAAAAAAPh/AAAAAAAA+H8AAAAAAAD4fwAAAAAAAPh/AAAAAAAA+H8AAAAAAAD4fwAAAAAAAPh/AAAAAAAA+H8AAAAAAAD4fwAAAAAAAPh/AAAAAAAA+H8AAAAAAAD4fwAAAAAAAPh/AAAAAAAA+H8AAAAAAAD4fwAAAAAAAPh/AAAAAAAA+H8AAAAAAAD4fwAAAAAAAPh/AAAAAAAAKkAAAAAAAABFQAAAAAAAAPh/",
          "dtype": "f8"
         },
         "y0": " ",
         "yaxis": "y"
        }
       ],
       "layout": {
        "boxmode": "overlay",
        "legend": {
         "title": {
          "text": "origin"
         },
         "tracegroupgap": 0
        },
        "margin": {
         "t": 60
        },
        "template": {
         "data": {
          "bar": [
           {
            "error_x": {
             "color": "#2a3f5f"
            },
            "error_y": {
             "color": "#2a3f5f"
            },
            "marker": {
             "line": {
              "color": "#E5ECF6",
              "width": 0.5
             },
             "pattern": {
              "fillmode": "overlay",
              "size": 10,
              "solidity": 0.2
             }
            },
            "type": "bar"
           }
          ],
          "barpolar": [
           {
            "marker": {
             "line": {
              "color": "#E5ECF6",
              "width": 0.5
             },
             "pattern": {
              "fillmode": "overlay",
              "size": 10,
              "solidity": 0.2
             }
            },
            "type": "barpolar"
           }
          ],
          "carpet": [
           {
            "aaxis": {
             "endlinecolor": "#2a3f5f",
             "gridcolor": "white",
             "linecolor": "white",
             "minorgridcolor": "white",
             "startlinecolor": "#2a3f5f"
            },
            "baxis": {
             "endlinecolor": "#2a3f5f",
             "gridcolor": "white",
             "linecolor": "white",
             "minorgridcolor": "white",
             "startlinecolor": "#2a3f5f"
            },
            "type": "carpet"
           }
          ],
          "choropleth": [
           {
            "colorbar": {
             "outlinewidth": 0,
             "ticks": ""
            },
            "type": "choropleth"
           }
          ],
          "contour": [
           {
            "colorbar": {
             "outlinewidth": 0,
             "ticks": ""
            },
            "colorscale": [
             [
              0,
              "#0d0887"
             ],
             [
              0.1111111111111111,
              "#46039f"
             ],
             [
              0.2222222222222222,
              "#7201a8"
             ],
             [
              0.3333333333333333,
              "#9c179e"
             ],
             [
              0.4444444444444444,
              "#bd3786"
             ],
             [
              0.5555555555555556,
              "#d8576b"
             ],
             [
              0.6666666666666666,
              "#ed7953"
             ],
             [
              0.7777777777777778,
              "#fb9f3a"
             ],
             [
              0.8888888888888888,
              "#fdca26"
             ],
             [
              1,
              "#f0f921"
             ]
            ],
            "type": "contour"
           }
          ],
          "contourcarpet": [
           {
            "colorbar": {
             "outlinewidth": 0,
             "ticks": ""
            },
            "type": "contourcarpet"
           }
          ],
          "heatmap": [
           {
            "colorbar": {
             "outlinewidth": 0,
             "ticks": ""
            },
            "colorscale": [
             [
              0,
              "#0d0887"
             ],
             [
              0.1111111111111111,
              "#46039f"
             ],
             [
              0.2222222222222222,
              "#7201a8"
             ],
             [
              0.3333333333333333,
              "#9c179e"
             ],
             [
              0.4444444444444444,
              "#bd3786"
             ],
             [
              0.5555555555555556,
              "#d8576b"
             ],
             [
              0.6666666666666666,
              "#ed7953"
             ],
             [
              0.7777777777777778,
              "#fb9f3a"
             ],
             [
              0.8888888888888888,
              "#fdca26"
             ],
             [
              1,
              "#f0f921"
             ]
            ],
            "type": "heatmap"
           }
          ],
          "histogram": [
           {
            "marker": {
             "pattern": {
              "fillmode": "overlay",
              "size": 10,
              "solidity": 0.2
             }
            },
            "type": "histogram"
           }
          ],
          "histogram2d": [
           {
            "colorbar": {
             "outlinewidth": 0,
             "ticks": ""
            },
            "colorscale": [
             [
              0,
              "#0d0887"
             ],
             [
              0.1111111111111111,
              "#46039f"
             ],
             [
              0.2222222222222222,
              "#7201a8"
             ],
             [
              0.3333333333333333,
              "#9c179e"
             ],
             [
              0.4444444444444444,
              "#bd3786"
             ],
             [
              0.5555555555555556,
              "#d8576b"
             ],
             [
              0.6666666666666666,
              "#ed7953"
             ],
             [
              0.7777777777777778,
              "#fb9f3a"
             ],
             [
              0.8888888888888888,
              "#fdca26"
             ],
             [
              1,
              "#f0f921"
             ]
            ],
            "type": "histogram2d"
           }
          ],
          "histogram2dcontour": [
           {
            "colorbar": {
             "outlinewidth": 0,
             "ticks": ""
            },
            "colorscale": [
             [
              0,
              "#0d0887"
             ],
             [
              0.1111111111111111,
              "#46039f"
             ],
             [
              0.2222222222222222,
              "#7201a8"
             ],
             [
              0.3333333333333333,
              "#9c179e"
             ],
             [
              0.4444444444444444,
              "#bd3786"
             ],
             [
              0.5555555555555556,
              "#d8576b"
             ],
             [
              0.6666666666666666,
              "#ed7953"
             ],
             [
              0.7777777777777778,
              "#fb9f3a"
             ],
             [
              0.8888888888888888,
              "#fdca26"
             ],
             [
              1,
              "#f0f921"
             ]
            ],
            "type": "histogram2dcontour"
           }
          ],
          "mesh3d": [
           {
            "colorbar": {
             "outlinewidth": 0,
             "ticks": ""
            },
            "type": "mesh3d"
           }
          ],
          "parcoords": [
           {
            "line": {
             "colorbar": {
              "outlinewidth": 0,
              "ticks": ""
             }
            },
            "type": "parcoords"
           }
          ],
          "pie": [
           {
            "automargin": true,
            "type": "pie"
           }
          ],
          "scatter": [
           {
            "fillpattern": {
             "fillmode": "overlay",
             "size": 10,
             "solidity": 0.2
            },
            "type": "scatter"
           }
          ],
          "scatter3d": [
           {
            "line": {
             "colorbar": {
              "outlinewidth": 0,
              "ticks": ""
             }
            },
            "marker": {
             "colorbar": {
              "outlinewidth": 0,
              "ticks": ""
             }
            },
            "type": "scatter3d"
           }
          ],
          "scattercarpet": [
           {
            "marker": {
             "colorbar": {
              "outlinewidth": 0,
              "ticks": ""
             }
            },
            "type": "scattercarpet"
           }
          ],
          "scattergeo": [
           {
            "marker": {
             "colorbar": {
              "outlinewidth": 0,
              "ticks": ""
             }
            },
            "type": "scattergeo"
           }
          ],
          "scattergl": [
           {
            "marker": {
             "colorbar": {
              "outlinewidth": 0,
              "ticks": ""
             }
            },
            "type": "scattergl"
           }
          ],
          "scattermap": [
           {
            "marker": {
             "colorbar": {
              "outlinewidth": 0,
              "ticks": ""
             }
            },
            "type": "scattermap"
           }
          ],
          "scattermapbox": [
           {
            "marker": {
             "colorbar": {
              "outlinewidth": 0,
              "ticks": ""
             }
            },
            "type": "scattermapbox"
           }
          ],
          "scatterpolar": [
           {
            "marker": {
             "colorbar": {
              "outlinewidth": 0,
              "ticks": ""
             }
            },
            "type": "scatterpolar"
           }
          ],
          "scatterpolargl": [
           {
            "marker": {
             "colorbar": {
              "outlinewidth": 0,
              "ticks": ""
             }
            },
            "type": "scatterpolargl"
           }
          ],
          "scatterternary": [
           {
            "marker": {
             "colorbar": {
              "outlinewidth": 0,
              "ticks": ""
             }
            },
            "type": "scatterternary"
           }
          ],
          "surface": [
           {
            "colorbar": {
             "outlinewidth": 0,
             "ticks": ""
            },
            "colorscale": [
             [
              0,
              "#0d0887"
             ],
             [
              0.1111111111111111,
              "#46039f"
             ],
             [
              0.2222222222222222,
              "#7201a8"
             ],
             [
              0.3333333333333333,
              "#9c179e"
             ],
             [
              0.4444444444444444,
              "#bd3786"
             ],
             [
              0.5555555555555556,
              "#d8576b"
             ],
             [
              0.6666666666666666,
              "#ed7953"
             ],
             [
              0.7777777777777778,
              "#fb9f3a"
             ],
             [
              0.8888888888888888,
              "#fdca26"
             ],
             [
              1,
              "#f0f921"
             ]
            ],
            "type": "surface"
           }
          ],
          "table": [
           {
            "cells": {
             "fill": {
              "color": "#EBF0F8"
             },
             "line": {
              "color": "white"
             }
            },
            "header": {
             "fill": {
              "color": "#C8D4E3"
             },
             "line": {
              "color": "white"
             }
            },
            "type": "table"
           }
          ]
         },
         "layout": {
          "annotationdefaults": {
           "arrowcolor": "#2a3f5f",
           "arrowhead": 0,
           "arrowwidth": 1
          },
          "autotypenumbers": "strict",
          "coloraxis": {
           "colorbar": {
            "outlinewidth": 0,
            "ticks": ""
           }
          },
          "colorscale": {
           "diverging": [
            [
             0,
             "#8e0152"
            ],
            [
             0.1,
             "#c51b7d"
            ],
            [
             0.2,
             "#de77ae"
            ],
            [
             0.3,
             "#f1b6da"
            ],
            [
             0.4,
             "#fde0ef"
            ],
            [
             0.5,
             "#f7f7f7"
            ],
            [
             0.6,
             "#e6f5d0"
            ],
            [
             0.7,
             "#b8e186"
            ],
            [
             0.8,
             "#7fbc41"
            ],
            [
             0.9,
             "#4d9221"
            ],
            [
             1,
             "#276419"
            ]
           ],
           "sequential": [
            [
             0,
             "#0d0887"
            ],
            [
             0.1111111111111111,
             "#46039f"
            ],
            [
             0.2222222222222222,
             "#7201a8"
            ],
            [
             0.3333333333333333,
             "#9c179e"
            ],
            [
             0.4444444444444444,
             "#bd3786"
            ],
            [
             0.5555555555555556,
             "#d8576b"
            ],
            [
             0.6666666666666666,
             "#ed7953"
            ],
            [
             0.7777777777777778,
             "#fb9f3a"
            ],
            [
             0.8888888888888888,
             "#fdca26"
            ],
            [
             1,
             "#f0f921"
            ]
           ],
           "sequentialminus": [
            [
             0,
             "#0d0887"
            ],
            [
             0.1111111111111111,
             "#46039f"
            ],
            [
             0.2222222222222222,
             "#7201a8"
            ],
            [
             0.3333333333333333,
             "#9c179e"
            ],
            [
             0.4444444444444444,
             "#bd3786"
            ],
            [
             0.5555555555555556,
             "#d8576b"
            ],
            [
             0.6666666666666666,
             "#ed7953"
            ],
            [
             0.7777777777777778,
             "#fb9f3a"
            ],
            [
             0.8888888888888888,
             "#fdca26"
            ],
            [
             1,
             "#f0f921"
            ]
           ]
          },
          "colorway": [
           "#636efa",
           "#EF553B",
           "#00cc96",
           "#ab63fa",
           "#FFA15A",
           "#19d3f3",
           "#FF6692",
           "#B6E880",
           "#FF97FF",
           "#FECB52"
          ],
          "font": {
           "color": "#2a3f5f"
          },
          "geo": {
           "bgcolor": "white",
           "lakecolor": "white",
           "landcolor": "#E5ECF6",
           "showlakes": true,
           "showland": true,
           "subunitcolor": "white"
          },
          "hoverlabel": {
           "align": "left"
          },
          "hovermode": "closest",
          "mapbox": {
           "style": "light"
          },
          "paper_bgcolor": "white",
          "plot_bgcolor": "#E5ECF6",
          "polar": {
           "angularaxis": {
            "gridcolor": "white",
            "linecolor": "white",
            "ticks": ""
           },
           "bgcolor": "#E5ECF6",
           "radialaxis": {
            "gridcolor": "white",
            "linecolor": "white",
            "ticks": ""
           }
          },
          "scene": {
           "xaxis": {
            "backgroundcolor": "#E5ECF6",
            "gridcolor": "white",
            "gridwidth": 2,
            "linecolor": "white",
            "showbackground": true,
            "ticks": "",
            "zerolinecolor": "white"
           },
           "yaxis": {
            "backgroundcolor": "#E5ECF6",
            "gridcolor": "white",
            "gridwidth": 2,
            "linecolor": "white",
            "showbackground": true,
            "ticks": "",
            "zerolinecolor": "white"
           },
           "zaxis": {
            "backgroundcolor": "#E5ECF6",
            "gridcolor": "white",
            "gridwidth": 2,
            "linecolor": "white",
            "showbackground": true,
            "ticks": "",
            "zerolinecolor": "white"
           }
          },
          "shapedefaults": {
           "line": {
            "color": "#2a3f5f"
           }
          },
          "ternary": {
           "aaxis": {
            "gridcolor": "white",
            "linecolor": "white",
            "ticks": ""
           },
           "baxis": {
            "gridcolor": "white",
            "linecolor": "white",
            "ticks": ""
           },
           "bgcolor": "#E5ECF6",
           "caxis": {
            "gridcolor": "white",
            "linecolor": "white",
            "ticks": ""
           }
          },
          "title": {
           "x": 0.05
          },
          "xaxis": {
           "automargin": true,
           "gridcolor": "white",
           "linecolor": "white",
           "ticks": "",
           "title": {
            "standoff": 15
           },
           "zerolinecolor": "white",
           "zerolinewidth": 2
          },
          "yaxis": {
           "automargin": true,
           "gridcolor": "white",
           "linecolor": "white",
           "ticks": "",
           "title": {
            "standoff": 15
           },
           "zerolinecolor": "white",
           "zerolinewidth": 2
          }
         }
        },
        "xaxis": {
         "anchor": "y",
         "categoryarray": [
          "social",
          "paid_search",
          "organic_search",
          "email",
          "referral",
          "direct_traffic",
          "display",
          "other_publicities",
          "other"
         ],
         "categoryorder": "array",
         "domain": [
          0,
          1
         ],
         "title": {
          "text": "origin"
         }
        },
        "yaxis": {
         "anchor": "x",
         "domain": [
          0,
          1
         ],
         "title": {
          "text": "days_to_convert"
         }
        }
       }
      }
     },
     "metadata": {},
     "output_type": "display_data"
    }
   ],
   "source": [
    "px.box(df_processed.query(\"origin != 'unknown'\"), x='origin', y='days_to_convert', color='origin')"
   ]
  },
  {
   "cell_type": "code",
   "execution_count": 11,
   "metadata": {},
   "outputs": [
    {
     "data": {
      "application/vnd.plotly.v1+json": {
       "config": {
        "plotlyServerURL": "https://plot.ly"
       },
       "data": [
        {
         "hovertemplate": "<b>%{hovertext}</b><br><br>origin=direct_traffic<br>% de MQLs=%{x}<br>Tasa de Conversión (%)=%{y}<br>weighted_conversion=%{marker.size}<extra></extra>",
         "hovertext": [
          "direct_traffic"
         ],
         "legendgroup": "direct_traffic",
         "marker": {
          "color": "#636efa",
          "size": {
           "bdata": "ACiek4NP5j8=",
           "dtype": "f8"
          },
          "sizemode": "area",
          "sizeref": 0.0002537321353883678,
          "symbol": "circle"
         },
         "mode": "markers",
         "name": "direct_traffic",
         "orientation": "v",
         "showlegend": true,
         "type": "scatter",
         "x": {
          "bdata": "KVyPwvUoHUA=",
          "dtype": "f8"
         },
         "xaxis": "x",
         "y": {
          "bdata": "cT0K16NwJkA=",
          "dtype": "f8"
         },
         "yaxis": "y"
        },
        {
         "hovertemplate": "<b>%{hovertext}</b><br><br>origin=display<br>% de MQLs=%{x}<br>Tasa de Conversión (%)=%{y}<br>weighted_conversion=%{marker.size}<extra></extra>",
         "hovertext": [
          "display"
         ],
         "legendgroup": "display",
         "marker": {
          "color": "#EF553B",
          "size": {
           "bdata": "uq6m6MQMzz8=",
           "dtype": "f8"
          },
          "sizemode": "area",
          "sizeref": 0.0002537321353883678,
          "symbol": "circle"
         },
         "mode": "markers",
         "name": "display",
         "orientation": "v",
         "showlegend": true,
         "type": "scatter",
         "x": {
          "bdata": "hetRuB6F+z8=",
          "dtype": "f8"
         },
         "xaxis": "x",
         "y": {
          "bdata": "UrgehetRFEA=",
          "dtype": "f8"
         },
         "yaxis": "y"
        },
        {
         "hovertemplate": "<b>%{hovertext}</b><br><br>origin=email<br>% de MQLs=%{x}<br>Tasa de Conversión (%)=%{y}<br>weighted_conversion=%{marker.size}<extra></extra>",
         "hovertext": [
          "email"
         ],
         "legendgroup": "email",
         "marker": {
          "color": "#00cc96",
          "size": {
           "bdata": "xQpFI+UlyD8=",
           "dtype": "f8"
          },
          "sizemode": "area",
          "sizeref": 0.0002537321353883678,
          "symbol": "circle"
         },
         "mode": "markers",
         "name": "email",
         "orientation": "v",
         "showlegend": true,
         "type": "scatter",
         "x": {
          "bdata": "16NwPQrXHEA=",
          "dtype": "f8"
         },
         "xaxis": "x",
         "y": {
          "bdata": "UrgehetRCEA=",
          "dtype": "f8"
         },
         "yaxis": "y"
        },
        {
         "hovertemplate": "<b>%{hovertext}</b><br><br>origin=organic_search<br>% de MQLs=%{x}<br>Tasa de Conversión (%)=%{y}<br>weighted_conversion=%{marker.size}<extra></extra>",
         "hovertext": [
          "organic_search"
         ],
         "legendgroup": "organic_search",
         "marker": {
          "color": "#ab63fa",
          "size": {
           "bdata": "ofmLet067T8=",
           "dtype": "f8"
          },
          "sizemode": "area",
          "sizeref": 0.0002537321353883678,
          "symbol": "circle"
         },
         "mode": "markers",
         "name": "organic_search",
         "orientation": "v",
         "showlegend": true,
         "type": "scatter",
         "x": {
          "bdata": "SOF6FK7HQEA=",
          "dtype": "f8"
         },
         "xaxis": "x",
         "y": {
          "bdata": "mpmZmZmZJ0A=",
          "dtype": "f8"
         },
         "yaxis": "y"
        },
        {
         "hovertemplate": "<b>%{hovertext}</b><br><br>origin=other<br>% de MQLs=%{x}<br>Tasa de Conversión (%)=%{y}<br>weighted_conversion=%{marker.size}<extra></extra>",
         "hovertext": [
          "other"
         ],
         "legendgroup": "other",
         "marker": {
          "color": "#FFA15A",
          "size": {
           "bdata": "y2FFJFwawT8=",
           "dtype": "f8"
          },
          "sizemode": "area",
          "sizeref": 0.0002537321353883678,
          "symbol": "circle"
         },
         "mode": "markers",
         "name": "other",
         "orientation": "v",
         "showlegend": true,
         "type": "scatter",
         "x": {
          "bdata": "hetRuB6FAUA=",
          "dtype": "f8"
         },
         "xaxis": "x",
         "y": {
          "bdata": "XI/C9ShcBUA=",
          "dtype": "f8"
         },
         "yaxis": "y"
        },
        {
         "hovertemplate": "<b>%{hovertext}</b><br><br>origin=other_publicities<br>% de MQLs=%{x}<br>Tasa de Conversión (%)=%{y}<br>weighted_conversion=%{marker.size}<extra></extra>",
         "hovertext": [
          "other_publicities"
         ],
         "legendgroup": "other_publicities",
         "marker": {
          "color": "#19d3f3",
          "size": {
           "bdata": "xdpYATepyD8=",
           "dtype": "f8"
          },
          "sizemode": "area",
          "sizeref": 0.0002537321353883678,
          "symbol": "circle"
         },
         "mode": "markers",
         "name": "other_publicities",
         "orientation": "v",
         "showlegend": true,
         "type": "scatter",
         "x": {
          "bdata": "ZmZmZmZm7j8=",
          "dtype": "f8"
         },
         "xaxis": "x",
         "y": {
          "bdata": "exSuR+F6EkA=",
          "dtype": "f8"
         },
         "yaxis": "y"
        },
        {
         "hovertemplate": "<b>%{hovertext}</b><br><br>origin=paid_search<br>% de MQLs=%{x}<br>Tasa de Conversión (%)=%{y}<br>weighted_conversion=%{marker.size}<extra></extra>",
         "hovertext": [
          "paid_search"
         ],
         "legendgroup": "paid_search",
         "marker": {
          "color": "#FF6692",
          "size": {
           "bdata": "Q3NNph/+7D8=",
           "dtype": "f8"
          },
          "sizemode": "area",
          "sizeref": 0.0002537321353883678,
          "symbol": "circle"
         },
         "mode": "markers",
         "name": "paid_search",
         "orientation": "v",
         "showlegend": true,
         "type": "scatter",
         "x": {
          "bdata": "rkfhehQuN0A=",
          "dtype": "f8"
         },
         "xaxis": "x",
         "y": {
          "bdata": "mpmZmZmZKEA=",
          "dtype": "f8"
         },
         "yaxis": "y"
        },
        {
         "hovertemplate": "<b>%{hovertext}</b><br><br>origin=referral<br>% de MQLs=%{x}<br>Tasa de Conversión (%)=%{y}<br>weighted_conversion=%{marker.size}<extra></extra>",
         "hovertext": [
          "referral"
         ],
         "legendgroup": "referral",
         "marker": {
          "color": "#B6E880",
          "size": {
           "bdata": "t4HO5FyN3j8=",
           "dtype": "f8"
          },
          "sizemode": "area",
          "sizeref": 0.0002537321353883678,
          "symbol": "circle"
         },
         "mode": "markers",
         "name": "referral",
         "orientation": "v",
         "showlegend": true,
         "type": "scatter",
         "x": {
          "bdata": "mpmZmZmZEEA=",
          "dtype": "f8"
         },
         "xaxis": "x",
         "y": {
          "bdata": "ZmZmZmbmIEA=",
          "dtype": "f8"
         },
         "yaxis": "y"
        },
        {
         "hovertemplate": "<b>%{hovertext}</b><br><br>origin=social<br>% de MQLs=%{x}<br>Tasa de Conversión (%)=%{y}<br>weighted_conversion=%{marker.size}<extra></extra>",
         "hovertext": [
          "social"
         ],
         "legendgroup": "social",
         "marker": {
          "color": "#FF97FF",
          "size": {
           "bdata": "jpwxFcGg2T8=",
           "dtype": "f8"
          },
          "sizemode": "area",
          "sizeref": 0.0002537321353883678,
          "symbol": "circle"
         },
         "mode": "markers",
         "name": "social",
         "orientation": "v",
         "showlegend": true,
         "type": "scatter",
         "x": {
          "bdata": "exSuR+G6M0A=",
          "dtype": "f8"
         },
         "xaxis": "x",
         "y": {
          "bdata": "PQrXo3A9FkA=",
          "dtype": "f8"
         },
         "yaxis": "y"
        }
       ],
       "layout": {
        "legend": {
         "itemsizing": "constant",
         "title": {
          "text": "origin"
         },
         "tracegroupgap": 0
        },
        "template": {
         "data": {
          "bar": [
           {
            "error_x": {
             "color": "#2a3f5f"
            },
            "error_y": {
             "color": "#2a3f5f"
            },
            "marker": {
             "line": {
              "color": "#E5ECF6",
              "width": 0.5
             },
             "pattern": {
              "fillmode": "overlay",
              "size": 10,
              "solidity": 0.2
             }
            },
            "type": "bar"
           }
          ],
          "barpolar": [
           {
            "marker": {
             "line": {
              "color": "#E5ECF6",
              "width": 0.5
             },
             "pattern": {
              "fillmode": "overlay",
              "size": 10,
              "solidity": 0.2
             }
            },
            "type": "barpolar"
           }
          ],
          "carpet": [
           {
            "aaxis": {
             "endlinecolor": "#2a3f5f",
             "gridcolor": "white",
             "linecolor": "white",
             "minorgridcolor": "white",
             "startlinecolor": "#2a3f5f"
            },
            "baxis": {
             "endlinecolor": "#2a3f5f",
             "gridcolor": "white",
             "linecolor": "white",
             "minorgridcolor": "white",
             "startlinecolor": "#2a3f5f"
            },
            "type": "carpet"
           }
          ],
          "choropleth": [
           {
            "colorbar": {
             "outlinewidth": 0,
             "ticks": ""
            },
            "type": "choropleth"
           }
          ],
          "contour": [
           {
            "colorbar": {
             "outlinewidth": 0,
             "ticks": ""
            },
            "colorscale": [
             [
              0,
              "#0d0887"
             ],
             [
              0.1111111111111111,
              "#46039f"
             ],
             [
              0.2222222222222222,
              "#7201a8"
             ],
             [
              0.3333333333333333,
              "#9c179e"
             ],
             [
              0.4444444444444444,
              "#bd3786"
             ],
             [
              0.5555555555555556,
              "#d8576b"
             ],
             [
              0.6666666666666666,
              "#ed7953"
             ],
             [
              0.7777777777777778,
              "#fb9f3a"
             ],
             [
              0.8888888888888888,
              "#fdca26"
             ],
             [
              1,
              "#f0f921"
             ]
            ],
            "type": "contour"
           }
          ],
          "contourcarpet": [
           {
            "colorbar": {
             "outlinewidth": 0,
             "ticks": ""
            },
            "type": "contourcarpet"
           }
          ],
          "heatmap": [
           {
            "colorbar": {
             "outlinewidth": 0,
             "ticks": ""
            },
            "colorscale": [
             [
              0,
              "#0d0887"
             ],
             [
              0.1111111111111111,
              "#46039f"
             ],
             [
              0.2222222222222222,
              "#7201a8"
             ],
             [
              0.3333333333333333,
              "#9c179e"
             ],
             [
              0.4444444444444444,
              "#bd3786"
             ],
             [
              0.5555555555555556,
              "#d8576b"
             ],
             [
              0.6666666666666666,
              "#ed7953"
             ],
             [
              0.7777777777777778,
              "#fb9f3a"
             ],
             [
              0.8888888888888888,
              "#fdca26"
             ],
             [
              1,
              "#f0f921"
             ]
            ],
            "type": "heatmap"
           }
          ],
          "histogram": [
           {
            "marker": {
             "pattern": {
              "fillmode": "overlay",
              "size": 10,
              "solidity": 0.2
             }
            },
            "type": "histogram"
           }
          ],
          "histogram2d": [
           {
            "colorbar": {
             "outlinewidth": 0,
             "ticks": ""
            },
            "colorscale": [
             [
              0,
              "#0d0887"
             ],
             [
              0.1111111111111111,
              "#46039f"
             ],
             [
              0.2222222222222222,
              "#7201a8"
             ],
             [
              0.3333333333333333,
              "#9c179e"
             ],
             [
              0.4444444444444444,
              "#bd3786"
             ],
             [
              0.5555555555555556,
              "#d8576b"
             ],
             [
              0.6666666666666666,
              "#ed7953"
             ],
             [
              0.7777777777777778,
              "#fb9f3a"
             ],
             [
              0.8888888888888888,
              "#fdca26"
             ],
             [
              1,
              "#f0f921"
             ]
            ],
            "type": "histogram2d"
           }
          ],
          "histogram2dcontour": [
           {
            "colorbar": {
             "outlinewidth": 0,
             "ticks": ""
            },
            "colorscale": [
             [
              0,
              "#0d0887"
             ],
             [
              0.1111111111111111,
              "#46039f"
             ],
             [
              0.2222222222222222,
              "#7201a8"
             ],
             [
              0.3333333333333333,
              "#9c179e"
             ],
             [
              0.4444444444444444,
              "#bd3786"
             ],
             [
              0.5555555555555556,
              "#d8576b"
             ],
             [
              0.6666666666666666,
              "#ed7953"
             ],
             [
              0.7777777777777778,
              "#fb9f3a"
             ],
             [
              0.8888888888888888,
              "#fdca26"
             ],
             [
              1,
              "#f0f921"
             ]
            ],
            "type": "histogram2dcontour"
           }
          ],
          "mesh3d": [
           {
            "colorbar": {
             "outlinewidth": 0,
             "ticks": ""
            },
            "type": "mesh3d"
           }
          ],
          "parcoords": [
           {
            "line": {
             "colorbar": {
              "outlinewidth": 0,
              "ticks": ""
             }
            },
            "type": "parcoords"
           }
          ],
          "pie": [
           {
            "automargin": true,
            "type": "pie"
           }
          ],
          "scatter": [
           {
            "fillpattern": {
             "fillmode": "overlay",
             "size": 10,
             "solidity": 0.2
            },
            "type": "scatter"
           }
          ],
          "scatter3d": [
           {
            "line": {
             "colorbar": {
              "outlinewidth": 0,
              "ticks": ""
             }
            },
            "marker": {
             "colorbar": {
              "outlinewidth": 0,
              "ticks": ""
             }
            },
            "type": "scatter3d"
           }
          ],
          "scattercarpet": [
           {
            "marker": {
             "colorbar": {
              "outlinewidth": 0,
              "ticks": ""
             }
            },
            "type": "scattercarpet"
           }
          ],
          "scattergeo": [
           {
            "marker": {
             "colorbar": {
              "outlinewidth": 0,
              "ticks": ""
             }
            },
            "type": "scattergeo"
           }
          ],
          "scattergl": [
           {
            "marker": {
             "colorbar": {
              "outlinewidth": 0,
              "ticks": ""
             }
            },
            "type": "scattergl"
           }
          ],
          "scattermap": [
           {
            "marker": {
             "colorbar": {
              "outlinewidth": 0,
              "ticks": ""
             }
            },
            "type": "scattermap"
           }
          ],
          "scattermapbox": [
           {
            "marker": {
             "colorbar": {
              "outlinewidth": 0,
              "ticks": ""
             }
            },
            "type": "scattermapbox"
           }
          ],
          "scatterpolar": [
           {
            "marker": {
             "colorbar": {
              "outlinewidth": 0,
              "ticks": ""
             }
            },
            "type": "scatterpolar"
           }
          ],
          "scatterpolargl": [
           {
            "marker": {
             "colorbar": {
              "outlinewidth": 0,
              "ticks": ""
             }
            },
            "type": "scatterpolargl"
           }
          ],
          "scatterternary": [
           {
            "marker": {
             "colorbar": {
              "outlinewidth": 0,
              "ticks": ""
             }
            },
            "type": "scatterternary"
           }
          ],
          "surface": [
           {
            "colorbar": {
             "outlinewidth": 0,
             "ticks": ""
            },
            "colorscale": [
             [
              0,
              "#0d0887"
             ],
             [
              0.1111111111111111,
              "#46039f"
             ],
             [
              0.2222222222222222,
              "#7201a8"
             ],
             [
              0.3333333333333333,
              "#9c179e"
             ],
             [
              0.4444444444444444,
              "#bd3786"
             ],
             [
              0.5555555555555556,
              "#d8576b"
             ],
             [
              0.6666666666666666,
              "#ed7953"
             ],
             [
              0.7777777777777778,
              "#fb9f3a"
             ],
             [
              0.8888888888888888,
              "#fdca26"
             ],
             [
              1,
              "#f0f921"
             ]
            ],
            "type": "surface"
           }
          ],
          "table": [
           {
            "cells": {
             "fill": {
              "color": "#EBF0F8"
             },
             "line": {
              "color": "white"
             }
            },
            "header": {
             "fill": {
              "color": "#C8D4E3"
             },
             "line": {
              "color": "white"
             }
            },
            "type": "table"
           }
          ]
         },
         "layout": {
          "annotationdefaults": {
           "arrowcolor": "#2a3f5f",
           "arrowhead": 0,
           "arrowwidth": 1
          },
          "autotypenumbers": "strict",
          "coloraxis": {
           "colorbar": {
            "outlinewidth": 0,
            "ticks": ""
           }
          },
          "colorscale": {
           "diverging": [
            [
             0,
             "#8e0152"
            ],
            [
             0.1,
             "#c51b7d"
            ],
            [
             0.2,
             "#de77ae"
            ],
            [
             0.3,
             "#f1b6da"
            ],
            [
             0.4,
             "#fde0ef"
            ],
            [
             0.5,
             "#f7f7f7"
            ],
            [
             0.6,
             "#e6f5d0"
            ],
            [
             0.7,
             "#b8e186"
            ],
            [
             0.8,
             "#7fbc41"
            ],
            [
             0.9,
             "#4d9221"
            ],
            [
             1,
             "#276419"
            ]
           ],
           "sequential": [
            [
             0,
             "#0d0887"
            ],
            [
             0.1111111111111111,
             "#46039f"
            ],
            [
             0.2222222222222222,
             "#7201a8"
            ],
            [
             0.3333333333333333,
             "#9c179e"
            ],
            [
             0.4444444444444444,
             "#bd3786"
            ],
            [
             0.5555555555555556,
             "#d8576b"
            ],
            [
             0.6666666666666666,
             "#ed7953"
            ],
            [
             0.7777777777777778,
             "#fb9f3a"
            ],
            [
             0.8888888888888888,
             "#fdca26"
            ],
            [
             1,
             "#f0f921"
            ]
           ],
           "sequentialminus": [
            [
             0,
             "#0d0887"
            ],
            [
             0.1111111111111111,
             "#46039f"
            ],
            [
             0.2222222222222222,
             "#7201a8"
            ],
            [
             0.3333333333333333,
             "#9c179e"
            ],
            [
             0.4444444444444444,
             "#bd3786"
            ],
            [
             0.5555555555555556,
             "#d8576b"
            ],
            [
             0.6666666666666666,
             "#ed7953"
            ],
            [
             0.7777777777777778,
             "#fb9f3a"
            ],
            [
             0.8888888888888888,
             "#fdca26"
            ],
            [
             1,
             "#f0f921"
            ]
           ]
          },
          "colorway": [
           "#636efa",
           "#EF553B",
           "#00cc96",
           "#ab63fa",
           "#FFA15A",
           "#19d3f3",
           "#FF6692",
           "#B6E880",
           "#FF97FF",
           "#FECB52"
          ],
          "font": {
           "color": "#2a3f5f"
          },
          "geo": {
           "bgcolor": "white",
           "lakecolor": "white",
           "landcolor": "#E5ECF6",
           "showlakes": true,
           "showland": true,
           "subunitcolor": "white"
          },
          "hoverlabel": {
           "align": "left"
          },
          "hovermode": "closest",
          "mapbox": {
           "style": "light"
          },
          "paper_bgcolor": "white",
          "plot_bgcolor": "#E5ECF6",
          "polar": {
           "angularaxis": {
            "gridcolor": "white",
            "linecolor": "white",
            "ticks": ""
           },
           "bgcolor": "#E5ECF6",
           "radialaxis": {
            "gridcolor": "white",
            "linecolor": "white",
            "ticks": ""
           }
          },
          "scene": {
           "xaxis": {
            "backgroundcolor": "#E5ECF6",
            "gridcolor": "white",
            "gridwidth": 2,
            "linecolor": "white",
            "showbackground": true,
            "ticks": "",
            "zerolinecolor": "white"
           },
           "yaxis": {
            "backgroundcolor": "#E5ECF6",
            "gridcolor": "white",
            "gridwidth": 2,
            "linecolor": "white",
            "showbackground": true,
            "ticks": "",
            "zerolinecolor": "white"
           },
           "zaxis": {
            "backgroundcolor": "#E5ECF6",
            "gridcolor": "white",
            "gridwidth": 2,
            "linecolor": "white",
            "showbackground": true,
            "ticks": "",
            "zerolinecolor": "white"
           }
          },
          "shapedefaults": {
           "line": {
            "color": "#2a3f5f"
           }
          },
          "ternary": {
           "aaxis": {
            "gridcolor": "white",
            "linecolor": "white",
            "ticks": ""
           },
           "baxis": {
            "gridcolor": "white",
            "linecolor": "white",
            "ticks": ""
           },
           "bgcolor": "#E5ECF6",
           "caxis": {
            "gridcolor": "white",
            "linecolor": "white",
            "ticks": ""
           }
          },
          "title": {
           "x": 0.05
          },
          "xaxis": {
           "automargin": true,
           "gridcolor": "white",
           "linecolor": "white",
           "ticks": "",
           "title": {
            "standoff": 15
           },
           "zerolinecolor": "white",
           "zerolinewidth": 2
          },
          "yaxis": {
           "automargin": true,
           "gridcolor": "white",
           "linecolor": "white",
           "ticks": "",
           "title": {
            "standoff": 15
           },
           "zerolinecolor": "white",
           "zerolinewidth": 2
          }
         }
        },
        "title": {
         "text": "Comparación de Orígenes de MQLs"
        },
        "xaxis": {
         "anchor": "y",
         "domain": [
          0,
          1
         ],
         "title": {
          "text": "% de MQLs"
         }
        },
        "yaxis": {
         "anchor": "x",
         "domain": [
          0,
          1
         ],
         "title": {
          "text": "Tasa de Conversión (%)"
         }
        }
       }
      }
     },
     "metadata": {},
     "output_type": "display_data"
    }
   ],
   "source": [
    "# Crear gráfico de burbujas\n",
    "fig = px.scatter(\n",
    "    origin_conversion,\n",
    "    x=\"mql_percentage\",           # Eje X\n",
    "    y=\"conversion\",               # Eje Y (conversion rate)\n",
    "    size=\"weighted_conversion\",                   # Tamaño de burbuja según cantidad de MQLs\n",
    "    color=\"origin\",               # Color por canal\n",
    "    hover_name=\"origin\",          # Mostrar nombre al pasar el mouse\n",
    "    size_max=60,                  # Tamaño máximo de burbuja\n",
    "    title=\"Comparación de Orígenes de MQLs\",\n",
    "    labels={\n",
    "        \"mql_percentage\": \"% de MQLs\",\n",
    "        \"conversion\": \"Tasa de Conversión (%)\"\n",
    "    }\n",
    ")\n",
    "\n",
    "fig.show()"
   ]
  },
  {
   "cell_type": "code",
   "execution_count": 30,
   "metadata": {},
   "outputs": [
    {
     "data": {
      "application/vnd.plotly.v1+json": {
       "config": {
        "plotlyServerURL": "https://plot.ly"
       },
       "data": [
        {
         "hovertemplate": "<b>%{hovertext}</b><br><br>% de MQLs=%{x}<br>Tasa de Conversión (%)=%{y}<br>weighted_conversion=%{marker.size}<br>days_to_convert_q3=%{marker.color}<extra></extra>",
         "hovertext": [
          "direct_traffic",
          "display",
          "email",
          "organic_search",
          "other",
          "other_publicities",
          "paid_search",
          "referral",
          "social"
         ],
         "legendgroup": "",
         "marker": {
          "color": {
           "bdata": "AAAAAAAgQEAAAAAAAAAtQAAAAAAAAE9AAAAAAADAS0AAAAAAAEA0QAAAAAAAwERAAAAAAAAAVEAAAAAAAKBBQAAAAAAAAFVA",
           "dtype": "f8"
          },
          "coloraxis": "coloraxis",
          "size": {
           "bdata": "ACiek4NP5j+6rqboxAzPP8UKRSPlJcg/ofmLet067T/LYUUkXBrBP8XaWAE3qcg/Q3NNph/+7D+3gc7kXI3eP46cMRXBoNk/",
           "dtype": "f8"
          },
          "sizemode": "area",
          "sizeref": 0.0002537321353883678,
          "symbol": "circle"
         },
         "mode": "markers",
         "name": "",
         "orientation": "v",
         "showlegend": false,
         "type": "scatter",
         "x": {
          "bdata": "KVyPwvUoHUCF61G4HoX7P9ejcD0K1xxASOF6FK7HQECF61G4HoUBQGZmZmZmZu4/rkfhehQuN0CamZmZmZkQQHsUrkfhujNA",
          "dtype": "f8"
         },
         "xaxis": "x",
         "y": {
          "bdata": "cT0K16NwJkBSuB6F61EUQFK4HoXrUQhAmpmZmZmZJ0Bcj8L1KFwFQHsUrkfhehJAmpmZmZmZKEBmZmZmZuYgQD0K16NwPRZA",
          "dtype": "f8"
         },
         "yaxis": "y"
        }
       ],
       "layout": {
        "coloraxis": {
         "colorbar": {
          "title": {
           "text": "days_to_convert_q3"
          }
         },
         "colorscale": [
          [
           0,
           "#0d0887"
          ],
          [
           0.1111111111111111,
           "#46039f"
          ],
          [
           0.2222222222222222,
           "#7201a8"
          ],
          [
           0.3333333333333333,
           "#9c179e"
          ],
          [
           0.4444444444444444,
           "#bd3786"
          ],
          [
           0.5555555555555556,
           "#d8576b"
          ],
          [
           0.6666666666666666,
           "#ed7953"
          ],
          [
           0.7777777777777778,
           "#fb9f3a"
          ],
          [
           0.8888888888888888,
           "#fdca26"
          ],
          [
           1,
           "#f0f921"
          ]
         ]
        },
        "legend": {
         "itemsizing": "constant",
         "tracegroupgap": 0
        },
        "template": {
         "data": {
          "bar": [
           {
            "error_x": {
             "color": "#2a3f5f"
            },
            "error_y": {
             "color": "#2a3f5f"
            },
            "marker": {
             "line": {
              "color": "#E5ECF6",
              "width": 0.5
             },
             "pattern": {
              "fillmode": "overlay",
              "size": 10,
              "solidity": 0.2
             }
            },
            "type": "bar"
           }
          ],
          "barpolar": [
           {
            "marker": {
             "line": {
              "color": "#E5ECF6",
              "width": 0.5
             },
             "pattern": {
              "fillmode": "overlay",
              "size": 10,
              "solidity": 0.2
             }
            },
            "type": "barpolar"
           }
          ],
          "carpet": [
           {
            "aaxis": {
             "endlinecolor": "#2a3f5f",
             "gridcolor": "white",
             "linecolor": "white",
             "minorgridcolor": "white",
             "startlinecolor": "#2a3f5f"
            },
            "baxis": {
             "endlinecolor": "#2a3f5f",
             "gridcolor": "white",
             "linecolor": "white",
             "minorgridcolor": "white",
             "startlinecolor": "#2a3f5f"
            },
            "type": "carpet"
           }
          ],
          "choropleth": [
           {
            "colorbar": {
             "outlinewidth": 0,
             "ticks": ""
            },
            "type": "choropleth"
           }
          ],
          "contour": [
           {
            "colorbar": {
             "outlinewidth": 0,
             "ticks": ""
            },
            "colorscale": [
             [
              0,
              "#0d0887"
             ],
             [
              0.1111111111111111,
              "#46039f"
             ],
             [
              0.2222222222222222,
              "#7201a8"
             ],
             [
              0.3333333333333333,
              "#9c179e"
             ],
             [
              0.4444444444444444,
              "#bd3786"
             ],
             [
              0.5555555555555556,
              "#d8576b"
             ],
             [
              0.6666666666666666,
              "#ed7953"
             ],
             [
              0.7777777777777778,
              "#fb9f3a"
             ],
             [
              0.8888888888888888,
              "#fdca26"
             ],
             [
              1,
              "#f0f921"
             ]
            ],
            "type": "contour"
           }
          ],
          "contourcarpet": [
           {
            "colorbar": {
             "outlinewidth": 0,
             "ticks": ""
            },
            "type": "contourcarpet"
           }
          ],
          "heatmap": [
           {
            "colorbar": {
             "outlinewidth": 0,
             "ticks": ""
            },
            "colorscale": [
             [
              0,
              "#0d0887"
             ],
             [
              0.1111111111111111,
              "#46039f"
             ],
             [
              0.2222222222222222,
              "#7201a8"
             ],
             [
              0.3333333333333333,
              "#9c179e"
             ],
             [
              0.4444444444444444,
              "#bd3786"
             ],
             [
              0.5555555555555556,
              "#d8576b"
             ],
             [
              0.6666666666666666,
              "#ed7953"
             ],
             [
              0.7777777777777778,
              "#fb9f3a"
             ],
             [
              0.8888888888888888,
              "#fdca26"
             ],
             [
              1,
              "#f0f921"
             ]
            ],
            "type": "heatmap"
           }
          ],
          "histogram": [
           {
            "marker": {
             "pattern": {
              "fillmode": "overlay",
              "size": 10,
              "solidity": 0.2
             }
            },
            "type": "histogram"
           }
          ],
          "histogram2d": [
           {
            "colorbar": {
             "outlinewidth": 0,
             "ticks": ""
            },
            "colorscale": [
             [
              0,
              "#0d0887"
             ],
             [
              0.1111111111111111,
              "#46039f"
             ],
             [
              0.2222222222222222,
              "#7201a8"
             ],
             [
              0.3333333333333333,
              "#9c179e"
             ],
             [
              0.4444444444444444,
              "#bd3786"
             ],
             [
              0.5555555555555556,
              "#d8576b"
             ],
             [
              0.6666666666666666,
              "#ed7953"
             ],
             [
              0.7777777777777778,
              "#fb9f3a"
             ],
             [
              0.8888888888888888,
              "#fdca26"
             ],
             [
              1,
              "#f0f921"
             ]
            ],
            "type": "histogram2d"
           }
          ],
          "histogram2dcontour": [
           {
            "colorbar": {
             "outlinewidth": 0,
             "ticks": ""
            },
            "colorscale": [
             [
              0,
              "#0d0887"
             ],
             [
              0.1111111111111111,
              "#46039f"
             ],
             [
              0.2222222222222222,
              "#7201a8"
             ],
             [
              0.3333333333333333,
              "#9c179e"
             ],
             [
              0.4444444444444444,
              "#bd3786"
             ],
             [
              0.5555555555555556,
              "#d8576b"
             ],
             [
              0.6666666666666666,
              "#ed7953"
             ],
             [
              0.7777777777777778,
              "#fb9f3a"
             ],
             [
              0.8888888888888888,
              "#fdca26"
             ],
             [
              1,
              "#f0f921"
             ]
            ],
            "type": "histogram2dcontour"
           }
          ],
          "mesh3d": [
           {
            "colorbar": {
             "outlinewidth": 0,
             "ticks": ""
            },
            "type": "mesh3d"
           }
          ],
          "parcoords": [
           {
            "line": {
             "colorbar": {
              "outlinewidth": 0,
              "ticks": ""
             }
            },
            "type": "parcoords"
           }
          ],
          "pie": [
           {
            "automargin": true,
            "type": "pie"
           }
          ],
          "scatter": [
           {
            "fillpattern": {
             "fillmode": "overlay",
             "size": 10,
             "solidity": 0.2
            },
            "type": "scatter"
           }
          ],
          "scatter3d": [
           {
            "line": {
             "colorbar": {
              "outlinewidth": 0,
              "ticks": ""
             }
            },
            "marker": {
             "colorbar": {
              "outlinewidth": 0,
              "ticks": ""
             }
            },
            "type": "scatter3d"
           }
          ],
          "scattercarpet": [
           {
            "marker": {
             "colorbar": {
              "outlinewidth": 0,
              "ticks": ""
             }
            },
            "type": "scattercarpet"
           }
          ],
          "scattergeo": [
           {
            "marker": {
             "colorbar": {
              "outlinewidth": 0,
              "ticks": ""
             }
            },
            "type": "scattergeo"
           }
          ],
          "scattergl": [
           {
            "marker": {
             "colorbar": {
              "outlinewidth": 0,
              "ticks": ""
             }
            },
            "type": "scattergl"
           }
          ],
          "scattermap": [
           {
            "marker": {
             "colorbar": {
              "outlinewidth": 0,
              "ticks": ""
             }
            },
            "type": "scattermap"
           }
          ],
          "scattermapbox": [
           {
            "marker": {
             "colorbar": {
              "outlinewidth": 0,
              "ticks": ""
             }
            },
            "type": "scattermapbox"
           }
          ],
          "scatterpolar": [
           {
            "marker": {
             "colorbar": {
              "outlinewidth": 0,
              "ticks": ""
             }
            },
            "type": "scatterpolar"
           }
          ],
          "scatterpolargl": [
           {
            "marker": {
             "colorbar": {
              "outlinewidth": 0,
              "ticks": ""
             }
            },
            "type": "scatterpolargl"
           }
          ],
          "scatterternary": [
           {
            "marker": {
             "colorbar": {
              "outlinewidth": 0,
              "ticks": ""
             }
            },
            "type": "scatterternary"
           }
          ],
          "surface": [
           {
            "colorbar": {
             "outlinewidth": 0,
             "ticks": ""
            },
            "colorscale": [
             [
              0,
              "#0d0887"
             ],
             [
              0.1111111111111111,
              "#46039f"
             ],
             [
              0.2222222222222222,
              "#7201a8"
             ],
             [
              0.3333333333333333,
              "#9c179e"
             ],
             [
              0.4444444444444444,
              "#bd3786"
             ],
             [
              0.5555555555555556,
              "#d8576b"
             ],
             [
              0.6666666666666666,
              "#ed7953"
             ],
             [
              0.7777777777777778,
              "#fb9f3a"
             ],
             [
              0.8888888888888888,
              "#fdca26"
             ],
             [
              1,
              "#f0f921"
             ]
            ],
            "type": "surface"
           }
          ],
          "table": [
           {
            "cells": {
             "fill": {
              "color": "#EBF0F8"
             },
             "line": {
              "color": "white"
             }
            },
            "header": {
             "fill": {
              "color": "#C8D4E3"
             },
             "line": {
              "color": "white"
             }
            },
            "type": "table"
           }
          ]
         },
         "layout": {
          "annotationdefaults": {
           "arrowcolor": "#2a3f5f",
           "arrowhead": 0,
           "arrowwidth": 1
          },
          "autotypenumbers": "strict",
          "coloraxis": {
           "colorbar": {
            "outlinewidth": 0,
            "ticks": ""
           }
          },
          "colorscale": {
           "diverging": [
            [
             0,
             "#8e0152"
            ],
            [
             0.1,
             "#c51b7d"
            ],
            [
             0.2,
             "#de77ae"
            ],
            [
             0.3,
             "#f1b6da"
            ],
            [
             0.4,
             "#fde0ef"
            ],
            [
             0.5,
             "#f7f7f7"
            ],
            [
             0.6,
             "#e6f5d0"
            ],
            [
             0.7,
             "#b8e186"
            ],
            [
             0.8,
             "#7fbc41"
            ],
            [
             0.9,
             "#4d9221"
            ],
            [
             1,
             "#276419"
            ]
           ],
           "sequential": [
            [
             0,
             "#0d0887"
            ],
            [
             0.1111111111111111,
             "#46039f"
            ],
            [
             0.2222222222222222,
             "#7201a8"
            ],
            [
             0.3333333333333333,
             "#9c179e"
            ],
            [
             0.4444444444444444,
             "#bd3786"
            ],
            [
             0.5555555555555556,
             "#d8576b"
            ],
            [
             0.6666666666666666,
             "#ed7953"
            ],
            [
             0.7777777777777778,
             "#fb9f3a"
            ],
            [
             0.8888888888888888,
             "#fdca26"
            ],
            [
             1,
             "#f0f921"
            ]
           ],
           "sequentialminus": [
            [
             0,
             "#0d0887"
            ],
            [
             0.1111111111111111,
             "#46039f"
            ],
            [
             0.2222222222222222,
             "#7201a8"
            ],
            [
             0.3333333333333333,
             "#9c179e"
            ],
            [
             0.4444444444444444,
             "#bd3786"
            ],
            [
             0.5555555555555556,
             "#d8576b"
            ],
            [
             0.6666666666666666,
             "#ed7953"
            ],
            [
             0.7777777777777778,
             "#fb9f3a"
            ],
            [
             0.8888888888888888,
             "#fdca26"
            ],
            [
             1,
             "#f0f921"
            ]
           ]
          },
          "colorway": [
           "#636efa",
           "#EF553B",
           "#00cc96",
           "#ab63fa",
           "#FFA15A",
           "#19d3f3",
           "#FF6692",
           "#B6E880",
           "#FF97FF",
           "#FECB52"
          ],
          "font": {
           "color": "#2a3f5f"
          },
          "geo": {
           "bgcolor": "white",
           "lakecolor": "white",
           "landcolor": "#E5ECF6",
           "showlakes": true,
           "showland": true,
           "subunitcolor": "white"
          },
          "hoverlabel": {
           "align": "left"
          },
          "hovermode": "closest",
          "mapbox": {
           "style": "light"
          },
          "paper_bgcolor": "white",
          "plot_bgcolor": "#E5ECF6",
          "polar": {
           "angularaxis": {
            "gridcolor": "white",
            "linecolor": "white",
            "ticks": ""
           },
           "bgcolor": "#E5ECF6",
           "radialaxis": {
            "gridcolor": "white",
            "linecolor": "white",
            "ticks": ""
           }
          },
          "scene": {
           "xaxis": {
            "backgroundcolor": "#E5ECF6",
            "gridcolor": "white",
            "gridwidth": 2,
            "linecolor": "white",
            "showbackground": true,
            "ticks": "",
            "zerolinecolor": "white"
           },
           "yaxis": {
            "backgroundcolor": "#E5ECF6",
            "gridcolor": "white",
            "gridwidth": 2,
            "linecolor": "white",
            "showbackground": true,
            "ticks": "",
            "zerolinecolor": "white"
           },
           "zaxis": {
            "backgroundcolor": "#E5ECF6",
            "gridcolor": "white",
            "gridwidth": 2,
            "linecolor": "white",
            "showbackground": true,
            "ticks": "",
            "zerolinecolor": "white"
           }
          },
          "shapedefaults": {
           "line": {
            "color": "#2a3f5f"
           }
          },
          "ternary": {
           "aaxis": {
            "gridcolor": "white",
            "linecolor": "white",
            "ticks": ""
           },
           "baxis": {
            "gridcolor": "white",
            "linecolor": "white",
            "ticks": ""
           },
           "bgcolor": "#E5ECF6",
           "caxis": {
            "gridcolor": "white",
            "linecolor": "white",
            "ticks": ""
           }
          },
          "title": {
           "x": 0.05
          },
          "xaxis": {
           "automargin": true,
           "gridcolor": "white",
           "linecolor": "white",
           "ticks": "",
           "title": {
            "standoff": 15
           },
           "zerolinecolor": "white",
           "zerolinewidth": 2
          },
          "yaxis": {
           "automargin": true,
           "gridcolor": "white",
           "linecolor": "white",
           "ticks": "",
           "title": {
            "standoff": 15
           },
           "zerolinecolor": "white",
           "zerolinewidth": 2
          }
         }
        },
        "title": {
         "text": "Comparación de Orígenes de MQLs"
        },
        "xaxis": {
         "anchor": "y",
         "domain": [
          0,
          1
         ],
         "title": {
          "text": "% de MQLs"
         }
        },
        "yaxis": {
         "anchor": "x",
         "domain": [
          0,
          1
         ],
         "title": {
          "text": "Tasa de Conversión (%)"
         }
        }
       }
      }
     },
     "metadata": {},
     "output_type": "display_data"
    }
   ],
   "source": [
    "# Crear gráfico de burbujas\n",
    "fig = px.scatter(\n",
    "    origin_conversion,\n",
    "    x=\"mql_percentage\",           # Eje X\n",
    "    y=\"conversion\",               # Eje Y (conversion rate)\n",
    "    size=\"weighted_conversion\",                   # Tamaño de burbuja según cantidad de MQLs\n",
    "    color=\"days_to_convert_q3\",               # Color por canal\n",
    "    hover_name=\"origin\",          # Mostrar nombre al pasar el mouse\n",
    "    size_max=60,                  # Tamaño máximo de burbuja\n",
    "    title=\"Comparación de Orígenes de MQLs\",\n",
    "    labels={\n",
    "        \"mql_percentage\": \"% de MQLs\",\n",
    "        \"conversion\": \"Tasa de Conversión (%)\"\n",
    "    }\n",
    ")\n",
    "\n",
    "fig.show()"
   ]
  },
  {
   "cell_type": "code",
   "execution_count": 44,
   "metadata": {},
   "outputs": [],
   "source": [
    "mql_daily_series = df_processed.groupby('first_contact_date', as_index=False).agg(mql_count=('mql_id', 'count'))"
   ]
  },
  {
   "cell_type": "code",
   "execution_count": 46,
   "metadata": {},
   "outputs": [
    {
     "data": {
      "application/vnd.plotly.v1+json": {
       "config": {
        "plotlyServerURL": "https://plot.ly"
       },
       "data": [
        {
         "hovertemplate": "first_contact_date=%{x}<br>mql_count=%{y}<extra></extra>",
         "legendgroup": "",
         "line": {
          "color": "#636efa",
          "dash": "solid"
         },
         "marker": {
          "symbol": "circle"
         },
         "mode": "lines",
         "name": "",
         "orientation": "v",
         "showlegend": false,
         "type": "scatter",
         "x": [
          "2017-06-14T00:00:00.000000000",
          "2017-06-16T00:00:00.000000000",
          "2017-06-20T00:00:00.000000000",
          "2017-07-02T00:00:00.000000000",
          "2017-07-03T00:00:00.000000000",
          "2017-07-04T00:00:00.000000000",
          "2017-07-05T00:00:00.000000000",
          "2017-07-06T00:00:00.000000000",
          "2017-07-07T00:00:00.000000000",
          "2017-07-08T00:00:00.000000000",
          "2017-07-09T00:00:00.000000000",
          "2017-07-10T00:00:00.000000000",
          "2017-07-11T00:00:00.000000000",
          "2017-07-12T00:00:00.000000000",
          "2017-07-13T00:00:00.000000000",
          "2017-07-14T00:00:00.000000000",
          "2017-07-15T00:00:00.000000000",
          "2017-07-16T00:00:00.000000000",
          "2017-07-17T00:00:00.000000000",
          "2017-07-18T00:00:00.000000000",
          "2017-07-19T00:00:00.000000000",
          "2017-07-20T00:00:00.000000000",
          "2017-07-21T00:00:00.000000000",
          "2017-07-22T00:00:00.000000000",
          "2017-07-23T00:00:00.000000000",
          "2017-07-24T00:00:00.000000000",
          "2017-07-25T00:00:00.000000000",
          "2017-07-26T00:00:00.000000000",
          "2017-07-27T00:00:00.000000000",
          "2017-07-28T00:00:00.000000000",
          "2017-07-29T00:00:00.000000000",
          "2017-07-30T00:00:00.000000000",
          "2017-07-31T00:00:00.000000000",
          "2017-08-01T00:00:00.000000000",
          "2017-08-02T00:00:00.000000000",
          "2017-08-03T00:00:00.000000000",
          "2017-08-04T00:00:00.000000000",
          "2017-08-05T00:00:00.000000000",
          "2017-08-06T00:00:00.000000000",
          "2017-08-07T00:00:00.000000000",
          "2017-08-08T00:00:00.000000000",
          "2017-08-09T00:00:00.000000000",
          "2017-08-10T00:00:00.000000000",
          "2017-08-11T00:00:00.000000000",
          "2017-08-12T00:00:00.000000000",
          "2017-08-13T00:00:00.000000000",
          "2017-08-14T00:00:00.000000000",
          "2017-08-15T00:00:00.000000000",
          "2017-08-16T00:00:00.000000000",
          "2017-08-17T00:00:00.000000000",
          "2017-08-18T00:00:00.000000000",
          "2017-08-19T00:00:00.000000000",
          "2017-08-20T00:00:00.000000000",
          "2017-08-21T00:00:00.000000000",
          "2017-08-22T00:00:00.000000000",
          "2017-08-23T00:00:00.000000000",
          "2017-08-24T00:00:00.000000000",
          "2017-08-25T00:00:00.000000000",
          "2017-08-26T00:00:00.000000000",
          "2017-08-27T00:00:00.000000000",
          "2017-08-28T00:00:00.000000000",
          "2017-08-29T00:00:00.000000000",
          "2017-08-30T00:00:00.000000000",
          "2017-08-31T00:00:00.000000000",
          "2017-09-01T00:00:00.000000000",
          "2017-09-02T00:00:00.000000000",
          "2017-09-03T00:00:00.000000000",
          "2017-09-04T00:00:00.000000000",
          "2017-09-05T00:00:00.000000000",
          "2017-09-06T00:00:00.000000000",
          "2017-09-07T00:00:00.000000000",
          "2017-09-08T00:00:00.000000000",
          "2017-09-09T00:00:00.000000000",
          "2017-09-10T00:00:00.000000000",
          "2017-09-11T00:00:00.000000000",
          "2017-09-12T00:00:00.000000000",
          "2017-09-13T00:00:00.000000000",
          "2017-09-14T00:00:00.000000000",
          "2017-09-15T00:00:00.000000000",
          "2017-09-16T00:00:00.000000000",
          "2017-09-17T00:00:00.000000000",
          "2017-09-18T00:00:00.000000000",
          "2017-09-19T00:00:00.000000000",
          "2017-09-20T00:00:00.000000000",
          "2017-09-21T00:00:00.000000000",
          "2017-09-22T00:00:00.000000000",
          "2017-09-23T00:00:00.000000000",
          "2017-09-24T00:00:00.000000000",
          "2017-09-25T00:00:00.000000000",
          "2017-09-26T00:00:00.000000000",
          "2017-09-27T00:00:00.000000000",
          "2017-09-28T00:00:00.000000000",
          "2017-09-29T00:00:00.000000000",
          "2017-09-30T00:00:00.000000000",
          "2017-10-01T00:00:00.000000000",
          "2017-10-02T00:00:00.000000000",
          "2017-10-03T00:00:00.000000000",
          "2017-10-04T00:00:00.000000000",
          "2017-10-05T00:00:00.000000000",
          "2017-10-06T00:00:00.000000000",
          "2017-10-07T00:00:00.000000000",
          "2017-10-08T00:00:00.000000000",
          "2017-10-09T00:00:00.000000000",
          "2017-10-10T00:00:00.000000000",
          "2017-10-11T00:00:00.000000000",
          "2017-10-12T00:00:00.000000000",
          "2017-10-13T00:00:00.000000000",
          "2017-10-14T00:00:00.000000000",
          "2017-10-15T00:00:00.000000000",
          "2017-10-16T00:00:00.000000000",
          "2017-10-17T00:00:00.000000000",
          "2017-10-18T00:00:00.000000000",
          "2017-10-19T00:00:00.000000000",
          "2017-10-20T00:00:00.000000000",
          "2017-10-21T00:00:00.000000000",
          "2017-10-22T00:00:00.000000000",
          "2017-10-23T00:00:00.000000000",
          "2017-10-24T00:00:00.000000000",
          "2017-10-25T00:00:00.000000000",
          "2017-10-26T00:00:00.000000000",
          "2017-10-27T00:00:00.000000000",
          "2017-10-28T00:00:00.000000000",
          "2017-10-29T00:00:00.000000000",
          "2017-10-30T00:00:00.000000000",
          "2017-10-31T00:00:00.000000000",
          "2017-11-01T00:00:00.000000000",
          "2017-11-02T00:00:00.000000000",
          "2017-11-03T00:00:00.000000000",
          "2017-11-04T00:00:00.000000000",
          "2017-11-05T00:00:00.000000000",
          "2017-11-06T00:00:00.000000000",
          "2017-11-07T00:00:00.000000000",
          "2017-11-08T00:00:00.000000000",
          "2017-11-09T00:00:00.000000000",
          "2017-11-10T00:00:00.000000000",
          "2017-11-11T00:00:00.000000000",
          "2017-11-12T00:00:00.000000000",
          "2017-11-13T00:00:00.000000000",
          "2017-11-14T00:00:00.000000000",
          "2017-11-15T00:00:00.000000000",
          "2017-11-16T00:00:00.000000000",
          "2017-11-17T00:00:00.000000000",
          "2017-11-18T00:00:00.000000000",
          "2017-11-19T00:00:00.000000000",
          "2017-11-20T00:00:00.000000000",
          "2017-11-21T00:00:00.000000000",
          "2017-11-22T00:00:00.000000000",
          "2017-11-23T00:00:00.000000000",
          "2017-11-24T00:00:00.000000000",
          "2017-11-25T00:00:00.000000000",
          "2017-11-26T00:00:00.000000000",
          "2017-11-27T00:00:00.000000000",
          "2017-11-28T00:00:00.000000000",
          "2017-11-29T00:00:00.000000000",
          "2017-11-30T00:00:00.000000000",
          "2017-12-01T00:00:00.000000000",
          "2017-12-02T00:00:00.000000000",
          "2017-12-03T00:00:00.000000000",
          "2017-12-04T00:00:00.000000000",
          "2017-12-05T00:00:00.000000000",
          "2017-12-06T00:00:00.000000000",
          "2017-12-07T00:00:00.000000000",
          "2017-12-08T00:00:00.000000000",
          "2017-12-09T00:00:00.000000000",
          "2017-12-11T00:00:00.000000000",
          "2017-12-12T00:00:00.000000000",
          "2017-12-13T00:00:00.000000000",
          "2017-12-14T00:00:00.000000000",
          "2017-12-15T00:00:00.000000000",
          "2017-12-16T00:00:00.000000000",
          "2017-12-17T00:00:00.000000000",
          "2017-12-18T00:00:00.000000000",
          "2017-12-19T00:00:00.000000000",
          "2017-12-20T00:00:00.000000000",
          "2017-12-21T00:00:00.000000000",
          "2017-12-22T00:00:00.000000000",
          "2017-12-23T00:00:00.000000000",
          "2017-12-24T00:00:00.000000000",
          "2017-12-25T00:00:00.000000000",
          "2017-12-26T00:00:00.000000000",
          "2017-12-27T00:00:00.000000000",
          "2017-12-28T00:00:00.000000000",
          "2017-12-29T00:00:00.000000000",
          "2017-12-30T00:00:00.000000000",
          "2017-12-31T00:00:00.000000000",
          "2018-01-01T00:00:00.000000000",
          "2018-01-02T00:00:00.000000000",
          "2018-01-03T00:00:00.000000000",
          "2018-01-04T00:00:00.000000000",
          "2018-01-05T00:00:00.000000000",
          "2018-01-06T00:00:00.000000000",
          "2018-01-07T00:00:00.000000000",
          "2018-01-08T00:00:00.000000000",
          "2018-01-09T00:00:00.000000000",
          "2018-01-10T00:00:00.000000000",
          "2018-01-11T00:00:00.000000000",
          "2018-01-12T00:00:00.000000000",
          "2018-01-13T00:00:00.000000000",
          "2018-01-14T00:00:00.000000000",
          "2018-01-15T00:00:00.000000000",
          "2018-01-16T00:00:00.000000000",
          "2018-01-17T00:00:00.000000000",
          "2018-01-18T00:00:00.000000000",
          "2018-01-19T00:00:00.000000000",
          "2018-01-20T00:00:00.000000000",
          "2018-01-21T00:00:00.000000000",
          "2018-01-22T00:00:00.000000000",
          "2018-01-23T00:00:00.000000000",
          "2018-01-24T00:00:00.000000000",
          "2018-01-25T00:00:00.000000000",
          "2018-01-26T00:00:00.000000000",
          "2018-01-27T00:00:00.000000000",
          "2018-01-28T00:00:00.000000000",
          "2018-01-29T00:00:00.000000000",
          "2018-01-30T00:00:00.000000000",
          "2018-01-31T00:00:00.000000000",
          "2018-02-01T00:00:00.000000000",
          "2018-02-02T00:00:00.000000000",
          "2018-02-03T00:00:00.000000000",
          "2018-02-04T00:00:00.000000000",
          "2018-02-05T00:00:00.000000000",
          "2018-02-06T00:00:00.000000000",
          "2018-02-07T00:00:00.000000000",
          "2018-02-08T00:00:00.000000000",
          "2018-02-09T00:00:00.000000000",
          "2018-02-10T00:00:00.000000000",
          "2018-02-11T00:00:00.000000000",
          "2018-02-12T00:00:00.000000000",
          "2018-02-13T00:00:00.000000000",
          "2018-02-14T00:00:00.000000000",
          "2018-02-15T00:00:00.000000000",
          "2018-02-16T00:00:00.000000000",
          "2018-02-17T00:00:00.000000000",
          "2018-02-18T00:00:00.000000000",
          "2018-02-19T00:00:00.000000000",
          "2018-02-20T00:00:00.000000000",
          "2018-02-21T00:00:00.000000000",
          "2018-02-22T00:00:00.000000000",
          "2018-02-23T00:00:00.000000000",
          "2018-02-24T00:00:00.000000000",
          "2018-02-25T00:00:00.000000000",
          "2018-02-26T00:00:00.000000000",
          "2018-02-27T00:00:00.000000000",
          "2018-02-28T00:00:00.000000000",
          "2018-03-01T00:00:00.000000000",
          "2018-03-02T00:00:00.000000000",
          "2018-03-03T00:00:00.000000000",
          "2018-03-04T00:00:00.000000000",
          "2018-03-05T00:00:00.000000000",
          "2018-03-06T00:00:00.000000000",
          "2018-03-07T00:00:00.000000000",
          "2018-03-08T00:00:00.000000000",
          "2018-03-09T00:00:00.000000000",
          "2018-03-10T00:00:00.000000000",
          "2018-03-11T00:00:00.000000000",
          "2018-03-12T00:00:00.000000000",
          "2018-03-13T00:00:00.000000000",
          "2018-03-14T00:00:00.000000000",
          "2018-03-15T00:00:00.000000000",
          "2018-03-16T00:00:00.000000000",
          "2018-03-17T00:00:00.000000000",
          "2018-03-18T00:00:00.000000000",
          "2018-03-19T00:00:00.000000000",
          "2018-03-20T00:00:00.000000000",
          "2018-03-21T00:00:00.000000000",
          "2018-03-22T00:00:00.000000000",
          "2018-03-23T00:00:00.000000000",
          "2018-03-24T00:00:00.000000000",
          "2018-03-25T00:00:00.000000000",
          "2018-03-26T00:00:00.000000000",
          "2018-03-27T00:00:00.000000000",
          "2018-03-28T00:00:00.000000000",
          "2018-03-29T00:00:00.000000000",
          "2018-03-30T00:00:00.000000000",
          "2018-03-31T00:00:00.000000000",
          "2018-04-01T00:00:00.000000000",
          "2018-04-02T00:00:00.000000000",
          "2018-04-03T00:00:00.000000000",
          "2018-04-04T00:00:00.000000000",
          "2018-04-05T00:00:00.000000000",
          "2018-04-06T00:00:00.000000000",
          "2018-04-07T00:00:00.000000000",
          "2018-04-08T00:00:00.000000000",
          "2018-04-09T00:00:00.000000000",
          "2018-04-10T00:00:00.000000000",
          "2018-04-11T00:00:00.000000000",
          "2018-04-12T00:00:00.000000000",
          "2018-04-13T00:00:00.000000000",
          "2018-04-14T00:00:00.000000000",
          "2018-04-15T00:00:00.000000000",
          "2018-04-16T00:00:00.000000000",
          "2018-04-17T00:00:00.000000000",
          "2018-04-18T00:00:00.000000000",
          "2018-04-19T00:00:00.000000000",
          "2018-04-20T00:00:00.000000000",
          "2018-04-21T00:00:00.000000000",
          "2018-04-22T00:00:00.000000000",
          "2018-04-23T00:00:00.000000000",
          "2018-04-24T00:00:00.000000000",
          "2018-04-25T00:00:00.000000000",
          "2018-04-26T00:00:00.000000000",
          "2018-04-27T00:00:00.000000000",
          "2018-04-28T00:00:00.000000000",
          "2018-04-29T00:00:00.000000000",
          "2018-04-30T00:00:00.000000000",
          "2018-05-01T00:00:00.000000000",
          "2018-05-02T00:00:00.000000000",
          "2018-05-03T00:00:00.000000000",
          "2018-05-04T00:00:00.000000000",
          "2018-05-05T00:00:00.000000000",
          "2018-05-06T00:00:00.000000000",
          "2018-05-07T00:00:00.000000000",
          "2018-05-08T00:00:00.000000000",
          "2018-05-09T00:00:00.000000000",
          "2018-05-10T00:00:00.000000000",
          "2018-05-11T00:00:00.000000000",
          "2018-05-12T00:00:00.000000000",
          "2018-05-13T00:00:00.000000000",
          "2018-05-14T00:00:00.000000000",
          "2018-05-15T00:00:00.000000000",
          "2018-05-16T00:00:00.000000000",
          "2018-05-17T00:00:00.000000000",
          "2018-05-18T00:00:00.000000000",
          "2018-05-19T00:00:00.000000000",
          "2018-05-20T00:00:00.000000000",
          "2018-05-21T00:00:00.000000000",
          "2018-05-22T00:00:00.000000000",
          "2018-05-23T00:00:00.000000000",
          "2018-05-24T00:00:00.000000000",
          "2018-05-25T00:00:00.000000000",
          "2018-05-26T00:00:00.000000000",
          "2018-05-27T00:00:00.000000000",
          "2018-05-28T00:00:00.000000000",
          "2018-05-29T00:00:00.000000000",
          "2018-05-30T00:00:00.000000000",
          "2018-05-31T00:00:00.000000000"
         ],
         "xaxis": "x",
         "y": {
          "bdata": "AgEBAQEGBwsLBAIKCg8GCAEBCQoNEAoFBA4MCAsHBgETGQgQCgQFEwsOFgoDBA4REw8MCgQOFBEOBwMKEA8PDQsBBhURCQUHBgQKDxMSEAMJCw4PDQYEBgoSCgcSAwgRBwwMHAkFDRIKBAUEBxMXEw8MCgcVDxUZEwkHERITCRAEBxESCw0ZCAQVFwgTDgYIDRoXGBgGCg8SExENAwMGBQYEBAEDBAMFCwQDBgcGCQgFAgsQDgoMCgYJIhssKxckNx4sLSkZES0oPSEfExJLKicpIhMSLjoxLx0XEy1HNyQZEBAlEyw0Kw8KKyY2Li4PHDoyMCciDhItLzUrKg8QOEU6LCoLEi4xNzIvEw1GJDArGAoTRUFBPiUSFjk7MjQnFhM+LEM/ORIRJjFCPzUcEzUZXTMqFRI8QjM0GhcKPUwvIygSGz07LTYyFxM5JR4a",
          "dtype": "i1"
         },
         "yaxis": "y"
        }
       ],
       "layout": {
        "legend": {
         "tracegroupgap": 0
        },
        "template": {
         "data": {
          "bar": [
           {
            "error_x": {
             "color": "#2a3f5f"
            },
            "error_y": {
             "color": "#2a3f5f"
            },
            "marker": {
             "line": {
              "color": "#E5ECF6",
              "width": 0.5
             },
             "pattern": {
              "fillmode": "overlay",
              "size": 10,
              "solidity": 0.2
             }
            },
            "type": "bar"
           }
          ],
          "barpolar": [
           {
            "marker": {
             "line": {
              "color": "#E5ECF6",
              "width": 0.5
             },
             "pattern": {
              "fillmode": "overlay",
              "size": 10,
              "solidity": 0.2
             }
            },
            "type": "barpolar"
           }
          ],
          "carpet": [
           {
            "aaxis": {
             "endlinecolor": "#2a3f5f",
             "gridcolor": "white",
             "linecolor": "white",
             "minorgridcolor": "white",
             "startlinecolor": "#2a3f5f"
            },
            "baxis": {
             "endlinecolor": "#2a3f5f",
             "gridcolor": "white",
             "linecolor": "white",
             "minorgridcolor": "white",
             "startlinecolor": "#2a3f5f"
            },
            "type": "carpet"
           }
          ],
          "choropleth": [
           {
            "colorbar": {
             "outlinewidth": 0,
             "ticks": ""
            },
            "type": "choropleth"
           }
          ],
          "contour": [
           {
            "colorbar": {
             "outlinewidth": 0,
             "ticks": ""
            },
            "colorscale": [
             [
              0,
              "#0d0887"
             ],
             [
              0.1111111111111111,
              "#46039f"
             ],
             [
              0.2222222222222222,
              "#7201a8"
             ],
             [
              0.3333333333333333,
              "#9c179e"
             ],
             [
              0.4444444444444444,
              "#bd3786"
             ],
             [
              0.5555555555555556,
              "#d8576b"
             ],
             [
              0.6666666666666666,
              "#ed7953"
             ],
             [
              0.7777777777777778,
              "#fb9f3a"
             ],
             [
              0.8888888888888888,
              "#fdca26"
             ],
             [
              1,
              "#f0f921"
             ]
            ],
            "type": "contour"
           }
          ],
          "contourcarpet": [
           {
            "colorbar": {
             "outlinewidth": 0,
             "ticks": ""
            },
            "type": "contourcarpet"
           }
          ],
          "heatmap": [
           {
            "colorbar": {
             "outlinewidth": 0,
             "ticks": ""
            },
            "colorscale": [
             [
              0,
              "#0d0887"
             ],
             [
              0.1111111111111111,
              "#46039f"
             ],
             [
              0.2222222222222222,
              "#7201a8"
             ],
             [
              0.3333333333333333,
              "#9c179e"
             ],
             [
              0.4444444444444444,
              "#bd3786"
             ],
             [
              0.5555555555555556,
              "#d8576b"
             ],
             [
              0.6666666666666666,
              "#ed7953"
             ],
             [
              0.7777777777777778,
              "#fb9f3a"
             ],
             [
              0.8888888888888888,
              "#fdca26"
             ],
             [
              1,
              "#f0f921"
             ]
            ],
            "type": "heatmap"
           }
          ],
          "histogram": [
           {
            "marker": {
             "pattern": {
              "fillmode": "overlay",
              "size": 10,
              "solidity": 0.2
             }
            },
            "type": "histogram"
           }
          ],
          "histogram2d": [
           {
            "colorbar": {
             "outlinewidth": 0,
             "ticks": ""
            },
            "colorscale": [
             [
              0,
              "#0d0887"
             ],
             [
              0.1111111111111111,
              "#46039f"
             ],
             [
              0.2222222222222222,
              "#7201a8"
             ],
             [
              0.3333333333333333,
              "#9c179e"
             ],
             [
              0.4444444444444444,
              "#bd3786"
             ],
             [
              0.5555555555555556,
              "#d8576b"
             ],
             [
              0.6666666666666666,
              "#ed7953"
             ],
             [
              0.7777777777777778,
              "#fb9f3a"
             ],
             [
              0.8888888888888888,
              "#fdca26"
             ],
             [
              1,
              "#f0f921"
             ]
            ],
            "type": "histogram2d"
           }
          ],
          "histogram2dcontour": [
           {
            "colorbar": {
             "outlinewidth": 0,
             "ticks": ""
            },
            "colorscale": [
             [
              0,
              "#0d0887"
             ],
             [
              0.1111111111111111,
              "#46039f"
             ],
             [
              0.2222222222222222,
              "#7201a8"
             ],
             [
              0.3333333333333333,
              "#9c179e"
             ],
             [
              0.4444444444444444,
              "#bd3786"
             ],
             [
              0.5555555555555556,
              "#d8576b"
             ],
             [
              0.6666666666666666,
              "#ed7953"
             ],
             [
              0.7777777777777778,
              "#fb9f3a"
             ],
             [
              0.8888888888888888,
              "#fdca26"
             ],
             [
              1,
              "#f0f921"
             ]
            ],
            "type": "histogram2dcontour"
           }
          ],
          "mesh3d": [
           {
            "colorbar": {
             "outlinewidth": 0,
             "ticks": ""
            },
            "type": "mesh3d"
           }
          ],
          "parcoords": [
           {
            "line": {
             "colorbar": {
              "outlinewidth": 0,
              "ticks": ""
             }
            },
            "type": "parcoords"
           }
          ],
          "pie": [
           {
            "automargin": true,
            "type": "pie"
           }
          ],
          "scatter": [
           {
            "fillpattern": {
             "fillmode": "overlay",
             "size": 10,
             "solidity": 0.2
            },
            "type": "scatter"
           }
          ],
          "scatter3d": [
           {
            "line": {
             "colorbar": {
              "outlinewidth": 0,
              "ticks": ""
             }
            },
            "marker": {
             "colorbar": {
              "outlinewidth": 0,
              "ticks": ""
             }
            },
            "type": "scatter3d"
           }
          ],
          "scattercarpet": [
           {
            "marker": {
             "colorbar": {
              "outlinewidth": 0,
              "ticks": ""
             }
            },
            "type": "scattercarpet"
           }
          ],
          "scattergeo": [
           {
            "marker": {
             "colorbar": {
              "outlinewidth": 0,
              "ticks": ""
             }
            },
            "type": "scattergeo"
           }
          ],
          "scattergl": [
           {
            "marker": {
             "colorbar": {
              "outlinewidth": 0,
              "ticks": ""
             }
            },
            "type": "scattergl"
           }
          ],
          "scattermap": [
           {
            "marker": {
             "colorbar": {
              "outlinewidth": 0,
              "ticks": ""
             }
            },
            "type": "scattermap"
           }
          ],
          "scattermapbox": [
           {
            "marker": {
             "colorbar": {
              "outlinewidth": 0,
              "ticks": ""
             }
            },
            "type": "scattermapbox"
           }
          ],
          "scatterpolar": [
           {
            "marker": {
             "colorbar": {
              "outlinewidth": 0,
              "ticks": ""
             }
            },
            "type": "scatterpolar"
           }
          ],
          "scatterpolargl": [
           {
            "marker": {
             "colorbar": {
              "outlinewidth": 0,
              "ticks": ""
             }
            },
            "type": "scatterpolargl"
           }
          ],
          "scatterternary": [
           {
            "marker": {
             "colorbar": {
              "outlinewidth": 0,
              "ticks": ""
             }
            },
            "type": "scatterternary"
           }
          ],
          "surface": [
           {
            "colorbar": {
             "outlinewidth": 0,
             "ticks": ""
            },
            "colorscale": [
             [
              0,
              "#0d0887"
             ],
             [
              0.1111111111111111,
              "#46039f"
             ],
             [
              0.2222222222222222,
              "#7201a8"
             ],
             [
              0.3333333333333333,
              "#9c179e"
             ],
             [
              0.4444444444444444,
              "#bd3786"
             ],
             [
              0.5555555555555556,
              "#d8576b"
             ],
             [
              0.6666666666666666,
              "#ed7953"
             ],
             [
              0.7777777777777778,
              "#fb9f3a"
             ],
             [
              0.8888888888888888,
              "#fdca26"
             ],
             [
              1,
              "#f0f921"
             ]
            ],
            "type": "surface"
           }
          ],
          "table": [
           {
            "cells": {
             "fill": {
              "color": "#EBF0F8"
             },
             "line": {
              "color": "white"
             }
            },
            "header": {
             "fill": {
              "color": "#C8D4E3"
             },
             "line": {
              "color": "white"
             }
            },
            "type": "table"
           }
          ]
         },
         "layout": {
          "annotationdefaults": {
           "arrowcolor": "#2a3f5f",
           "arrowhead": 0,
           "arrowwidth": 1
          },
          "autotypenumbers": "strict",
          "coloraxis": {
           "colorbar": {
            "outlinewidth": 0,
            "ticks": ""
           }
          },
          "colorscale": {
           "diverging": [
            [
             0,
             "#8e0152"
            ],
            [
             0.1,
             "#c51b7d"
            ],
            [
             0.2,
             "#de77ae"
            ],
            [
             0.3,
             "#f1b6da"
            ],
            [
             0.4,
             "#fde0ef"
            ],
            [
             0.5,
             "#f7f7f7"
            ],
            [
             0.6,
             "#e6f5d0"
            ],
            [
             0.7,
             "#b8e186"
            ],
            [
             0.8,
             "#7fbc41"
            ],
            [
             0.9,
             "#4d9221"
            ],
            [
             1,
             "#276419"
            ]
           ],
           "sequential": [
            [
             0,
             "#0d0887"
            ],
            [
             0.1111111111111111,
             "#46039f"
            ],
            [
             0.2222222222222222,
             "#7201a8"
            ],
            [
             0.3333333333333333,
             "#9c179e"
            ],
            [
             0.4444444444444444,
             "#bd3786"
            ],
            [
             0.5555555555555556,
             "#d8576b"
            ],
            [
             0.6666666666666666,
             "#ed7953"
            ],
            [
             0.7777777777777778,
             "#fb9f3a"
            ],
            [
             0.8888888888888888,
             "#fdca26"
            ],
            [
             1,
             "#f0f921"
            ]
           ],
           "sequentialminus": [
            [
             0,
             "#0d0887"
            ],
            [
             0.1111111111111111,
             "#46039f"
            ],
            [
             0.2222222222222222,
             "#7201a8"
            ],
            [
             0.3333333333333333,
             "#9c179e"
            ],
            [
             0.4444444444444444,
             "#bd3786"
            ],
            [
             0.5555555555555556,
             "#d8576b"
            ],
            [
             0.6666666666666666,
             "#ed7953"
            ],
            [
             0.7777777777777778,
             "#fb9f3a"
            ],
            [
             0.8888888888888888,
             "#fdca26"
            ],
            [
             1,
             "#f0f921"
            ]
           ]
          },
          "colorway": [
           "#636efa",
           "#EF553B",
           "#00cc96",
           "#ab63fa",
           "#FFA15A",
           "#19d3f3",
           "#FF6692",
           "#B6E880",
           "#FF97FF",
           "#FECB52"
          ],
          "font": {
           "color": "#2a3f5f"
          },
          "geo": {
           "bgcolor": "white",
           "lakecolor": "white",
           "landcolor": "#E5ECF6",
           "showlakes": true,
           "showland": true,
           "subunitcolor": "white"
          },
          "hoverlabel": {
           "align": "left"
          },
          "hovermode": "closest",
          "mapbox": {
           "style": "light"
          },
          "paper_bgcolor": "white",
          "plot_bgcolor": "#E5ECF6",
          "polar": {
           "angularaxis": {
            "gridcolor": "white",
            "linecolor": "white",
            "ticks": ""
           },
           "bgcolor": "#E5ECF6",
           "radialaxis": {
            "gridcolor": "white",
            "linecolor": "white",
            "ticks": ""
           }
          },
          "scene": {
           "xaxis": {
            "backgroundcolor": "#E5ECF6",
            "gridcolor": "white",
            "gridwidth": 2,
            "linecolor": "white",
            "showbackground": true,
            "ticks": "",
            "zerolinecolor": "white"
           },
           "yaxis": {
            "backgroundcolor": "#E5ECF6",
            "gridcolor": "white",
            "gridwidth": 2,
            "linecolor": "white",
            "showbackground": true,
            "ticks": "",
            "zerolinecolor": "white"
           },
           "zaxis": {
            "backgroundcolor": "#E5ECF6",
            "gridcolor": "white",
            "gridwidth": 2,
            "linecolor": "white",
            "showbackground": true,
            "ticks": "",
            "zerolinecolor": "white"
           }
          },
          "shapedefaults": {
           "line": {
            "color": "#2a3f5f"
           }
          },
          "ternary": {
           "aaxis": {
            "gridcolor": "white",
            "linecolor": "white",
            "ticks": ""
           },
           "baxis": {
            "gridcolor": "white",
            "linecolor": "white",
            "ticks": ""
           },
           "bgcolor": "#E5ECF6",
           "caxis": {
            "gridcolor": "white",
            "linecolor": "white",
            "ticks": ""
           }
          },
          "title": {
           "x": 0.05
          },
          "xaxis": {
           "automargin": true,
           "gridcolor": "white",
           "linecolor": "white",
           "ticks": "",
           "title": {
            "standoff": 15
           },
           "zerolinecolor": "white",
           "zerolinewidth": 2
          },
          "yaxis": {
           "automargin": true,
           "gridcolor": "white",
           "linecolor": "white",
           "ticks": "",
           "title": {
            "standoff": 15
           },
           "zerolinecolor": "white",
           "zerolinewidth": 2
          }
         }
        },
        "title": {
         "text": "MQLs por día"
        },
        "xaxis": {
         "anchor": "y",
         "domain": [
          0,
          1
         ],
         "title": {
          "text": "first_contact_date"
         }
        },
        "yaxis": {
         "anchor": "x",
         "domain": [
          0,
          1
         ],
         "title": {
          "text": "mql_count"
         }
        }
       }
      }
     },
     "metadata": {},
     "output_type": "display_data"
    }
   ],
   "source": [
    "px.line(mql_daily_series, x='first_contact_date', y='mql_count', title='MQLs por día')"
   ]
  },
  {
   "cell_type": "code",
   "execution_count": 51,
   "metadata": {},
   "outputs": [],
   "source": [
    "df_processed['contact_period'] = df_processed['first_contact_date'].astype(str).str[:7]\n"
   ]
  },
  {
   "cell_type": "code",
   "execution_count": 53,
   "metadata": {},
   "outputs": [],
   "source": [
    "mql_period_series = df_processed.groupby('contact_period', as_index=False).agg(mql_count=('mql_id', 'count'))"
   ]
  },
  {
   "cell_type": "code",
   "execution_count": 56,
   "metadata": {},
   "outputs": [
    {
     "data": {
      "text/plain": [
       "(12, 2)"
      ]
     },
     "execution_count": 56,
     "metadata": {},
     "output_type": "execute_result"
    }
   ],
   "source": [
    "mql_period_series.shape"
   ]
  },
  {
   "cell_type": "code",
   "execution_count": 55,
   "metadata": {},
   "outputs": [
    {
     "data": {
      "application/vnd.plotly.v1+json": {
       "config": {
        "plotlyServerURL": "https://plot.ly"
       },
       "data": [
        {
         "hovertemplate": "contact_period=%{x}<br>mql_count=%{y}<extra></extra>",
         "legendgroup": "",
         "line": {
          "color": "#636efa",
          "dash": "solid"
         },
         "marker": {
          "symbol": "circle"
         },
         "mode": "lines",
         "name": "",
         "orientation": "v",
         "showlegend": false,
         "type": "scatter",
         "x": [
          "2017-06",
          "2017-07",
          "2017-08",
          "2017-09",
          "2017-10",
          "2017-11",
          "2017-12",
          "2018-01",
          "2018-02",
          "2018-03",
          "2018-04",
          "2018-05"
         ],
         "xaxis": "x",
         "y": {
          "bdata": "BADvAIIBOAGgAb0ByAB1BAQElgRIBRcF",
          "dtype": "i2"
         },
         "yaxis": "y"
        }
       ],
       "layout": {
        "legend": {
         "tracegroupgap": 0
        },
        "template": {
         "data": {
          "bar": [
           {
            "error_x": {
             "color": "#2a3f5f"
            },
            "error_y": {
             "color": "#2a3f5f"
            },
            "marker": {
             "line": {
              "color": "#E5ECF6",
              "width": 0.5
             },
             "pattern": {
              "fillmode": "overlay",
              "size": 10,
              "solidity": 0.2
             }
            },
            "type": "bar"
           }
          ],
          "barpolar": [
           {
            "marker": {
             "line": {
              "color": "#E5ECF6",
              "width": 0.5
             },
             "pattern": {
              "fillmode": "overlay",
              "size": 10,
              "solidity": 0.2
             }
            },
            "type": "barpolar"
           }
          ],
          "carpet": [
           {
            "aaxis": {
             "endlinecolor": "#2a3f5f",
             "gridcolor": "white",
             "linecolor": "white",
             "minorgridcolor": "white",
             "startlinecolor": "#2a3f5f"
            },
            "baxis": {
             "endlinecolor": "#2a3f5f",
             "gridcolor": "white",
             "linecolor": "white",
             "minorgridcolor": "white",
             "startlinecolor": "#2a3f5f"
            },
            "type": "carpet"
           }
          ],
          "choropleth": [
           {
            "colorbar": {
             "outlinewidth": 0,
             "ticks": ""
            },
            "type": "choropleth"
           }
          ],
          "contour": [
           {
            "colorbar": {
             "outlinewidth": 0,
             "ticks": ""
            },
            "colorscale": [
             [
              0,
              "#0d0887"
             ],
             [
              0.1111111111111111,
              "#46039f"
             ],
             [
              0.2222222222222222,
              "#7201a8"
             ],
             [
              0.3333333333333333,
              "#9c179e"
             ],
             [
              0.4444444444444444,
              "#bd3786"
             ],
             [
              0.5555555555555556,
              "#d8576b"
             ],
             [
              0.6666666666666666,
              "#ed7953"
             ],
             [
              0.7777777777777778,
              "#fb9f3a"
             ],
             [
              0.8888888888888888,
              "#fdca26"
             ],
             [
              1,
              "#f0f921"
             ]
            ],
            "type": "contour"
           }
          ],
          "contourcarpet": [
           {
            "colorbar": {
             "outlinewidth": 0,
             "ticks": ""
            },
            "type": "contourcarpet"
           }
          ],
          "heatmap": [
           {
            "colorbar": {
             "outlinewidth": 0,
             "ticks": ""
            },
            "colorscale": [
             [
              0,
              "#0d0887"
             ],
             [
              0.1111111111111111,
              "#46039f"
             ],
             [
              0.2222222222222222,
              "#7201a8"
             ],
             [
              0.3333333333333333,
              "#9c179e"
             ],
             [
              0.4444444444444444,
              "#bd3786"
             ],
             [
              0.5555555555555556,
              "#d8576b"
             ],
             [
              0.6666666666666666,
              "#ed7953"
             ],
             [
              0.7777777777777778,
              "#fb9f3a"
             ],
             [
              0.8888888888888888,
              "#fdca26"
             ],
             [
              1,
              "#f0f921"
             ]
            ],
            "type": "heatmap"
           }
          ],
          "histogram": [
           {
            "marker": {
             "pattern": {
              "fillmode": "overlay",
              "size": 10,
              "solidity": 0.2
             }
            },
            "type": "histogram"
           }
          ],
          "histogram2d": [
           {
            "colorbar": {
             "outlinewidth": 0,
             "ticks": ""
            },
            "colorscale": [
             [
              0,
              "#0d0887"
             ],
             [
              0.1111111111111111,
              "#46039f"
             ],
             [
              0.2222222222222222,
              "#7201a8"
             ],
             [
              0.3333333333333333,
              "#9c179e"
             ],
             [
              0.4444444444444444,
              "#bd3786"
             ],
             [
              0.5555555555555556,
              "#d8576b"
             ],
             [
              0.6666666666666666,
              "#ed7953"
             ],
             [
              0.7777777777777778,
              "#fb9f3a"
             ],
             [
              0.8888888888888888,
              "#fdca26"
             ],
             [
              1,
              "#f0f921"
             ]
            ],
            "type": "histogram2d"
           }
          ],
          "histogram2dcontour": [
           {
            "colorbar": {
             "outlinewidth": 0,
             "ticks": ""
            },
            "colorscale": [
             [
              0,
              "#0d0887"
             ],
             [
              0.1111111111111111,
              "#46039f"
             ],
             [
              0.2222222222222222,
              "#7201a8"
             ],
             [
              0.3333333333333333,
              "#9c179e"
             ],
             [
              0.4444444444444444,
              "#bd3786"
             ],
             [
              0.5555555555555556,
              "#d8576b"
             ],
             [
              0.6666666666666666,
              "#ed7953"
             ],
             [
              0.7777777777777778,
              "#fb9f3a"
             ],
             [
              0.8888888888888888,
              "#fdca26"
             ],
             [
              1,
              "#f0f921"
             ]
            ],
            "type": "histogram2dcontour"
           }
          ],
          "mesh3d": [
           {
            "colorbar": {
             "outlinewidth": 0,
             "ticks": ""
            },
            "type": "mesh3d"
           }
          ],
          "parcoords": [
           {
            "line": {
             "colorbar": {
              "outlinewidth": 0,
              "ticks": ""
             }
            },
            "type": "parcoords"
           }
          ],
          "pie": [
           {
            "automargin": true,
            "type": "pie"
           }
          ],
          "scatter": [
           {
            "fillpattern": {
             "fillmode": "overlay",
             "size": 10,
             "solidity": 0.2
            },
            "type": "scatter"
           }
          ],
          "scatter3d": [
           {
            "line": {
             "colorbar": {
              "outlinewidth": 0,
              "ticks": ""
             }
            },
            "marker": {
             "colorbar": {
              "outlinewidth": 0,
              "ticks": ""
             }
            },
            "type": "scatter3d"
           }
          ],
          "scattercarpet": [
           {
            "marker": {
             "colorbar": {
              "outlinewidth": 0,
              "ticks": ""
             }
            },
            "type": "scattercarpet"
           }
          ],
          "scattergeo": [
           {
            "marker": {
             "colorbar": {
              "outlinewidth": 0,
              "ticks": ""
             }
            },
            "type": "scattergeo"
           }
          ],
          "scattergl": [
           {
            "marker": {
             "colorbar": {
              "outlinewidth": 0,
              "ticks": ""
             }
            },
            "type": "scattergl"
           }
          ],
          "scattermap": [
           {
            "marker": {
             "colorbar": {
              "outlinewidth": 0,
              "ticks": ""
             }
            },
            "type": "scattermap"
           }
          ],
          "scattermapbox": [
           {
            "marker": {
             "colorbar": {
              "outlinewidth": 0,
              "ticks": ""
             }
            },
            "type": "scattermapbox"
           }
          ],
          "scatterpolar": [
           {
            "marker": {
             "colorbar": {
              "outlinewidth": 0,
              "ticks": ""
             }
            },
            "type": "scatterpolar"
           }
          ],
          "scatterpolargl": [
           {
            "marker": {
             "colorbar": {
              "outlinewidth": 0,
              "ticks": ""
             }
            },
            "type": "scatterpolargl"
           }
          ],
          "scatterternary": [
           {
            "marker": {
             "colorbar": {
              "outlinewidth": 0,
              "ticks": ""
             }
            },
            "type": "scatterternary"
           }
          ],
          "surface": [
           {
            "colorbar": {
             "outlinewidth": 0,
             "ticks": ""
            },
            "colorscale": [
             [
              0,
              "#0d0887"
             ],
             [
              0.1111111111111111,
              "#46039f"
             ],
             [
              0.2222222222222222,
              "#7201a8"
             ],
             [
              0.3333333333333333,
              "#9c179e"
             ],
             [
              0.4444444444444444,
              "#bd3786"
             ],
             [
              0.5555555555555556,
              "#d8576b"
             ],
             [
              0.6666666666666666,
              "#ed7953"
             ],
             [
              0.7777777777777778,
              "#fb9f3a"
             ],
             [
              0.8888888888888888,
              "#fdca26"
             ],
             [
              1,
              "#f0f921"
             ]
            ],
            "type": "surface"
           }
          ],
          "table": [
           {
            "cells": {
             "fill": {
              "color": "#EBF0F8"
             },
             "line": {
              "color": "white"
             }
            },
            "header": {
             "fill": {
              "color": "#C8D4E3"
             },
             "line": {
              "color": "white"
             }
            },
            "type": "table"
           }
          ]
         },
         "layout": {
          "annotationdefaults": {
           "arrowcolor": "#2a3f5f",
           "arrowhead": 0,
           "arrowwidth": 1
          },
          "autotypenumbers": "strict",
          "coloraxis": {
           "colorbar": {
            "outlinewidth": 0,
            "ticks": ""
           }
          },
          "colorscale": {
           "diverging": [
            [
             0,
             "#8e0152"
            ],
            [
             0.1,
             "#c51b7d"
            ],
            [
             0.2,
             "#de77ae"
            ],
            [
             0.3,
             "#f1b6da"
            ],
            [
             0.4,
             "#fde0ef"
            ],
            [
             0.5,
             "#f7f7f7"
            ],
            [
             0.6,
             "#e6f5d0"
            ],
            [
             0.7,
             "#b8e186"
            ],
            [
             0.8,
             "#7fbc41"
            ],
            [
             0.9,
             "#4d9221"
            ],
            [
             1,
             "#276419"
            ]
           ],
           "sequential": [
            [
             0,
             "#0d0887"
            ],
            [
             0.1111111111111111,
             "#46039f"
            ],
            [
             0.2222222222222222,
             "#7201a8"
            ],
            [
             0.3333333333333333,
             "#9c179e"
            ],
            [
             0.4444444444444444,
             "#bd3786"
            ],
            [
             0.5555555555555556,
             "#d8576b"
            ],
            [
             0.6666666666666666,
             "#ed7953"
            ],
            [
             0.7777777777777778,
             "#fb9f3a"
            ],
            [
             0.8888888888888888,
             "#fdca26"
            ],
            [
             1,
             "#f0f921"
            ]
           ],
           "sequentialminus": [
            [
             0,
             "#0d0887"
            ],
            [
             0.1111111111111111,
             "#46039f"
            ],
            [
             0.2222222222222222,
             "#7201a8"
            ],
            [
             0.3333333333333333,
             "#9c179e"
            ],
            [
             0.4444444444444444,
             "#bd3786"
            ],
            [
             0.5555555555555556,
             "#d8576b"
            ],
            [
             0.6666666666666666,
             "#ed7953"
            ],
            [
             0.7777777777777778,
             "#fb9f3a"
            ],
            [
             0.8888888888888888,
             "#fdca26"
            ],
            [
             1,
             "#f0f921"
            ]
           ]
          },
          "colorway": [
           "#636efa",
           "#EF553B",
           "#00cc96",
           "#ab63fa",
           "#FFA15A",
           "#19d3f3",
           "#FF6692",
           "#B6E880",
           "#FF97FF",
           "#FECB52"
          ],
          "font": {
           "color": "#2a3f5f"
          },
          "geo": {
           "bgcolor": "white",
           "lakecolor": "white",
           "landcolor": "#E5ECF6",
           "showlakes": true,
           "showland": true,
           "subunitcolor": "white"
          },
          "hoverlabel": {
           "align": "left"
          },
          "hovermode": "closest",
          "mapbox": {
           "style": "light"
          },
          "paper_bgcolor": "white",
          "plot_bgcolor": "#E5ECF6",
          "polar": {
           "angularaxis": {
            "gridcolor": "white",
            "linecolor": "white",
            "ticks": ""
           },
           "bgcolor": "#E5ECF6",
           "radialaxis": {
            "gridcolor": "white",
            "linecolor": "white",
            "ticks": ""
           }
          },
          "scene": {
           "xaxis": {
            "backgroundcolor": "#E5ECF6",
            "gridcolor": "white",
            "gridwidth": 2,
            "linecolor": "white",
            "showbackground": true,
            "ticks": "",
            "zerolinecolor": "white"
           },
           "yaxis": {
            "backgroundcolor": "#E5ECF6",
            "gridcolor": "white",
            "gridwidth": 2,
            "linecolor": "white",
            "showbackground": true,
            "ticks": "",
            "zerolinecolor": "white"
           },
           "zaxis": {
            "backgroundcolor": "#E5ECF6",
            "gridcolor": "white",
            "gridwidth": 2,
            "linecolor": "white",
            "showbackground": true,
            "ticks": "",
            "zerolinecolor": "white"
           }
          },
          "shapedefaults": {
           "line": {
            "color": "#2a3f5f"
           }
          },
          "ternary": {
           "aaxis": {
            "gridcolor": "white",
            "linecolor": "white",
            "ticks": ""
           },
           "baxis": {
            "gridcolor": "white",
            "linecolor": "white",
            "ticks": ""
           },
           "bgcolor": "#E5ECF6",
           "caxis": {
            "gridcolor": "white",
            "linecolor": "white",
            "ticks": ""
           }
          },
          "title": {
           "x": 0.05
          },
          "xaxis": {
           "automargin": true,
           "gridcolor": "white",
           "linecolor": "white",
           "ticks": "",
           "title": {
            "standoff": 15
           },
           "zerolinecolor": "white",
           "zerolinewidth": 2
          },
          "yaxis": {
           "automargin": true,
           "gridcolor": "white",
           "linecolor": "white",
           "ticks": "",
           "title": {
            "standoff": 15
           },
           "zerolinecolor": "white",
           "zerolinewidth": 2
          }
         }
        },
        "title": {
         "text": "MQLs por día"
        },
        "xaxis": {
         "anchor": "y",
         "domain": [
          0,
          1
         ],
         "title": {
          "text": "contact_period"
         }
        },
        "yaxis": {
         "anchor": "x",
         "domain": [
          0,
          1
         ],
         "title": {
          "text": "mql_count"
         }
        }
       }
      }
     },
     "metadata": {},
     "output_type": "display_data"
    }
   ],
   "source": [
    "px.line(mql_period_series, x='contact_period', y='mql_count', title='MQLs por día')"
   ]
  },
  {
   "cell_type": "code",
   "execution_count": 57,
   "metadata": {},
   "outputs": [],
   "source": [
    "mql_series = df_processed.groupby(['first_contact_date', 'contact_period'], as_index=False).agg(mql_count=('mql_id', 'count'))"
   ]
  },
  {
   "cell_type": "code",
   "execution_count": 58,
   "metadata": {},
   "outputs": [
    {
     "data": {
      "application/vnd.plotly.v1+json": {
       "config": {
        "plotlyServerURL": "https://plot.ly"
       },
       "data": [
        {
         "alignmentgroup": "True",
         "hovertemplate": "contact_period=%{x}<br>mql_count=%{y}<extra></extra>",
         "legendgroup": "",
         "marker": {
          "color": "#636efa"
         },
         "name": "",
         "notched": false,
         "offsetgroup": "",
         "orientation": "v",
         "showlegend": false,
         "type": "box",
         "x": [
          "2017-06",
          "2017-06",
          "2017-06",
          "2017-07",
          "2017-07",
          "2017-07",
          "2017-07",
          "2017-07",
          "2017-07",
          "2017-07",
          "2017-07",
          "2017-07",
          "2017-07",
          "2017-07",
          "2017-07",
          "2017-07",
          "2017-07",
          "2017-07",
          "2017-07",
          "2017-07",
          "2017-07",
          "2017-07",
          "2017-07",
          "2017-07",
          "2017-07",
          "2017-07",
          "2017-07",
          "2017-07",
          "2017-07",
          "2017-07",
          "2017-07",
          "2017-07",
          "2017-07",
          "2017-08",
          "2017-08",
          "2017-08",
          "2017-08",
          "2017-08",
          "2017-08",
          "2017-08",
          "2017-08",
          "2017-08",
          "2017-08",
          "2017-08",
          "2017-08",
          "2017-08",
          "2017-08",
          "2017-08",
          "2017-08",
          "2017-08",
          "2017-08",
          "2017-08",
          "2017-08",
          "2017-08",
          "2017-08",
          "2017-08",
          "2017-08",
          "2017-08",
          "2017-08",
          "2017-08",
          "2017-08",
          "2017-08",
          "2017-08",
          "2017-08",
          "2017-09",
          "2017-09",
          "2017-09",
          "2017-09",
          "2017-09",
          "2017-09",
          "2017-09",
          "2017-09",
          "2017-09",
          "2017-09",
          "2017-09",
          "2017-09",
          "2017-09",
          "2017-09",
          "2017-09",
          "2017-09",
          "2017-09",
          "2017-09",
          "2017-09",
          "2017-09",
          "2017-09",
          "2017-09",
          "2017-09",
          "2017-09",
          "2017-09",
          "2017-09",
          "2017-09",
          "2017-09",
          "2017-09",
          "2017-09",
          "2017-10",
          "2017-10",
          "2017-10",
          "2017-10",
          "2017-10",
          "2017-10",
          "2017-10",
          "2017-10",
          "2017-10",
          "2017-10",
          "2017-10",
          "2017-10",
          "2017-10",
          "2017-10",
          "2017-10",
          "2017-10",
          "2017-10",
          "2017-10",
          "2017-10",
          "2017-10",
          "2017-10",
          "2017-10",
          "2017-10",
          "2017-10",
          "2017-10",
          "2017-10",
          "2017-10",
          "2017-10",
          "2017-10",
          "2017-10",
          "2017-10",
          "2017-11",
          "2017-11",
          "2017-11",
          "2017-11",
          "2017-11",
          "2017-11",
          "2017-11",
          "2017-11",
          "2017-11",
          "2017-11",
          "2017-11",
          "2017-11",
          "2017-11",
          "2017-11",
          "2017-11",
          "2017-11",
          "2017-11",
          "2017-11",
          "2017-11",
          "2017-11",
          "2017-11",
          "2017-11",
          "2017-11",
          "2017-11",
          "2017-11",
          "2017-11",
          "2017-11",
          "2017-11",
          "2017-11",
          "2017-11",
          "2017-12",
          "2017-12",
          "2017-12",
          "2017-12",
          "2017-12",
          "2017-12",
          "2017-12",
          "2017-12",
          "2017-12",
          "2017-12",
          "2017-12",
          "2017-12",
          "2017-12",
          "2017-12",
          "2017-12",
          "2017-12",
          "2017-12",
          "2017-12",
          "2017-12",
          "2017-12",
          "2017-12",
          "2017-12",
          "2017-12",
          "2017-12",
          "2017-12",
          "2017-12",
          "2017-12",
          "2017-12",
          "2017-12",
          "2017-12",
          "2018-01",
          "2018-01",
          "2018-01",
          "2018-01",
          "2018-01",
          "2018-01",
          "2018-01",
          "2018-01",
          "2018-01",
          "2018-01",
          "2018-01",
          "2018-01",
          "2018-01",
          "2018-01",
          "2018-01",
          "2018-01",
          "2018-01",
          "2018-01",
          "2018-01",
          "2018-01",
          "2018-01",
          "2018-01",
          "2018-01",
          "2018-01",
          "2018-01",
          "2018-01",
          "2018-01",
          "2018-01",
          "2018-01",
          "2018-01",
          "2018-01",
          "2018-02",
          "2018-02",
          "2018-02",
          "2018-02",
          "2018-02",
          "2018-02",
          "2018-02",
          "2018-02",
          "2018-02",
          "2018-02",
          "2018-02",
          "2018-02",
          "2018-02",
          "2018-02",
          "2018-02",
          "2018-02",
          "2018-02",
          "2018-02",
          "2018-02",
          "2018-02",
          "2018-02",
          "2018-02",
          "2018-02",
          "2018-02",
          "2018-02",
          "2018-02",
          "2018-02",
          "2018-02",
          "2018-03",
          "2018-03",
          "2018-03",
          "2018-03",
          "2018-03",
          "2018-03",
          "2018-03",
          "2018-03",
          "2018-03",
          "2018-03",
          "2018-03",
          "2018-03",
          "2018-03",
          "2018-03",
          "2018-03",
          "2018-03",
          "2018-03",
          "2018-03",
          "2018-03",
          "2018-03",
          "2018-03",
          "2018-03",
          "2018-03",
          "2018-03",
          "2018-03",
          "2018-03",
          "2018-03",
          "2018-03",
          "2018-03",
          "2018-03",
          "2018-03",
          "2018-04",
          "2018-04",
          "2018-04",
          "2018-04",
          "2018-04",
          "2018-04",
          "2018-04",
          "2018-04",
          "2018-04",
          "2018-04",
          "2018-04",
          "2018-04",
          "2018-04",
          "2018-04",
          "2018-04",
          "2018-04",
          "2018-04",
          "2018-04",
          "2018-04",
          "2018-04",
          "2018-04",
          "2018-04",
          "2018-04",
          "2018-04",
          "2018-04",
          "2018-04",
          "2018-04",
          "2018-04",
          "2018-04",
          "2018-04",
          "2018-05",
          "2018-05",
          "2018-05",
          "2018-05",
          "2018-05",
          "2018-05",
          "2018-05",
          "2018-05",
          "2018-05",
          "2018-05",
          "2018-05",
          "2018-05",
          "2018-05",
          "2018-05",
          "2018-05",
          "2018-05",
          "2018-05",
          "2018-05",
          "2018-05",
          "2018-05",
          "2018-05",
          "2018-05",
          "2018-05",
          "2018-05",
          "2018-05",
          "2018-05",
          "2018-05",
          "2018-05",
          "2018-05",
          "2018-05",
          "2018-05"
         ],
         "x0": " ",
         "xaxis": "x",
         "y": {
          "bdata": "AgEBAQEGBwsLBAIKCg8GCAEBCQoNEAoFBA4MCAsHBgETGQgQCgQFEwsOFgoDBA4REw8MCgQOFBEOBwMKEA8PDQsBBhURCQUHBgQKDxMSEAMJCw4PDQYEBgoSCgcSAwgRBwwMHAkFDRIKBAUEBxMXEw8MCgcVDxUZEwkHERITCRAEBxESCw0ZCAQVFwgTDgYIDRoXGBgGCg8SExENAwMGBQYEBAEDBAMFCwQDBgcGCQgFAgsQDgoMCgYJIhssKxckNx4sLSkZES0oPSEfExJLKicpIhMSLjoxLx0XEy1HNyQZEBAlEyw0Kw8KKyY2Li4PHDoyMCciDhItLzUrKg8QOEU6LCoLEi4xNzIvEw1GJDArGAoTRUFBPiUSFjk7MjQnFhM+LEM/ORIRJjFCPzUcEzUZXTMqFRI8QjM0GhcKPUwvIygSGz07LTYyFxM5JR4a",
          "dtype": "i1"
         },
         "y0": " ",
         "yaxis": "y"
        }
       ],
       "layout": {
        "boxmode": "group",
        "legend": {
         "tracegroupgap": 0
        },
        "margin": {
         "t": 60
        },
        "template": {
         "data": {
          "bar": [
           {
            "error_x": {
             "color": "#2a3f5f"
            },
            "error_y": {
             "color": "#2a3f5f"
            },
            "marker": {
             "line": {
              "color": "#E5ECF6",
              "width": 0.5
             },
             "pattern": {
              "fillmode": "overlay",
              "size": 10,
              "solidity": 0.2
             }
            },
            "type": "bar"
           }
          ],
          "barpolar": [
           {
            "marker": {
             "line": {
              "color": "#E5ECF6",
              "width": 0.5
             },
             "pattern": {
              "fillmode": "overlay",
              "size": 10,
              "solidity": 0.2
             }
            },
            "type": "barpolar"
           }
          ],
          "carpet": [
           {
            "aaxis": {
             "endlinecolor": "#2a3f5f",
             "gridcolor": "white",
             "linecolor": "white",
             "minorgridcolor": "white",
             "startlinecolor": "#2a3f5f"
            },
            "baxis": {
             "endlinecolor": "#2a3f5f",
             "gridcolor": "white",
             "linecolor": "white",
             "minorgridcolor": "white",
             "startlinecolor": "#2a3f5f"
            },
            "type": "carpet"
           }
          ],
          "choropleth": [
           {
            "colorbar": {
             "outlinewidth": 0,
             "ticks": ""
            },
            "type": "choropleth"
           }
          ],
          "contour": [
           {
            "colorbar": {
             "outlinewidth": 0,
             "ticks": ""
            },
            "colorscale": [
             [
              0,
              "#0d0887"
             ],
             [
              0.1111111111111111,
              "#46039f"
             ],
             [
              0.2222222222222222,
              "#7201a8"
             ],
             [
              0.3333333333333333,
              "#9c179e"
             ],
             [
              0.4444444444444444,
              "#bd3786"
             ],
             [
              0.5555555555555556,
              "#d8576b"
             ],
             [
              0.6666666666666666,
              "#ed7953"
             ],
             [
              0.7777777777777778,
              "#fb9f3a"
             ],
             [
              0.8888888888888888,
              "#fdca26"
             ],
             [
              1,
              "#f0f921"
             ]
            ],
            "type": "contour"
           }
          ],
          "contourcarpet": [
           {
            "colorbar": {
             "outlinewidth": 0,
             "ticks": ""
            },
            "type": "contourcarpet"
           }
          ],
          "heatmap": [
           {
            "colorbar": {
             "outlinewidth": 0,
             "ticks": ""
            },
            "colorscale": [
             [
              0,
              "#0d0887"
             ],
             [
              0.1111111111111111,
              "#46039f"
             ],
             [
              0.2222222222222222,
              "#7201a8"
             ],
             [
              0.3333333333333333,
              "#9c179e"
             ],
             [
              0.4444444444444444,
              "#bd3786"
             ],
             [
              0.5555555555555556,
              "#d8576b"
             ],
             [
              0.6666666666666666,
              "#ed7953"
             ],
             [
              0.7777777777777778,
              "#fb9f3a"
             ],
             [
              0.8888888888888888,
              "#fdca26"
             ],
             [
              1,
              "#f0f921"
             ]
            ],
            "type": "heatmap"
           }
          ],
          "histogram": [
           {
            "marker": {
             "pattern": {
              "fillmode": "overlay",
              "size": 10,
              "solidity": 0.2
             }
            },
            "type": "histogram"
           }
          ],
          "histogram2d": [
           {
            "colorbar": {
             "outlinewidth": 0,
             "ticks": ""
            },
            "colorscale": [
             [
              0,
              "#0d0887"
             ],
             [
              0.1111111111111111,
              "#46039f"
             ],
             [
              0.2222222222222222,
              "#7201a8"
             ],
             [
              0.3333333333333333,
              "#9c179e"
             ],
             [
              0.4444444444444444,
              "#bd3786"
             ],
             [
              0.5555555555555556,
              "#d8576b"
             ],
             [
              0.6666666666666666,
              "#ed7953"
             ],
             [
              0.7777777777777778,
              "#fb9f3a"
             ],
             [
              0.8888888888888888,
              "#fdca26"
             ],
             [
              1,
              "#f0f921"
             ]
            ],
            "type": "histogram2d"
           }
          ],
          "histogram2dcontour": [
           {
            "colorbar": {
             "outlinewidth": 0,
             "ticks": ""
            },
            "colorscale": [
             [
              0,
              "#0d0887"
             ],
             [
              0.1111111111111111,
              "#46039f"
             ],
             [
              0.2222222222222222,
              "#7201a8"
             ],
             [
              0.3333333333333333,
              "#9c179e"
             ],
             [
              0.4444444444444444,
              "#bd3786"
             ],
             [
              0.5555555555555556,
              "#d8576b"
             ],
             [
              0.6666666666666666,
              "#ed7953"
             ],
             [
              0.7777777777777778,
              "#fb9f3a"
             ],
             [
              0.8888888888888888,
              "#fdca26"
             ],
             [
              1,
              "#f0f921"
             ]
            ],
            "type": "histogram2dcontour"
           }
          ],
          "mesh3d": [
           {
            "colorbar": {
             "outlinewidth": 0,
             "ticks": ""
            },
            "type": "mesh3d"
           }
          ],
          "parcoords": [
           {
            "line": {
             "colorbar": {
              "outlinewidth": 0,
              "ticks": ""
             }
            },
            "type": "parcoords"
           }
          ],
          "pie": [
           {
            "automargin": true,
            "type": "pie"
           }
          ],
          "scatter": [
           {
            "fillpattern": {
             "fillmode": "overlay",
             "size": 10,
             "solidity": 0.2
            },
            "type": "scatter"
           }
          ],
          "scatter3d": [
           {
            "line": {
             "colorbar": {
              "outlinewidth": 0,
              "ticks": ""
             }
            },
            "marker": {
             "colorbar": {
              "outlinewidth": 0,
              "ticks": ""
             }
            },
            "type": "scatter3d"
           }
          ],
          "scattercarpet": [
           {
            "marker": {
             "colorbar": {
              "outlinewidth": 0,
              "ticks": ""
             }
            },
            "type": "scattercarpet"
           }
          ],
          "scattergeo": [
           {
            "marker": {
             "colorbar": {
              "outlinewidth": 0,
              "ticks": ""
             }
            },
            "type": "scattergeo"
           }
          ],
          "scattergl": [
           {
            "marker": {
             "colorbar": {
              "outlinewidth": 0,
              "ticks": ""
             }
            },
            "type": "scattergl"
           }
          ],
          "scattermap": [
           {
            "marker": {
             "colorbar": {
              "outlinewidth": 0,
              "ticks": ""
             }
            },
            "type": "scattermap"
           }
          ],
          "scattermapbox": [
           {
            "marker": {
             "colorbar": {
              "outlinewidth": 0,
              "ticks": ""
             }
            },
            "type": "scattermapbox"
           }
          ],
          "scatterpolar": [
           {
            "marker": {
             "colorbar": {
              "outlinewidth": 0,
              "ticks": ""
             }
            },
            "type": "scatterpolar"
           }
          ],
          "scatterpolargl": [
           {
            "marker": {
             "colorbar": {
              "outlinewidth": 0,
              "ticks": ""
             }
            },
            "type": "scatterpolargl"
           }
          ],
          "scatterternary": [
           {
            "marker": {
             "colorbar": {
              "outlinewidth": 0,
              "ticks": ""
             }
            },
            "type": "scatterternary"
           }
          ],
          "surface": [
           {
            "colorbar": {
             "outlinewidth": 0,
             "ticks": ""
            },
            "colorscale": [
             [
              0,
              "#0d0887"
             ],
             [
              0.1111111111111111,
              "#46039f"
             ],
             [
              0.2222222222222222,
              "#7201a8"
             ],
             [
              0.3333333333333333,
              "#9c179e"
             ],
             [
              0.4444444444444444,
              "#bd3786"
             ],
             [
              0.5555555555555556,
              "#d8576b"
             ],
             [
              0.6666666666666666,
              "#ed7953"
             ],
             [
              0.7777777777777778,
              "#fb9f3a"
             ],
             [
              0.8888888888888888,
              "#fdca26"
             ],
             [
              1,
              "#f0f921"
             ]
            ],
            "type": "surface"
           }
          ],
          "table": [
           {
            "cells": {
             "fill": {
              "color": "#EBF0F8"
             },
             "line": {
              "color": "white"
             }
            },
            "header": {
             "fill": {
              "color": "#C8D4E3"
             },
             "line": {
              "color": "white"
             }
            },
            "type": "table"
           }
          ]
         },
         "layout": {
          "annotationdefaults": {
           "arrowcolor": "#2a3f5f",
           "arrowhead": 0,
           "arrowwidth": 1
          },
          "autotypenumbers": "strict",
          "coloraxis": {
           "colorbar": {
            "outlinewidth": 0,
            "ticks": ""
           }
          },
          "colorscale": {
           "diverging": [
            [
             0,
             "#8e0152"
            ],
            [
             0.1,
             "#c51b7d"
            ],
            [
             0.2,
             "#de77ae"
            ],
            [
             0.3,
             "#f1b6da"
            ],
            [
             0.4,
             "#fde0ef"
            ],
            [
             0.5,
             "#f7f7f7"
            ],
            [
             0.6,
             "#e6f5d0"
            ],
            [
             0.7,
             "#b8e186"
            ],
            [
             0.8,
             "#7fbc41"
            ],
            [
             0.9,
             "#4d9221"
            ],
            [
             1,
             "#276419"
            ]
           ],
           "sequential": [
            [
             0,
             "#0d0887"
            ],
            [
             0.1111111111111111,
             "#46039f"
            ],
            [
             0.2222222222222222,
             "#7201a8"
            ],
            [
             0.3333333333333333,
             "#9c179e"
            ],
            [
             0.4444444444444444,
             "#bd3786"
            ],
            [
             0.5555555555555556,
             "#d8576b"
            ],
            [
             0.6666666666666666,
             "#ed7953"
            ],
            [
             0.7777777777777778,
             "#fb9f3a"
            ],
            [
             0.8888888888888888,
             "#fdca26"
            ],
            [
             1,
             "#f0f921"
            ]
           ],
           "sequentialminus": [
            [
             0,
             "#0d0887"
            ],
            [
             0.1111111111111111,
             "#46039f"
            ],
            [
             0.2222222222222222,
             "#7201a8"
            ],
            [
             0.3333333333333333,
             "#9c179e"
            ],
            [
             0.4444444444444444,
             "#bd3786"
            ],
            [
             0.5555555555555556,
             "#d8576b"
            ],
            [
             0.6666666666666666,
             "#ed7953"
            ],
            [
             0.7777777777777778,
             "#fb9f3a"
            ],
            [
             0.8888888888888888,
             "#fdca26"
            ],
            [
             1,
             "#f0f921"
            ]
           ]
          },
          "colorway": [
           "#636efa",
           "#EF553B",
           "#00cc96",
           "#ab63fa",
           "#FFA15A",
           "#19d3f3",
           "#FF6692",
           "#B6E880",
           "#FF97FF",
           "#FECB52"
          ],
          "font": {
           "color": "#2a3f5f"
          },
          "geo": {
           "bgcolor": "white",
           "lakecolor": "white",
           "landcolor": "#E5ECF6",
           "showlakes": true,
           "showland": true,
           "subunitcolor": "white"
          },
          "hoverlabel": {
           "align": "left"
          },
          "hovermode": "closest",
          "mapbox": {
           "style": "light"
          },
          "paper_bgcolor": "white",
          "plot_bgcolor": "#E5ECF6",
          "polar": {
           "angularaxis": {
            "gridcolor": "white",
            "linecolor": "white",
            "ticks": ""
           },
           "bgcolor": "#E5ECF6",
           "radialaxis": {
            "gridcolor": "white",
            "linecolor": "white",
            "ticks": ""
           }
          },
          "scene": {
           "xaxis": {
            "backgroundcolor": "#E5ECF6",
            "gridcolor": "white",
            "gridwidth": 2,
            "linecolor": "white",
            "showbackground": true,
            "ticks": "",
            "zerolinecolor": "white"
           },
           "yaxis": {
            "backgroundcolor": "#E5ECF6",
            "gridcolor": "white",
            "gridwidth": 2,
            "linecolor": "white",
            "showbackground": true,
            "ticks": "",
            "zerolinecolor": "white"
           },
           "zaxis": {
            "backgroundcolor": "#E5ECF6",
            "gridcolor": "white",
            "gridwidth": 2,
            "linecolor": "white",
            "showbackground": true,
            "ticks": "",
            "zerolinecolor": "white"
           }
          },
          "shapedefaults": {
           "line": {
            "color": "#2a3f5f"
           }
          },
          "ternary": {
           "aaxis": {
            "gridcolor": "white",
            "linecolor": "white",
            "ticks": ""
           },
           "baxis": {
            "gridcolor": "white",
            "linecolor": "white",
            "ticks": ""
           },
           "bgcolor": "#E5ECF6",
           "caxis": {
            "gridcolor": "white",
            "linecolor": "white",
            "ticks": ""
           }
          },
          "title": {
           "x": 0.05
          },
          "xaxis": {
           "automargin": true,
           "gridcolor": "white",
           "linecolor": "white",
           "ticks": "",
           "title": {
            "standoff": 15
           },
           "zerolinecolor": "white",
           "zerolinewidth": 2
          },
          "yaxis": {
           "automargin": true,
           "gridcolor": "white",
           "linecolor": "white",
           "ticks": "",
           "title": {
            "standoff": 15
           },
           "zerolinecolor": "white",
           "zerolinewidth": 2
          }
         }
        },
        "xaxis": {
         "anchor": "y",
         "domain": [
          0,
          1
         ],
         "title": {
          "text": "contact_period"
         }
        },
        "yaxis": {
         "anchor": "x",
         "domain": [
          0,
          1
         ],
         "title": {
          "text": "mql_count"
         }
        }
       }
      }
     },
     "metadata": {},
     "output_type": "display_data"
    }
   ],
   "source": [
    "px.box(mql_series, x='contact_period', y='mql_count')"
   ]
  },
  {
   "cell_type": "code",
   "execution_count": 45,
   "metadata": {},
   "outputs": [
    {
     "data": {
      "text/html": [
       "<div>\n",
       "<style scoped>\n",
       "    .dataframe tbody tr th:only-of-type {\n",
       "        vertical-align: middle;\n",
       "    }\n",
       "\n",
       "    .dataframe tbody tr th {\n",
       "        vertical-align: top;\n",
       "    }\n",
       "\n",
       "    .dataframe thead th {\n",
       "        text-align: right;\n",
       "    }\n",
       "</style>\n",
       "<table border=\"1\" class=\"dataframe\">\n",
       "  <thead>\n",
       "    <tr style=\"text-align: right;\">\n",
       "      <th></th>\n",
       "      <th>first_contact_date</th>\n",
       "      <th>mql_count</th>\n",
       "    </tr>\n",
       "  </thead>\n",
       "  <tbody>\n",
       "    <tr>\n",
       "      <th>0</th>\n",
       "      <td>2017-06-14</td>\n",
       "      <td>2</td>\n",
       "    </tr>\n",
       "    <tr>\n",
       "      <th>1</th>\n",
       "      <td>2017-06-16</td>\n",
       "      <td>1</td>\n",
       "    </tr>\n",
       "    <tr>\n",
       "      <th>2</th>\n",
       "      <td>2017-06-20</td>\n",
       "      <td>1</td>\n",
       "    </tr>\n",
       "    <tr>\n",
       "      <th>3</th>\n",
       "      <td>2017-07-02</td>\n",
       "      <td>1</td>\n",
       "    </tr>\n",
       "    <tr>\n",
       "      <th>4</th>\n",
       "      <td>2017-07-03</td>\n",
       "      <td>1</td>\n",
       "    </tr>\n",
       "    <tr>\n",
       "      <th>...</th>\n",
       "      <td>...</td>\n",
       "      <td>...</td>\n",
       "    </tr>\n",
       "    <tr>\n",
       "      <th>331</th>\n",
       "      <td>2018-05-27</td>\n",
       "      <td>19</td>\n",
       "    </tr>\n",
       "    <tr>\n",
       "      <th>332</th>\n",
       "      <td>2018-05-28</td>\n",
       "      <td>57</td>\n",
       "    </tr>\n",
       "    <tr>\n",
       "      <th>333</th>\n",
       "      <td>2018-05-29</td>\n",
       "      <td>37</td>\n",
       "    </tr>\n",
       "    <tr>\n",
       "      <th>334</th>\n",
       "      <td>2018-05-30</td>\n",
       "      <td>30</td>\n",
       "    </tr>\n",
       "    <tr>\n",
       "      <th>335</th>\n",
       "      <td>2018-05-31</td>\n",
       "      <td>26</td>\n",
       "    </tr>\n",
       "  </tbody>\n",
       "</table>\n",
       "<p>336 rows × 2 columns</p>\n",
       "</div>"
      ],
      "text/plain": [
       "    first_contact_date  mql_count\n",
       "0           2017-06-14          2\n",
       "1           2017-06-16          1\n",
       "2           2017-06-20          1\n",
       "3           2017-07-02          1\n",
       "4           2017-07-03          1\n",
       "..                 ...        ...\n",
       "331         2018-05-27         19\n",
       "332         2018-05-28         57\n",
       "333         2018-05-29         37\n",
       "334         2018-05-30         30\n",
       "335         2018-05-31         26\n",
       "\n",
       "[336 rows x 2 columns]"
      ]
     },
     "execution_count": 45,
     "metadata": {},
     "output_type": "execute_result"
    }
   ],
   "source": [
    "mql_daily_series"
   ]
  },
  {
   "cell_type": "code",
   "execution_count": 39,
   "metadata": {},
   "outputs": [
    {
     "name": "stderr",
     "output_type": "stream",
     "text": [
      "C:\\Users\\Acer\\AppData\\Local\\Temp\\ipykernel_7964\\1708530532.py:2: FutureWarning:\n",
      "\n",
      "A grouping was used that is not in the columns of the DataFrame and so was excluded from the result. This grouping will be included in a future version of pandas. Add the grouping as a column of the DataFrame to silence this warning.\n",
      "\n"
     ]
    },
    {
     "ename": "TypeError",
     "evalue": "Index(...) must be called with a collection of some kind, 'mql_count' was passed",
     "output_type": "error",
     "traceback": [
      "\u001b[31m---------------------------------------------------------------------------\u001b[39m",
      "\u001b[31mTypeError\u001b[39m                                 Traceback (most recent call last)",
      "\u001b[36mCell\u001b[39m\u001b[36m \u001b[39m\u001b[32mIn[41]\u001b[39m\u001b[32m, line 2\u001b[39m\n\u001b[32m      1\u001b[39m \u001b[38;5;66;03m# MQLs por día\u001b[39;00m\n\u001b[32m----> \u001b[39m\u001b[32m2\u001b[39m mql_daily_series = \u001b[43mdf_processed\u001b[49m\u001b[43m.\u001b[49m\u001b[43mgroupby\u001b[49m\u001b[43m(\u001b[49m\u001b[43mdf_processed\u001b[49m\u001b[43m[\u001b[49m\u001b[33;43m'\u001b[39;49m\u001b[33;43mfirst_contact_date\u001b[39;49m\u001b[33;43m'\u001b[39;49m\u001b[43m]\u001b[49m\u001b[43m.\u001b[49m\u001b[43mdt\u001b[49m\u001b[43m.\u001b[49m\u001b[43mto_period\u001b[49m\u001b[43m(\u001b[49m\u001b[33;43m'\u001b[39;49m\u001b[33;43md\u001b[39;49m\u001b[33;43m'\u001b[39;49m\u001b[43m)\u001b[49m\u001b[43m,\u001b[49m\u001b[43m \u001b[49m\u001b[43mas_index\u001b[49m\u001b[43m=\u001b[49m\u001b[38;5;28;43;01mFalse\u001b[39;49;00m\u001b[43m)\u001b[49m\u001b[43m[\u001b[49m\u001b[33;43m'\u001b[39;49m\u001b[33;43mmql_id\u001b[39;49m\u001b[33;43m'\u001b[39;49m\u001b[43m]\u001b[49m\u001b[43m.\u001b[49m\u001b[43mcount\u001b[49m\u001b[43m(\u001b[49m\u001b[43m)\u001b[49m\u001b[43m.\u001b[49m\u001b[43mrename\u001b[49m\u001b[43m(\u001b[49m\u001b[33;43m'\u001b[39;49m\u001b[33;43mmql_count\u001b[39;49m\u001b[33;43m'\u001b[39;49m\u001b[43m)\u001b[49m.to_timestamp()\n\u001b[32m      4\u001b[39m \u001b[38;5;66;03m# Convertir a DataFrame\u001b[39;00m\n\u001b[32m      5\u001b[39m mql_daily_df_constructor = pd.DataFrame(mql_daily_series)\n",
      "\u001b[36mFile \u001b[39m\u001b[32m~\\AppData\\Local\\Packages\\PythonSoftwareFoundation.Python.3.13_qbz5n2kfra8p0\\LocalCache\\local-packages\\Python313\\site-packages\\pandas\\core\\frame.py:5767\u001b[39m, in \u001b[36mDataFrame.rename\u001b[39m\u001b[34m(self, mapper, index, columns, axis, copy, inplace, level, errors)\u001b[39m\n\u001b[32m   5636\u001b[39m \u001b[38;5;28;01mdef\u001b[39;00m\u001b[38;5;250m \u001b[39m\u001b[34mrename\u001b[39m(\n\u001b[32m   5637\u001b[39m     \u001b[38;5;28mself\u001b[39m,\n\u001b[32m   5638\u001b[39m     mapper: Renamer | \u001b[38;5;28;01mNone\u001b[39;00m = \u001b[38;5;28;01mNone\u001b[39;00m,\n\u001b[32m   (...)\u001b[39m\u001b[32m   5646\u001b[39m     errors: IgnoreRaise = \u001b[33m\"\u001b[39m\u001b[33mignore\u001b[39m\u001b[33m\"\u001b[39m,\n\u001b[32m   5647\u001b[39m ) -> DataFrame | \u001b[38;5;28;01mNone\u001b[39;00m:\n\u001b[32m   5648\u001b[39m \u001b[38;5;250m    \u001b[39m\u001b[33;03m\"\"\"\u001b[39;00m\n\u001b[32m   5649\u001b[39m \u001b[33;03m    Rename columns or index labels.\u001b[39;00m\n\u001b[32m   5650\u001b[39m \n\u001b[32m   (...)\u001b[39m\u001b[32m   5765\u001b[39m \u001b[33;03m    4  3  6\u001b[39;00m\n\u001b[32m   5766\u001b[39m \u001b[33;03m    \"\"\"\u001b[39;00m\n\u001b[32m-> \u001b[39m\u001b[32m5767\u001b[39m     \u001b[38;5;28;01mreturn\u001b[39;00m \u001b[38;5;28;43msuper\u001b[39;49m\u001b[43m(\u001b[49m\u001b[43m)\u001b[49m\u001b[43m.\u001b[49m\u001b[43m_rename\u001b[49m\u001b[43m(\u001b[49m\n\u001b[32m   5768\u001b[39m \u001b[43m        \u001b[49m\u001b[43mmapper\u001b[49m\u001b[43m=\u001b[49m\u001b[43mmapper\u001b[49m\u001b[43m,\u001b[49m\n\u001b[32m   5769\u001b[39m \u001b[43m        \u001b[49m\u001b[43mindex\u001b[49m\u001b[43m=\u001b[49m\u001b[43mindex\u001b[49m\u001b[43m,\u001b[49m\n\u001b[32m   5770\u001b[39m \u001b[43m        \u001b[49m\u001b[43mcolumns\u001b[49m\u001b[43m=\u001b[49m\u001b[43mcolumns\u001b[49m\u001b[43m,\u001b[49m\n\u001b[32m   5771\u001b[39m \u001b[43m        \u001b[49m\u001b[43maxis\u001b[49m\u001b[43m=\u001b[49m\u001b[43maxis\u001b[49m\u001b[43m,\u001b[49m\n\u001b[32m   5772\u001b[39m \u001b[43m        \u001b[49m\u001b[43mcopy\u001b[49m\u001b[43m=\u001b[49m\u001b[43mcopy\u001b[49m\u001b[43m,\u001b[49m\n\u001b[32m   5773\u001b[39m \u001b[43m        \u001b[49m\u001b[43minplace\u001b[49m\u001b[43m=\u001b[49m\u001b[43minplace\u001b[49m\u001b[43m,\u001b[49m\n\u001b[32m   5774\u001b[39m \u001b[43m        \u001b[49m\u001b[43mlevel\u001b[49m\u001b[43m=\u001b[49m\u001b[43mlevel\u001b[49m\u001b[43m,\u001b[49m\n\u001b[32m   5775\u001b[39m \u001b[43m        \u001b[49m\u001b[43merrors\u001b[49m\u001b[43m=\u001b[49m\u001b[43merrors\u001b[49m\u001b[43m,\u001b[49m\n\u001b[32m   5776\u001b[39m \u001b[43m    \u001b[49m\u001b[43m)\u001b[49m\n",
      "\u001b[36mFile \u001b[39m\u001b[32m~\\AppData\\Local\\Packages\\PythonSoftwareFoundation.Python.3.13_qbz5n2kfra8p0\\LocalCache\\local-packages\\Python313\\site-packages\\pandas\\core\\generic.py:1122\u001b[39m, in \u001b[36mNDFrame._rename\u001b[39m\u001b[34m(self, mapper, index, columns, axis, copy, inplace, level, errors)\u001b[39m\n\u001b[32m   1120\u001b[39m     indexer = ax.get_level_values(level).get_indexer_for(replacements)\n\u001b[32m   1121\u001b[39m \u001b[38;5;28;01melse\u001b[39;00m:\n\u001b[32m-> \u001b[39m\u001b[32m1122\u001b[39m     indexer = \u001b[43max\u001b[49m\u001b[43m.\u001b[49m\u001b[43mget_indexer_for\u001b[49m\u001b[43m(\u001b[49m\u001b[43mreplacements\u001b[49m\u001b[43m)\u001b[49m\n\u001b[32m   1124\u001b[39m \u001b[38;5;28;01mif\u001b[39;00m errors == \u001b[33m\"\u001b[39m\u001b[33mraise\u001b[39m\u001b[33m\"\u001b[39m \u001b[38;5;129;01mand\u001b[39;00m \u001b[38;5;28mlen\u001b[39m(indexer[indexer == -\u001b[32m1\u001b[39m]):\n\u001b[32m   1125\u001b[39m     missing_labels = [\n\u001b[32m   1126\u001b[39m         label\n\u001b[32m   1127\u001b[39m         \u001b[38;5;28;01mfor\u001b[39;00m index, label \u001b[38;5;129;01min\u001b[39;00m \u001b[38;5;28menumerate\u001b[39m(replacements)\n\u001b[32m   1128\u001b[39m         \u001b[38;5;28;01mif\u001b[39;00m indexer[index] == -\u001b[32m1\u001b[39m\n\u001b[32m   1129\u001b[39m     ]\n",
      "\u001b[36mFile \u001b[39m\u001b[32m~\\AppData\\Local\\Packages\\PythonSoftwareFoundation.Python.3.13_qbz5n2kfra8p0\\LocalCache\\local-packages\\Python313\\site-packages\\pandas\\core\\indexes\\base.py:6182\u001b[39m, in \u001b[36mIndex.get_indexer_for\u001b[39m\u001b[34m(self, target)\u001b[39m\n\u001b[32m   6164\u001b[39m \u001b[38;5;250m\u001b[39m\u001b[33;03m\"\"\"\u001b[39;00m\n\u001b[32m   6165\u001b[39m \u001b[33;03mGuaranteed return of an indexer even when non-unique.\u001b[39;00m\n\u001b[32m   6166\u001b[39m \n\u001b[32m   (...)\u001b[39m\u001b[32m   6179\u001b[39m \u001b[33;03marray([0, 2])\u001b[39;00m\n\u001b[32m   6180\u001b[39m \u001b[33;03m\"\"\"\u001b[39;00m\n\u001b[32m   6181\u001b[39m \u001b[38;5;28;01mif\u001b[39;00m \u001b[38;5;28mself\u001b[39m._index_as_unique:\n\u001b[32m-> \u001b[39m\u001b[32m6182\u001b[39m     \u001b[38;5;28;01mreturn\u001b[39;00m \u001b[38;5;28;43mself\u001b[39;49m\u001b[43m.\u001b[49m\u001b[43mget_indexer\u001b[49m\u001b[43m(\u001b[49m\u001b[43mtarget\u001b[49m\u001b[43m)\u001b[49m\n\u001b[32m   6183\u001b[39m indexer, _ = \u001b[38;5;28mself\u001b[39m.get_indexer_non_unique(target)\n\u001b[32m   6184\u001b[39m \u001b[38;5;28;01mreturn\u001b[39;00m indexer\n",
      "\u001b[36mFile \u001b[39m\u001b[32m~\\AppData\\Local\\Packages\\PythonSoftwareFoundation.Python.3.13_qbz5n2kfra8p0\\LocalCache\\local-packages\\Python313\\site-packages\\pandas\\core\\indexes\\base.py:3880\u001b[39m, in \u001b[36mIndex.get_indexer\u001b[39m\u001b[34m(self, target, method, limit, tolerance)\u001b[39m\n\u001b[32m   3878\u001b[39m method = clean_reindex_fill_method(method)\n\u001b[32m   3879\u001b[39m orig_target = target\n\u001b[32m-> \u001b[39m\u001b[32m3880\u001b[39m target = \u001b[38;5;28;43mself\u001b[39;49m\u001b[43m.\u001b[49m\u001b[43m_maybe_cast_listlike_indexer\u001b[49m\u001b[43m(\u001b[49m\u001b[43mtarget\u001b[49m\u001b[43m)\u001b[49m\n\u001b[32m   3882\u001b[39m \u001b[38;5;28mself\u001b[39m._check_indexing_method(method, limit, tolerance)\n\u001b[32m   3884\u001b[39m \u001b[38;5;28;01mif\u001b[39;00m \u001b[38;5;129;01mnot\u001b[39;00m \u001b[38;5;28mself\u001b[39m._index_as_unique:\n",
      "\u001b[36mFile \u001b[39m\u001b[32m~\\AppData\\Local\\Packages\\PythonSoftwareFoundation.Python.3.13_qbz5n2kfra8p0\\LocalCache\\local-packages\\Python313\\site-packages\\pandas\\core\\indexes\\base.py:6683\u001b[39m, in \u001b[36mIndex._maybe_cast_listlike_indexer\u001b[39m\u001b[34m(self, target)\u001b[39m\n\u001b[32m   6679\u001b[39m \u001b[38;5;28;01mdef\u001b[39;00m\u001b[38;5;250m \u001b[39m\u001b[34m_maybe_cast_listlike_indexer\u001b[39m(\u001b[38;5;28mself\u001b[39m, target) -> Index:\n\u001b[32m   6680\u001b[39m \u001b[38;5;250m    \u001b[39m\u001b[33;03m\"\"\"\u001b[39;00m\n\u001b[32m   6681\u001b[39m \u001b[33;03m    Analogue to maybe_cast_indexer for get_indexer instead of get_loc.\u001b[39;00m\n\u001b[32m   6682\u001b[39m \u001b[33;03m    \"\"\"\u001b[39;00m\n\u001b[32m-> \u001b[39m\u001b[32m6683\u001b[39m     \u001b[38;5;28;01mreturn\u001b[39;00m \u001b[43mensure_index\u001b[49m\u001b[43m(\u001b[49m\u001b[43mtarget\u001b[49m\u001b[43m)\u001b[49m\n",
      "\u001b[36mFile \u001b[39m\u001b[32m~\\AppData\\Local\\Packages\\PythonSoftwareFoundation.Python.3.13_qbz5n2kfra8p0\\LocalCache\\local-packages\\Python313\\site-packages\\pandas\\core\\indexes\\base.py:7649\u001b[39m, in \u001b[36mensure_index\u001b[39m\u001b[34m(index_like, copy)\u001b[39m\n\u001b[32m   7647\u001b[39m         \u001b[38;5;28;01mreturn\u001b[39;00m Index(index_like, copy=copy, tupleize_cols=\u001b[38;5;28;01mFalse\u001b[39;00m)\n\u001b[32m   7648\u001b[39m \u001b[38;5;28;01melse\u001b[39;00m:\n\u001b[32m-> \u001b[39m\u001b[32m7649\u001b[39m     \u001b[38;5;28;01mreturn\u001b[39;00m \u001b[43mIndex\u001b[49m\u001b[43m(\u001b[49m\u001b[43mindex_like\u001b[49m\u001b[43m,\u001b[49m\u001b[43m \u001b[49m\u001b[43mcopy\u001b[49m\u001b[43m=\u001b[49m\u001b[43mcopy\u001b[49m\u001b[43m)\u001b[49m\n",
      "\u001b[36mFile \u001b[39m\u001b[32m~\\AppData\\Local\\Packages\\PythonSoftwareFoundation.Python.3.13_qbz5n2kfra8p0\\LocalCache\\local-packages\\Python313\\site-packages\\pandas\\core\\indexes\\base.py:526\u001b[39m, in \u001b[36mIndex.__new__\u001b[39m\u001b[34m(cls, data, dtype, copy, name, tupleize_cols)\u001b[39m\n\u001b[32m    523\u001b[39m         data = com.asarray_tuplesafe(data, dtype=_dtype_obj)\n\u001b[32m    525\u001b[39m \u001b[38;5;28;01melif\u001b[39;00m is_scalar(data):\n\u001b[32m--> \u001b[39m\u001b[32m526\u001b[39m     \u001b[38;5;28;01mraise\u001b[39;00m \u001b[38;5;28;43mcls\u001b[39;49m\u001b[43m.\u001b[49m\u001b[43m_raise_scalar_data_error\u001b[49m\u001b[43m(\u001b[49m\u001b[43mdata\u001b[49m\u001b[43m)\u001b[49m\n\u001b[32m    527\u001b[39m \u001b[38;5;28;01melif\u001b[39;00m \u001b[38;5;28mhasattr\u001b[39m(data, \u001b[33m\"\u001b[39m\u001b[33m__array__\u001b[39m\u001b[33m\"\u001b[39m):\n\u001b[32m    528\u001b[39m     \u001b[38;5;28;01mreturn\u001b[39;00m \u001b[38;5;28mcls\u001b[39m(np.asarray(data), dtype=dtype, copy=copy, name=name)\n",
      "\u001b[36mFile \u001b[39m\u001b[32m~\\AppData\\Local\\Packages\\PythonSoftwareFoundation.Python.3.13_qbz5n2kfra8p0\\LocalCache\\local-packages\\Python313\\site-packages\\pandas\\core\\indexes\\base.py:5289\u001b[39m, in \u001b[36mIndex._raise_scalar_data_error\u001b[39m\u001b[34m(cls, data)\u001b[39m\n\u001b[32m   5284\u001b[39m \u001b[38;5;129m@final\u001b[39m\n\u001b[32m   5285\u001b[39m \u001b[38;5;129m@classmethod\u001b[39m\n\u001b[32m   5286\u001b[39m \u001b[38;5;28;01mdef\u001b[39;00m\u001b[38;5;250m \u001b[39m\u001b[34m_raise_scalar_data_error\u001b[39m(\u001b[38;5;28mcls\u001b[39m, data):\n\u001b[32m   5287\u001b[39m     \u001b[38;5;66;03m# We return the TypeError so that we can raise it from the constructor\u001b[39;00m\n\u001b[32m   5288\u001b[39m     \u001b[38;5;66;03m#  in order to keep mypy happy\u001b[39;00m\n\u001b[32m-> \u001b[39m\u001b[32m5289\u001b[39m     \u001b[38;5;28;01mraise\u001b[39;00m \u001b[38;5;167;01mTypeError\u001b[39;00m(\n\u001b[32m   5290\u001b[39m         \u001b[33mf\u001b[39m\u001b[33m\"\u001b[39m\u001b[38;5;132;01m{\u001b[39;00m\u001b[38;5;28mcls\u001b[39m.\u001b[34m__name__\u001b[39m\u001b[38;5;132;01m}\u001b[39;00m\u001b[33m(...) must be called with a collection of some \u001b[39m\u001b[33m\"\u001b[39m\n\u001b[32m   5291\u001b[39m         \u001b[33mf\u001b[39m\u001b[33m\"\u001b[39m\u001b[33mkind, \u001b[39m\u001b[38;5;132;01m{\u001b[39;00m\u001b[38;5;28mrepr\u001b[39m(data)\u001b[38;5;250m \u001b[39m\u001b[38;5;28;01mif\u001b[39;00m\u001b[38;5;250m \u001b[39m\u001b[38;5;129;01mnot\u001b[39;00m\u001b[38;5;250m \u001b[39m\u001b[38;5;28misinstance\u001b[39m(data,\u001b[38;5;250m \u001b[39mnp.generic)\u001b[38;5;250m \u001b[39m\u001b[38;5;28;01melse\u001b[39;00m\u001b[38;5;250m \u001b[39m\u001b[38;5;28mstr\u001b[39m(data)\u001b[38;5;132;01m}\u001b[39;00m\u001b[33m \u001b[39m\u001b[33m\"\u001b[39m\n\u001b[32m   5292\u001b[39m         \u001b[33m\"\u001b[39m\u001b[33mwas passed\u001b[39m\u001b[33m\"\u001b[39m\n\u001b[32m   5293\u001b[39m     )\n",
      "\u001b[31mTypeError\u001b[39m: Index(...) must be called with a collection of some kind, 'mql_count' was passed"
     ]
    }
   ],
   "source": [
    "# MQLs por día\n",
    "mql_daily_series = df_processed.groupby(df_processed['first_contact_date'].dt.to_period('d'))['mql_id'].count().rename('mql_count').to_timestamp()\n",
    "\n",
    "# Convertir a DataFrame\n",
    "mql_daily_df_constructor = pd.DataFrame(mql_daily_series)"
   ]
  },
  {
   "cell_type": "code",
   "execution_count": 40,
   "metadata": {},
   "outputs": [
    {
     "data": {
      "text/html": [
       "<div>\n",
       "<style scoped>\n",
       "    .dataframe tbody tr th:only-of-type {\n",
       "        vertical-align: middle;\n",
       "    }\n",
       "\n",
       "    .dataframe tbody tr th {\n",
       "        vertical-align: top;\n",
       "    }\n",
       "\n",
       "    .dataframe thead th {\n",
       "        text-align: right;\n",
       "    }\n",
       "</style>\n",
       "<table border=\"1\" class=\"dataframe\">\n",
       "  <thead>\n",
       "    <tr style=\"text-align: right;\">\n",
       "      <th></th>\n",
       "      <th>mql_count</th>\n",
       "    </tr>\n",
       "    <tr>\n",
       "      <th>first_contact_date</th>\n",
       "      <th></th>\n",
       "    </tr>\n",
       "  </thead>\n",
       "  <tbody>\n",
       "    <tr>\n",
       "      <th>2017-06-14</th>\n",
       "      <td>2</td>\n",
       "    </tr>\n",
       "    <tr>\n",
       "      <th>2017-06-16</th>\n",
       "      <td>1</td>\n",
       "    </tr>\n",
       "    <tr>\n",
       "      <th>2017-06-20</th>\n",
       "      <td>1</td>\n",
       "    </tr>\n",
       "    <tr>\n",
       "      <th>2017-07-02</th>\n",
       "      <td>1</td>\n",
       "    </tr>\n",
       "    <tr>\n",
       "      <th>2017-07-03</th>\n",
       "      <td>1</td>\n",
       "    </tr>\n",
       "    <tr>\n",
       "      <th>...</th>\n",
       "      <td>...</td>\n",
       "    </tr>\n",
       "    <tr>\n",
       "      <th>2018-05-27</th>\n",
       "      <td>19</td>\n",
       "    </tr>\n",
       "    <tr>\n",
       "      <th>2018-05-28</th>\n",
       "      <td>57</td>\n",
       "    </tr>\n",
       "    <tr>\n",
       "      <th>2018-05-29</th>\n",
       "      <td>37</td>\n",
       "    </tr>\n",
       "    <tr>\n",
       "      <th>2018-05-30</th>\n",
       "      <td>30</td>\n",
       "    </tr>\n",
       "    <tr>\n",
       "      <th>2018-05-31</th>\n",
       "      <td>26</td>\n",
       "    </tr>\n",
       "  </tbody>\n",
       "</table>\n",
       "<p>336 rows × 1 columns</p>\n",
       "</div>"
      ],
      "text/plain": [
       "                    mql_count\n",
       "first_contact_date           \n",
       "2017-06-14                  2\n",
       "2017-06-16                  1\n",
       "2017-06-20                  1\n",
       "2017-07-02                  1\n",
       "2017-07-03                  1\n",
       "...                       ...\n",
       "2018-05-27                 19\n",
       "2018-05-28                 57\n",
       "2018-05-29                 37\n",
       "2018-05-30                 30\n",
       "2018-05-31                 26\n",
       "\n",
       "[336 rows x 1 columns]"
      ]
     },
     "execution_count": 40,
     "metadata": {},
     "output_type": "execute_result"
    }
   ],
   "source": [
    "mql_daily_df_constructor"
   ]
  },
  {
   "cell_type": "code",
   "execution_count": 35,
   "metadata": {},
   "outputs": [],
   "source": [
    "# MQLs por mes\n",
    "mql_monthly = df_processed.groupby(df_processed['first_contact_date'].dt.to_period('d'))['mql_id'].count().rename('mql_count').to_timestamp()"
   ]
  },
  {
   "cell_type": "code",
   "execution_count": null,
   "metadata": {},
   "outputs": [],
   "source": [
    "\n",
    "\n",
    "# Wons por mes\n",
    "won_monthly = df[df['won_date'].notna()].groupby(df['won_date'].dt.to_period('M'))['mql_id'].count().rename('won_count').to_timestamp()"
   ]
  },
  {
   "cell_type": "code",
   "execution_count": 33,
   "metadata": {},
   "outputs": [
    {
     "data": {
      "text/html": [
       "<div>\n",
       "<style scoped>\n",
       "    .dataframe tbody tr th:only-of-type {\n",
       "        vertical-align: middle;\n",
       "    }\n",
       "\n",
       "    .dataframe tbody tr th {\n",
       "        vertical-align: top;\n",
       "    }\n",
       "\n",
       "    .dataframe thead th {\n",
       "        text-align: right;\n",
       "    }\n",
       "</style>\n",
       "<table border=\"1\" class=\"dataframe\">\n",
       "  <thead>\n",
       "    <tr style=\"text-align: right;\">\n",
       "      <th></th>\n",
       "      <th>declared_monthly_revenue</th>\n",
       "    </tr>\n",
       "  </thead>\n",
       "  <tbody>\n",
       "    <tr>\n",
       "      <th>4</th>\n",
       "      <td>0.0</td>\n",
       "    </tr>\n",
       "    <tr>\n",
       "      <th>12</th>\n",
       "      <td>0.0</td>\n",
       "    </tr>\n",
       "    <tr>\n",
       "      <th>14</th>\n",
       "      <td>0.0</td>\n",
       "    </tr>\n",
       "    <tr>\n",
       "      <th>39</th>\n",
       "      <td>0.0</td>\n",
       "    </tr>\n",
       "    <tr>\n",
       "      <th>67</th>\n",
       "      <td>0.0</td>\n",
       "    </tr>\n",
       "    <tr>\n",
       "      <th>...</th>\n",
       "      <td>...</td>\n",
       "    </tr>\n",
       "    <tr>\n",
       "      <th>7978</th>\n",
       "      <td>0.0</td>\n",
       "    </tr>\n",
       "    <tr>\n",
       "      <th>7983</th>\n",
       "      <td>200000.0</td>\n",
       "    </tr>\n",
       "    <tr>\n",
       "      <th>7991</th>\n",
       "      <td>0.0</td>\n",
       "    </tr>\n",
       "    <tr>\n",
       "      <th>7994</th>\n",
       "      <td>0.0</td>\n",
       "    </tr>\n",
       "    <tr>\n",
       "      <th>7999</th>\n",
       "      <td>0.0</td>\n",
       "    </tr>\n",
       "  </tbody>\n",
       "</table>\n",
       "<p>842 rows × 1 columns</p>\n",
       "</div>"
      ],
      "text/plain": [
       "      declared_monthly_revenue\n",
       "4                          0.0\n",
       "12                         0.0\n",
       "14                         0.0\n",
       "39                         0.0\n",
       "67                         0.0\n",
       "...                        ...\n",
       "7978                       0.0\n",
       "7983                  200000.0\n",
       "7991                       0.0\n",
       "7994                       0.0\n",
       "7999                       0.0\n",
       "\n",
       "[842 rows x 1 columns]"
      ]
     },
     "execution_count": 33,
     "metadata": {},
     "output_type": "execute_result"
    }
   ],
   "source": [
    "df_mkt_closed.query(\" sr_id.notna() and declared_monthly_revenue > 0 \")[['declared_monthly_revenue']]"
   ]
  },
  {
   "cell_type": "code",
   "execution_count": 32,
   "metadata": {},
   "outputs": [
    {
     "data": {
      "text/plain": [
       "array([0.0e+00, 1.0e+05, 2.0e+04, 6.0e+03, 1.8e+05, 3.0e+04, 6.0e+00,\n",
       "       1.5e+05, 1.0e+04, 2.5e+04, 5.0e+07, 2.1e+05, 1.5e+04, 2.5e+05,\n",
       "       8.0e+06, 4.0e+04, 5.0e+03, 4.0e+03, 3.0e+05, 6.0e+04, 1.0e+03,\n",
       "       5.0e+04, 5.0e+05, 1.3e+05, 1.2e+05, 8.0e+03, 2.0e+05])"
      ]
     },
     "execution_count": 32,
     "metadata": {},
     "output_type": "execute_result"
    }
   ],
   "source": [
    "df_mkt_closed.query(\" sr_id.notna() \")['declared_monthly_revenue'].unique()"
   ]
  },
  {
   "cell_type": "code",
   "execution_count": 26,
   "metadata": {},
   "outputs": [
    {
     "data": {
      "text/plain": [
       "business_segment\n",
       "NaN                                0.894875\n",
       "home_decor                         0.013125\n",
       "health_beauty                      0.011625\n",
       "car_accessories                    0.009625\n",
       "household_utilities                0.008875\n",
       "construction_tools_house_garden    0.008625\n",
       "audio_video_electronics            0.008000\n",
       "computers                          0.004250\n",
       "pet                                0.003750\n",
       "food_supplement                    0.003500\n",
       "food_drink                         0.003250\n",
       "sports_leisure                     0.003125\n",
       "bags_backpacks                     0.002750\n",
       "bed_bath_table                     0.002750\n",
       "toys                               0.002500\n",
       "fashion_accessories                0.002375\n",
       "home_office_furniture              0.001750\n",
       "stationery                         0.001625\n",
       "phone_mobile                       0.001625\n",
       "handcrafted                        0.001500\n",
       "small_appliances                   0.001500\n",
       "baby                               0.001250\n",
       "books                              0.001125\n",
       "music_instruments                  0.001125\n",
       "watches                            0.001000\n",
       "jewerly                            0.001000\n",
       "home_appliances                    0.000875\n",
       "party                              0.000625\n",
       "gifts                              0.000625\n",
       "other                              0.000375\n",
       "air_conditioning                   0.000375\n",
       "perfume                            0.000250\n",
       "games_consoles                     0.000250\n",
       "religious                          0.000125\n",
       "Name: proportion, dtype: float64"
      ]
     },
     "execution_count": 26,
     "metadata": {},
     "output_type": "execute_result"
    }
   ],
   "source": [
    "df_mkt_closed['business_segment'].value_counts(dropna=False, normalize=True)"
   ]
  },
  {
   "cell_type": "code",
   "execution_count": 25,
   "metadata": {},
   "outputs": [
    {
     "data": {
      "text/plain": [
       "business_type\n",
       "NaN             0.896000\n",
       "reseller        0.073375\n",
       "manufacturer    0.030250\n",
       "other           0.000375\n",
       "Name: proportion, dtype: float64"
      ]
     },
     "execution_count": 25,
     "metadata": {},
     "output_type": "execute_result"
    }
   ],
   "source": [
    "df_mkt_closed['business_type'].value_counts(dropna=False, normalize=True)"
   ]
  },
  {
   "cell_type": "code",
   "execution_count": null,
   "metadata": {},
   "outputs": [
    {
     "data": {
      "text/plain": [
       "origin\n",
       "organic_search       0.287000\n",
       "paid_search          0.198250\n",
       "social               0.168750\n",
       "unknown              0.137375\n",
       "direct_traffic       0.062375\n",
       "email                0.061625\n",
       "referral             0.035500\n",
       "other                0.018750\n",
       "display              0.014750\n",
       "other_publicities    0.008125\n",
       "NaN                  0.007500\n",
       "Name: proportion, dtype: float64"
      ]
     },
     "execution_count": 19,
     "metadata": {},
     "output_type": "execute_result"
    }
   ],
   "source": [
    "df_mkt_closed['origin'].value_counts(dropna=False, normalize=True)"
   ]
  },
  {
   "cell_type": "code",
   "execution_count": 21,
   "metadata": {},
   "outputs": [
    {
     "data": {
      "text/plain": [
       "lead_type\n",
       "NaN                0.895500\n",
       "online_medium      0.041500\n",
       "online_big         0.015750\n",
       "industry           0.015375\n",
       "offline            0.013000\n",
       "online_small       0.009625\n",
       "online_beginner    0.007125\n",
       "online_top         0.001750\n",
       "other              0.000375\n",
       "Name: proportion, dtype: float64"
      ]
     },
     "execution_count": 21,
     "metadata": {},
     "output_type": "execute_result"
    }
   ],
   "source": [
    "df_mkt_closed['lead_type'].value_counts(dropna=False, normalize=True)"
   ]
  },
  {
   "cell_type": "code",
   "execution_count": 22,
   "metadata": {},
   "outputs": [
    {
     "data": {
      "text/plain": [
       "lead_behaviour_profile\n",
       "NaN            0.916875\n",
       "cat            0.050875\n",
       "eagle          0.015375\n",
       "wolf           0.011875\n",
       "shark          0.003000\n",
       "cat, wolf      0.001000\n",
       "eagle, wolf    0.000375\n",
       "eagle, cat     0.000375\n",
       "shark, cat     0.000125\n",
       "shark, wolf    0.000125\n",
       "Name: proportion, dtype: float64"
      ]
     },
     "execution_count": 22,
     "metadata": {},
     "output_type": "execute_result"
    }
   ],
   "source": [
    "df_mkt_closed['lead_behaviour_profile'].value_counts(dropna=False, normalize=True)"
   ]
  },
  {
   "cell_type": "code",
   "execution_count": 23,
   "metadata": {},
   "outputs": [
    {
     "name": "stdout",
     "output_type": "stream",
     "text": [
      "MQL: 8000\n",
      "SQL: 842\n",
      "Won: 842\n"
     ]
    }
   ],
   "source": [
    "# Total de MQLs (todos los leads en el dataset)\n",
    "n_mql = df_mkt_closed['mql_id'].nunique()\n",
    "\n",
    "# SQLs: los que tienen un vendedor asignado (ej: sr_id no nulo)\n",
    "n_sql = df_mkt_closed[df_mkt_closed['sr_id'].notna()]['mql_id'].nunique()\n",
    "\n",
    "# Won: los que tienen una fecha de conversión\n",
    "n_won = df_mkt_closed[df_mkt_closed['won_date'].notna()]['mql_id'].nunique()\n",
    "\n",
    "print(\"MQL:\", n_mql)\n",
    "print(\"SQL:\", n_sql)\n",
    "print(\"Won:\", n_won)"
   ]
  },
  {
   "cell_type": "code",
   "execution_count": 24,
   "metadata": {},
   "outputs": [
    {
     "name": "stdout",
     "output_type": "stream",
     "text": [
      "Tasa MQL → SQL: 10.53%\n",
      "Tasa SQL → Won: 100.00%\n",
      "Tasa MQL → Won: 10.53%\n"
     ]
    }
   ],
   "source": [
    "conversion_mql_to_sql = n_sql / n_mql\n",
    "conversion_sql_to_won = n_won / n_sql\n",
    "conversion_mql_to_won = n_won / n_mql\n",
    "\n",
    "print(f\"Tasa MQL → SQL: {conversion_mql_to_sql:.2%}\")\n",
    "print(f\"Tasa SQL → Won: {conversion_sql_to_won:.2%}\")\n",
    "print(f\"Tasa MQL → Won: {conversion_mql_to_won:.2%}\")"
   ]
  },
  {
   "cell_type": "code",
   "execution_count": 42,
   "metadata": {},
   "outputs": [
    {
     "name": "stdout",
     "output_type": "stream",
     "text": [
      "<class 'pandas.core.frame.DataFrame'>\n",
      "RangeIndex: 8000 entries, 0 to 7999\n",
      "Data columns (total 18 columns):\n",
      " #   Column                         Non-Null Count  Dtype         \n",
      "---  ------                         --------------  -----         \n",
      " 0   mql_id                         8000 non-null   object        \n",
      " 1   first_contact_date             8000 non-null   datetime64[ns]\n",
      " 2   landing_page_id                8000 non-null   object        \n",
      " 3   origin                         8000 non-null   object        \n",
      " 4   seller_id                      842 non-null    object        \n",
      " 5   sdr_id                         842 non-null    object        \n",
      " 6   sr_id                          842 non-null    object        \n",
      " 7   won_date                       842 non-null    datetime64[ns]\n",
      " 8   business_segment               841 non-null    object        \n",
      " 9   lead_type                      836 non-null    object        \n",
      " 10  lead_behaviour_profile         665 non-null    object        \n",
      " 11  has_company                    63 non-null     object        \n",
      " 12  has_gtin                       64 non-null     object        \n",
      " 13  average_stock                  66 non-null     object        \n",
      " 14  business_type                  832 non-null    object        \n",
      " 15  declared_product_catalog_size  69 non-null     float64       \n",
      " 16  declared_monthly_revenue       842 non-null    float64       \n",
      " 17  target                         8000 non-null   int64         \n",
      "dtypes: datetime64[ns](2), float64(2), int64(1), object(13)\n",
      "memory usage: 1.1+ MB\n"
     ]
    }
   ],
   "source": [
    "df_mkt_closed.info()"
   ]
  },
  {
   "cell_type": "code",
   "execution_count": null,
   "metadata": {},
   "outputs": [],
   "source": []
  }
 ],
 "metadata": {
  "kernelspec": {
   "display_name": "Python 3",
   "language": "python",
   "name": "python3"
  },
  "language_info": {
   "codemirror_mode": {
    "name": "ipython",
    "version": 3
   },
   "file_extension": ".py",
   "mimetype": "text/x-python",
   "name": "python",
   "nbconvert_exporter": "python",
   "pygments_lexer": "ipython3",
   "version": "3.13.3"
  }
 },
 "nbformat": 4,
 "nbformat_minor": 2
}
